{
  "nbformat": 4,
  "nbformat_minor": 0,
  "metadata": {
    "colab": {
      "provenance": [],
      "toc_visible": true
    },
    "kernelspec": {
      "name": "python3",
      "display_name": "Python 3"
    },
    "language_info": {
      "name": "python"
    }
  },
  "cells": [
    {
      "cell_type": "markdown",
      "source": [
        "# TP - 02"
      ],
      "metadata": {
        "id": "Oa8fYZSvirvf"
      }
    },
    {
      "cell_type": "markdown",
      "source": [
        "Vectorización de texto y modelo de clasificación Naïve Bayes con el dataset 20 newsgroups"
      ],
      "metadata": {
        "id": "OhETaeoKiRqm"
      }
    },
    {
      "cell_type": "code",
      "source": [
        "# Importación de módulos estándar de Python\n",
        "import json\n",
        "import logging\n",
        "import os\n",
        "import random as rd\n",
        "import re\n",
        "import string\n",
        "from io import StringIO\n",
        "from pathlib import Path\n",
        "\n",
        "# Importación de bibliotecas científicas y de análisis de datos\n",
        "import numpy as np\n",
        "import pandas as pd\n",
        "\n",
        "# Importación de bibliotecas para gráficos\n",
        "import matplotlib.pyplot as plt\n",
        "import seaborn as sns\n",
        "\n",
        "# Importación de bibliotecas de machine learning y procesamiento de texto\n",
        "from gensim.models import Word2Vec\n",
        "from gensim.models.callbacks import CallbackAny2Vec\n",
        "from keras.preprocessing.text import text_to_word_sequence\n",
        "from sklearn.datasets import fetch_20newsgroups\n",
        "from sklearn.feature_extraction.text import CountVectorizer, TfidfVectorizer\n",
        "from sklearn.metrics import f1_score, pairwise as cosine_similarity\n",
        "from sklearn.naive_bayes import ComplementNB, MultinomialNB\n",
        "\n",
        "# Otras importaciones\n",
        "import gdown\n",
        "import multiprocessing\n",
        "import pickle\n",
        "\n",
        "from sklearn.decomposition import IncrementalPCA\n",
        "from sklearn.manifold import TSNE\n",
        "import numpy as np\n"
      ],
      "metadata": {
        "id": "cIOEmb7oipmx"
      },
      "execution_count": null,
      "outputs": []
    },
    {
      "cell_type": "markdown",
      "source": [
        "## Preprocesamiento con NLTK (Natural Language Toolkit)"
      ],
      "metadata": {
        "id": "bpKL_3O7pOoV"
      }
    },
    {
      "cell_type": "code",
      "source": [
        "simple_text = \"if she leaves now she might miss something important!\"\n",
        "large_text = \"Patients who in late middle age have smoked 20 cigarettes a day since their teens constitute an at-risk group. One thing they’re clearly at risk for is the acute sense of guilt that a clinician can incite, which immediately makes a consultation tense.\""
      ],
      "metadata": {
        "id": "VmoYdL2apIeS"
      },
      "execution_count": null,
      "outputs": []
    },
    {
      "cell_type": "code",
      "source": [
        "import nltk\n",
        "from nltk.tokenize import word_tokenize\n",
        "from nltk.corpus import stopwords\n",
        "\n",
        "# Descargar tokenizador punkt\n",
        "nltk.download(\"punkt\")\n",
        "# Descargar la red de semántica del inglés WordNet, es una extensa red semántica que puede usarse para hacer POS tagging o lematizar.\n",
        "nltk.download(\"wordnet\")\n",
        "# Descargar diccionario de stopwords del inglés\n",
        "nltk.download('stopwords')\n",
        "# Para usar NLTK 3.6.6 o superior es necesario instalar OMW 1.4\n",
        "# (Open Multilingual WordNet)\n",
        "nltk.download('omw-1.4')"
      ],
      "metadata": {
        "colab": {
          "base_uri": "https://localhost:8080/"
        },
        "id": "vBS6SqG5uelx",
        "outputId": "f4b3e502-8a6a-456c-f745-e8aa9811d52d"
      },
      "execution_count": null,
      "outputs": [
        {
          "output_type": "stream",
          "name": "stderr",
          "text": [
            "[nltk_data] Downloading package punkt to /root/nltk_data...\n",
            "[nltk_data]   Unzipping tokenizers/punkt.zip.\n",
            "[nltk_data] Downloading package wordnet to /root/nltk_data...\n",
            "[nltk_data] Downloading package stopwords to /root/nltk_data...\n",
            "[nltk_data]   Unzipping corpora/stopwords.zip.\n",
            "[nltk_data] Downloading package omw-1.4 to /root/nltk_data...\n"
          ]
        },
        {
          "output_type": "execute_result",
          "data": {
            "text/plain": [
              "True"
            ]
          },
          "metadata": {},
          "execution_count": 3
        }
      ]
    },
    {
      "cell_type": "code",
      "source": [
        "# Instanciar el derivador, NLTK provee varios derivadores para elegir: https://www.nltk.org/api/nltk.stem.html\n",
        "from nltk.stem.porter import *\n",
        "p_stemmer = PorterStemmer()"
      ],
      "metadata": {
        "id": "x6-GCTyhu_ak"
      },
      "execution_count": null,
      "outputs": []
    },
    {
      "cell_type": "code",
      "source": [
        "# Instanciar el lematizador\n",
        "from nltk.stem import WordNetLemmatizer\n",
        "lemmatizer = WordNetLemmatizer()"
      ],
      "metadata": {
        "id": "wHLHGGiPvEOq"
      },
      "execution_count": null,
      "outputs": []
    },
    {
      "cell_type": "code",
      "source": [
        "# Ejemplo de extraer los tokens de un doc\n",
        "tokens = word_tokenize(simple_text)\n",
        "print(\"Tokens:\", tokens)"
      ],
      "metadata": {
        "colab": {
          "base_uri": "https://localhost:8080/"
        },
        "id": "Db-aBQeOvMbZ",
        "outputId": "87e133a3-855c-4be1-f541-1660155ea6db"
      },
      "execution_count": null,
      "outputs": [
        {
          "output_type": "stream",
          "name": "stdout",
          "text": [
            "Tokens: ['if', 'she', 'leaves', 'now', 'she', 'might', 'miss', 'something', 'important', '!']\n"
          ]
        }
      ]
    },
    {
      "cell_type": "code",
      "source": [
        "# Transformar los tokens a sus respectivas palabras derivadas\n",
        "# Stemming\n",
        "nltk_stemedList = []\n",
        "for word in tokens:\n",
        "    nltk_stemedList.append(p_stemmer.stem(word))\n",
        "print(\"Stemming:\", nltk_stemedList)"
      ],
      "metadata": {
        "colab": {
          "base_uri": "https://localhost:8080/"
        },
        "id": "VxC_l4x15ccz",
        "outputId": "b8e2c186-1a27-47c7-b3a2-586e242ce354"
      },
      "execution_count": null,
      "outputs": [
        {
          "output_type": "stream",
          "name": "stdout",
          "text": [
            "Stemming: ['if', 'she', 'leav', 'now', 'she', 'might', 'miss', 'someth', 'import', '!']\n"
          ]
        }
      ]
    },
    {
      "cell_type": "code",
      "source": [
        "# Transformar los tokens a sus respectivas palabras raiz\n",
        "# Lemmatization\n",
        "nltk_lemmaList = []\n",
        "for word in tokens:\n",
        "    nltk_lemmaList.append(lemmatizer.lemmatize(word))\n",
        "print(\"Lemmatization:\", nltk_lemmaList)"
      ],
      "metadata": {
        "colab": {
          "base_uri": "https://localhost:8080/"
        },
        "id": "D0N2FTt5GGUI",
        "outputId": "67eda584-f48e-4cea-e962-fababc9d9528"
      },
      "execution_count": null,
      "outputs": [
        {
          "output_type": "stream",
          "name": "stdout",
          "text": [
            "Lemmatization: ['if', 'she', 'leaf', 'now', 'she', 'might', 'miss', 'something', 'important', '!']\n"
          ]
        }
      ]
    },
    {
      "cell_type": "code",
      "source": [
        "# Quitar los signos de puntuacion\n",
        "nltk_punctuation = [w for w in nltk_lemmaList if w not in string.punctuation]\n",
        "print(\"Punctuation filter:\", nltk_punctuation)"
      ],
      "metadata": {
        "colab": {
          "base_uri": "https://localhost:8080/"
        },
        "id": "aSUDlmdgGty9",
        "outputId": "5ed7073e-4f49-4941-f754-1608c6aff8ae"
      },
      "execution_count": null,
      "outputs": [
        {
          "output_type": "stream",
          "name": "stdout",
          "text": [
            "Punctuation filter: ['if', 'she', 'leaf', 'now', 'she', 'might', 'miss', 'something', 'important']\n"
          ]
        }
      ]
    },
    {
      "cell_type": "code",
      "source": [
        "nltk_stop_words = set(stopwords.words(\"english\"))\n",
        "len(nltk_stop_words)"
      ],
      "metadata": {
        "colab": {
          "base_uri": "https://localhost:8080/"
        },
        "id": "HDNIS26kGwm2",
        "outputId": "a02bb86d-35ea-4e53-c91a-25b2b61d1d97"
      },
      "execution_count": null,
      "outputs": [
        {
          "output_type": "execute_result",
          "data": {
            "text/plain": [
              "179"
            ]
          },
          "metadata": {},
          "execution_count": 10
        }
      ]
    },
    {
      "cell_type": "code",
      "source": [
        "# Filtrar stopwords\n",
        "nltk_stop_words = set(stopwords.words(\"english\"))\n",
        "filtered_sentence = [w for w in nltk_punctuation if w not in nltk_stop_words]\n",
        "print(\"Stop words filter:\", filtered_sentence)"
      ],
      "metadata": {
        "colab": {
          "base_uri": "https://localhost:8080/"
        },
        "id": "Lb7kjWU9G6m9",
        "outputId": "56d211b6-18ca-4663-ab3c-40aa27039ffc"
      },
      "execution_count": null,
      "outputs": [
        {
          "output_type": "stream",
          "name": "stdout",
          "text": [
            "Stop words filter: ['leaf', 'might', 'miss', 'something', 'important']\n"
          ]
        }
      ]
    },
    {
      "cell_type": "markdown",
      "source": [
        "🤖 Proceso completo con NLTK\n",
        "Tokenization → Lemmatization → Remove stopwords → Remove punctuation"
      ],
      "metadata": {
        "id": "FNUnYb9UHAoQ"
      }
    },
    {
      "cell_type": "code",
      "source": [
        "def nltk_process(text):\n",
        "    # Tokenization\n",
        "    nltk_tokenList = word_tokenize(text)\n",
        "\n",
        "    # Lemmatization\n",
        "    lemmatizer = WordNetLemmatizer()\n",
        "    nltk_lemmaList = []\n",
        "    for word in nltk_tokenList:\n",
        "        nltk_lemmaList.append(lemmatizer.lemmatize(word))\n",
        "\n",
        "    print(\"Lemmatization\")\n",
        "    print(nltk_lemmaList)\n",
        "\n",
        "    # Stop words\n",
        "    nltk_stop_words = set(stopwords.words(\"english\"))\n",
        "    filtered_sentence = [w for w in nltk_lemmaList if w not in nltk_stop_words]\n",
        "\n",
        "    # Filter Punctuation\n",
        "    filtered_sentence = [w for w in filtered_sentence if w not in string.punctuation]\n",
        "\n",
        "    print(\" \")\n",
        "    print(\"Remove stopword & Punctuation\")\n",
        "    print(filtered_sentence)\n",
        "    return filtered_sentence"
      ],
      "metadata": {
        "id": "weoCECrKHrtm"
      },
      "execution_count": null,
      "outputs": []
    },
    {
      "cell_type": "code",
      "source": [
        "nltk_text = nltk_process(large_text)\n",
        "print(\"Text len:\", len(nltk_text))"
      ],
      "metadata": {
        "colab": {
          "base_uri": "https://localhost:8080/"
        },
        "id": "NMBWYPdJHwON",
        "outputId": "7c3c7deb-1fb0-4d28-e8a5-3d7e5e225478"
      },
      "execution_count": null,
      "outputs": [
        {
          "output_type": "stream",
          "name": "stdout",
          "text": [
            "Lemmatization\n",
            "['Patients', 'who', 'in', 'late', 'middle', 'age', 'have', 'smoked', '20', 'cigarette', 'a', 'day', 'since', 'their', 'teen', 'constitute', 'an', 'at-risk', 'group', '.', 'One', 'thing', 'they', '’', 're', 'clearly', 'at', 'risk', 'for', 'is', 'the', 'acute', 'sense', 'of', 'guilt', 'that', 'a', 'clinician', 'can', 'incite', ',', 'which', 'immediately', 'make', 'a', 'consultation', 'tense', '.']\n",
            " \n",
            "Remove stopword & Punctuation\n",
            "['Patients', 'late', 'middle', 'age', 'smoked', '20', 'cigarette', 'day', 'since', 'teen', 'constitute', 'at-risk', 'group', 'One', 'thing', '’', 'clearly', 'risk', 'acute', 'sense', 'guilt', 'clinician', 'incite', 'immediately', 'make', 'consultation', 'tense']\n",
            "Text len: 27\n"
          ]
        }
      ]
    },
    {
      "cell_type": "markdown",
      "source": [
        "## Procesamiento con spaCy\n",
        "Tokenization → Lemmatization → Remove stopwords → Remove punctuation"
      ],
      "metadata": {
        "id": "BDRT-9rKIDWQ"
      }
    },
    {
      "cell_type": "code",
      "source": [
        "import spacy\n",
        "# Cargar pipeline de preprocesamiento de inglés\n",
        "nlp = spacy.load('en_core_web_sm')\n",
        "\n",
        "def spacy_process(text):\n",
        "    doc = nlp(text)\n",
        "\n",
        "    # Tokenization & lemmatization\n",
        "    lemma_list = []\n",
        "    for token in doc:\n",
        "        lemma_list.append(token.lemma_)\n",
        "    print(\"Tokenize+Lemmatize:\")\n",
        "    print(lemma_list)\n",
        "\n",
        "    # Stop words\n",
        "    filtered_sentence =[]\n",
        "    for word in lemma_list:\n",
        "        # word es un string, para recuperar la información de los objetos de SpaCy\n",
        "        # necesitamos usar el string para pasar a un lexema, el objeto de SpaCy\n",
        "        # que para cada término contiene la información del preprocesamiento\n",
        "        # (se podría también directamente filtrar stopwords en el paso de lematización)\n",
        "        lexeme = nlp.vocab[word]\n",
        "        if lexeme.is_stop == False:\n",
        "            filtered_sentence.append(word)\n",
        "\n",
        "    # Filter punctuation\n",
        "    filtered_sentence = [w for w in filtered_sentence if w not in string.punctuation]\n",
        "\n",
        "    print(\" \")\n",
        "    print(\"Remove stopword & punctuation: \")\n",
        "    print(filtered_sentence)\n",
        "    return filtered_sentence"
      ],
      "metadata": {
        "id": "knZAxC0hH74k"
      },
      "execution_count": null,
      "outputs": []
    },
    {
      "cell_type": "code",
      "source": [
        "spacy_text = spacy_process(large_text)\n",
        "print(\"Text len:\", len(nltk_text))"
      ],
      "metadata": {
        "colab": {
          "base_uri": "https://localhost:8080/"
        },
        "id": "KpPfxX94IlwV",
        "outputId": "9cb04352-91d1-48f4-a021-7814aed28176"
      },
      "execution_count": null,
      "outputs": [
        {
          "output_type": "stream",
          "name": "stdout",
          "text": [
            "Tokenize+Lemmatize:\n",
            "['patient', 'who', 'in', 'late', 'middle', 'age', 'have', 'smoke', '20', 'cigarette', 'a', 'day', 'since', 'their', 'teen', 'constitute', 'an', 'at', '-', 'risk', 'group', '.', 'one', 'thing', 'they', '’re', 'clearly', 'at', 'risk', 'for', 'be', 'the', 'acute', 'sense', 'of', 'guilt', 'that', 'a', 'clinician', 'can', 'incite', ',', 'which', 'immediately', 'make', 'a', 'consultation', 'tense', '.']\n",
            " \n",
            "Remove stopword & punctuation: \n",
            "['patient', 'late', 'middle', 'age', 'smoke', '20', 'cigarette', 'day', 'teen', 'constitute', 'risk', 'group', 'thing', 'clearly', 'risk', 'acute', 'sense', 'guilt', 'clinician', 'incite', 'immediately', 'consultation', 'tense']\n",
            "Text len: 27\n"
          ]
        }
      ]
    },
    {
      "cell_type": "code",
      "source": [
        "from prettytable import PrettyTable\n",
        "table = PrettyTable(['NLTK', 'spaCy'])\n",
        "for nltk_word, spacy_word in zip(nltk_text, spacy_text):\n",
        "    table.add_row([nltk_word, spacy_word])\n",
        "print(table)"
      ],
      "metadata": {
        "colab": {
          "base_uri": "https://localhost:8080/"
        },
        "id": "LjYqI6L2IuC9",
        "outputId": "5e83bebf-d209-4629-97d5-fb8e3fad69a4"
      },
      "execution_count": null,
      "outputs": [
        {
          "output_type": "stream",
          "name": "stdout",
          "text": [
            "+------------+--------------+\n",
            "|    NLTK    |    spaCy     |\n",
            "+------------+--------------+\n",
            "|  Patients  |   patient    |\n",
            "|    late    |     late     |\n",
            "|   middle   |    middle    |\n",
            "|    age     |     age      |\n",
            "|   smoked   |    smoke     |\n",
            "|     20     |      20      |\n",
            "| cigarette  |  cigarette   |\n",
            "|    day     |     day      |\n",
            "|   since    |     teen     |\n",
            "|    teen    |  constitute  |\n",
            "| constitute |     risk     |\n",
            "|  at-risk   |    group     |\n",
            "|   group    |    thing     |\n",
            "|    One     |   clearly    |\n",
            "|   thing    |     risk     |\n",
            "|     ’      |    acute     |\n",
            "|  clearly   |    sense     |\n",
            "|    risk    |    guilt     |\n",
            "|   acute    |  clinician   |\n",
            "|   sense    |    incite    |\n",
            "|   guilt    | immediately  |\n",
            "| clinician  | consultation |\n",
            "|   incite   |    tense     |\n",
            "+------------+--------------+\n"
          ]
        }
      ]
    },
    {
      "cell_type": "markdown",
      "source": [
        "## Word Embeddings con Glove y Fasttext"
      ],
      "metadata": {
        "id": "ppOaMI5pLx4f"
      }
    },
    {
      "cell_type": "code",
      "source": [
        "url = 'https://drive.google.com/u/0/uc?id=1Qi1r-u5lsEsNqRSxLrpNOqQ3B_ufltCa'\n",
        "output = 'fasttext.pkl'\n",
        "gdown.download(url, output, quiet=False)"
      ],
      "metadata": {
        "colab": {
          "base_uri": "https://localhost:8080/",
          "height": 122
        },
        "id": "DxyHWf_ELrWk",
        "outputId": "bb9c3df0-4d12-4086-d7b5-5b9db14ac1db"
      },
      "execution_count": null,
      "outputs": [
        {
          "output_type": "stream",
          "name": "stderr",
          "text": [
            "Downloading...\n",
            "From (original): https://drive.google.com/u/0/uc?id=1Qi1r-u5lsEsNqRSxLrpNOqQ3B_ufltCa\n",
            "From (redirected): https://drive.google.com/uc?id=1Qi1r-u5lsEsNqRSxLrpNOqQ3B_ufltCa&confirm=t&uuid=7acc150b-cb8f-4307-b79e-40d4e40ee179\n",
            "To: /content/fasttext.pkl\n",
            "100%|██████████| 2.88G/2.88G [00:40<00:00, 71.7MB/s]\n"
          ]
        },
        {
          "output_type": "execute_result",
          "data": {
            "text/plain": [
              "'fasttext.pkl'"
            ],
            "application/vnd.google.colaboratory.intrinsic+json": {
              "type": "string"
            }
          },
          "metadata": {},
          "execution_count": 17
        }
      ]
    },
    {
      "cell_type": "code",
      "source": [
        "# Definimos una clase que nos va a permitir manejar los embeddings de GloVe y fastText con la misma interfaz.\n",
        "# Incluye cómo cargar los embeddings a partir de sus pickles (formato de datos serializados de Python) y guardarlos.\n",
        "# Funciones para obtener términos dados índices y viceversa.\n",
        "\n",
        "class WordsEmbeddings(object):\n",
        "    logger = logging.getLogger(__name__)  # Inicializamos un logger para la clase\n",
        "\n",
        "    def __init__(self):\n",
        "        # Definimos la ruta del archivo pickle que almacenará los embeddings\n",
        "        words_embedding_pkl = Path(self.PKL_PATH)\n",
        "        # Si el archivo pickle no existe, cargamos el archivo de texto de embeddings y lo convertimos a pickle\n",
        "        if not words_embedding_pkl.is_file():\n",
        "            words_embedding_txt = Path(self.WORD_TO_VEC_MODEL_TXT_PATH)\n",
        "            # Aseguramos que el archivo de texto con los embeddings exista\n",
        "            assert words_embedding_txt.is_file(), 'Words embedding not available'\n",
        "            # Convertimos el modelo de texto a pickle\n",
        "            embeddings = self.convert_model_to_pickle()\n",
        "        else:\n",
        "            # Si el archivo pickle existe, cargamos los embeddings desde el archivo pickle\n",
        "            embeddings = self.load_model_from_pickle()\n",
        "        self.embeddings = embeddings  # Asignamos los embeddings cargados a un atributo de la clase\n",
        "\n",
        "        # Construimos el hashmap del vocabulario\n",
        "        index = np.arange(self.embeddings.shape[0])  # Creamos un array de índices\n",
        "        # Diccionarios para traducir de palabra a índice y viceversa\n",
        "        self.word2idx = dict(zip(self.embeddings['word'], index))\n",
        "        self.idx2word = dict(zip(index, self.embeddings['word']))\n",
        "\n",
        "    # Función para obtener embeddings de palabras\n",
        "    def get_words_embeddings(self, words):\n",
        "        words_idxs = self.words2idxs(words)  # Convertimos las palabras a sus índices\n",
        "        return self.embeddings[words_idxs]['embedding']  # Devolvemos los embeddings correspondientes\n",
        "\n",
        "    # Función para convertir palabras a índices\n",
        "    def words2idxs(self, words):\n",
        "        return np.array([self.word2idx.get(word, -1) for word in words])  # Convertimos palabras a índices, devolviendo -1 si no se encuentra la palabra\n",
        "\n",
        "    # Función para convertir índices a palabras\n",
        "    def idxs2words(self, idxs):\n",
        "        return np.array([self.idx2word.get(idx, '-1') for idx in idxs])  # Convertimos índices a palabras, devolviendo '-1' si no se encuentra el índice\n",
        "\n",
        "    # Función para cargar el modelo desde un archivo pickle\n",
        "    def load_model_from_pickle(self):\n",
        "        self.logger.debug('loading words embeddings from pickle {}'.format(self.PKL_PATH))\n",
        "        max_bytes = 2**28 - 1  # 256MB\n",
        "        bytes_in = bytearray(0)\n",
        "        input_size = os.path.getsize(self.PKL_PATH)  # Obtenemos el tamaño del archivo pickle\n",
        "        with open(self.PKL_PATH, 'rb') as f_in:\n",
        "            for _ in range(0, input_size, max_bytes):\n",
        "                bytes_in += f_in.read(max_bytes)  # Leemos el archivo en bloques de 256MB\n",
        "        embeddings = pickle.loads(bytes_in)  # Deserializamos el contenido del archivo\n",
        "        self.logger.debug('words embeddings loaded')\n",
        "        return embeddings\n",
        "\n",
        "    # Función para convertir el modelo de un archivo de texto a un archivo pickle\n",
        "    def convert_model_to_pickle(self):\n",
        "        self.logger.debug('converting and loading words embeddings from text file {}'.format(self.WORD_TO_VEC_MODEL_TXT_PATH))\n",
        "        # Definimos la estructura del array numpy\n",
        "        structure = [('word', np.dtype('U' + str(self.WORD_MAX_SIZE))), ('embedding', np.float32, (self.N_FEATURES,))]\n",
        "        structure = np.dtype(structure)\n",
        "        # Cargamos el archivo de texto y creamos un generador de embeddings\n",
        "        with open(self.WORD_TO_VEC_MODEL_TXT_PATH, encoding=\"utf8\") as words_embeddings_txt:\n",
        "            embeddings_gen = (\n",
        "                (line.split()[0], line.split()[1:]) for line in words_embeddings_txt\n",
        "                if len(line.split()[1:]) == self.N_FEATURES\n",
        "            )\n",
        "            embeddings = np.fromiter(embeddings_gen, structure)  # Convertimos el generador a un array numpy\n",
        "        # Añadimos un embedding nulo\n",
        "        null_embedding = np.array(\n",
        "            [('null_embedding', np.zeros((self.N_FEATURES,), dtype=np.float32))],\n",
        "            dtype=structure\n",
        "        )\n",
        "        embeddings = np.concatenate([embeddings, null_embedding])  # Concatenamos el embedding nulo con los embeddings\n",
        "        # Guardamos los embeddings en un archivo pickle\n",
        "        max_bytes = 2**28 - 1  # 256MB\n",
        "        bytes_out = pickle.dumps(embeddings, protocol=pickle.HIGHEST_PROTOCOL)\n",
        "        with open(self.PKL_PATH, 'wb') as f_out:\n",
        "            for idx in range(0, len(bytes_out), max_bytes):\n",
        "                f_out.write(bytes_out[idx:idx+max_bytes])  # Escribimos el archivo en bloques de 256MB\n",
        "        self.logger.debug('words embeddings loaded')\n",
        "        return embeddings\n",
        "\n",
        "# Clases particulares para manejar los embeddings de GloVe y fastText que heredan de la clase anterior WordsEmbeddings\n",
        "class GloveEmbeddings(WordsEmbeddings):\n",
        "    WORD_TO_VEC_MODEL_TXT_PATH = 'glove.twitter.27B.50d.txt'  # Ruta del archivo de texto de GloVe\n",
        "    PKL_PATH = 'gloveembedding.pkl'  # Ruta del archivo pickle de GloVe\n",
        "    N_FEATURES = 50  # Número de características de cada embedding\n",
        "    WORD_MAX_SIZE = 60  # Tamaño máximo de las palabras\n",
        "\n",
        "class FasttextEmbeddings(WordsEmbeddings):\n",
        "    WORD_TO_VEC_MODEL_TXT_PATH = 'cc.en.300.vec'  # Ruta del archivo de texto de fastText\n",
        "    PKL_PATH = 'fasttext.pkl'  # Ruta del archivo pickle de fastText\n",
        "    N_FEATURES = 300  # Número de características de cada embedding\n",
        "    WORD_MAX_SIZE = 60  # Tamaño máximo de las palabras\n"
      ],
      "metadata": {
        "id": "h2oqtW1cZ_qc"
      },
      "execution_count": null,
      "outputs": []
    },
    {
      "cell_type": "code",
      "source": [
        "# Armamos una función para graficar la matriz de similaridad\n",
        "def plot_matrix_distance(words, dist):\n",
        "    fig = plt.figure(figsize=(16,9))\n",
        "    ax = fig.add_subplot()\n",
        "    sns.heatmap(dist, xticklabels=words, yticklabels=words,\n",
        "                annot=True, fmt=\".2f\", cmap=\"YlGnBu\", ax=ax, mask=np.triu(dist))\n",
        "    plt.show()"
      ],
      "metadata": {
        "id": "i3mKDvonVr88"
      },
      "execution_count": null,
      "outputs": []
    },
    {
      "cell_type": "code",
      "source": [
        "# Ojo que si usan scipy la distancia coseno no es la similitud coseno (esta \"negada\")\n",
        "from sklearn.metrics import pairwise\n",
        "\n",
        "def embeddings_matrix_distance(model, words):\n",
        "    print(\"Cantidad de palabras:\", len(words))\n",
        "    emb = model.get_words_embeddings(words)\n",
        "    print(\"Dimensiones de los embeddings:\", emb.shape)\n",
        "    dist = pairwise.cosine_similarity(emb, emb)\n",
        "    plot_matrix_distance(words, dist)"
      ],
      "metadata": {
        "id": "kcJUhQmvVxjL"
      },
      "execution_count": null,
      "outputs": []
    },
    {
      "cell_type": "code",
      "source": [
        "# Instanciamos embedding de fasttext\n",
        "# Puede demorar unos segundos porque tiene que cargar en memoria los archivos de embeddings\n",
        "model_fasttext = FasttextEmbeddings()\n",
        "words_fasttext=[model_fasttext.embeddings[i][0] for i in range(model_fasttext.embeddings.shape[0])]"
      ],
      "metadata": {
        "id": "XZIqbAcda3Q0"
      },
      "execution_count": null,
      "outputs": []
    },
    {
      "cell_type": "code",
      "source": [
        "# cantidad de palabras en fasttext\n",
        "model_fasttext.embeddings.shape[0]"
      ],
      "metadata": {
        "colab": {
          "base_uri": "https://localhost:8080/"
        },
        "id": "HjT0ms1zcaNk",
        "outputId": "511a3abc-7a65-479c-f2c2-69b72aea8490"
      },
      "execution_count": null,
      "outputs": [
        {
          "output_type": "execute_result",
          "data": {
            "text/plain": [
              "2000001"
            ]
          },
          "metadata": {},
          "execution_count": 22
        }
      ]
    },
    {
      "cell_type": "code",
      "source": [
        "# Palabras a ensayar\n",
        "# Algunas relativas con saludos y otras con dispositivos\n",
        "words = [\"hi\", \"hello\", \"bye\", \"goodbye\", \"morning\", \"computer\", \"machine\", \"laptop\", \"device\", \"printer\"]"
      ],
      "metadata": {
        "id": "AlIINGkFcfnc"
      },
      "execution_count": null,
      "outputs": []
    },
    {
      "cell_type": "code",
      "source": [
        "embeddings_matrix_distance(model_fasttext, words)"
      ],
      "metadata": {
        "colab": {
          "base_uri": "https://localhost:8080/",
          "height": 790
        },
        "id": "YvRD75v2cjBT",
        "outputId": "b6c3a0f7-f32c-4f21-a053-092bc1933547"
      },
      "execution_count": null,
      "outputs": [
        {
          "output_type": "stream",
          "name": "stdout",
          "text": [
            "Cantidad de palabras: 10\n",
            "Dimensiones de los embeddings: (10, 300)\n"
          ]
        },
        {
          "output_type": "display_data",
          "data": {
            "text/plain": [
              "<Figure size 1600x900 with 2 Axes>"
            ],
            "image/png": "[encoded data removed]"
          },
          "metadata": {}
        }
      ]
    },
    {
      "cell_type": "code",
      "source": [
        "# probamos un test de analogía\n",
        "test_words = ['king', 'man', 'woman', 'queen']\n",
        "test_emb = model_fasttext.get_words_embeddings(test_words)\n",
        "\n",
        "# king - man + woman\n",
        "new_queen = test_emb[0] - test_emb[1] + test_emb[2]\n",
        "\n",
        "new_words = test_words + ['new_queen']\n",
        "new_emb = np.append(test_emb, new_queen.reshape(1, -1), axis=0)\n",
        "\n",
        "dist = pairwise.cosine_similarity(new_emb, new_emb)\n",
        "\n",
        "plot_matrix_distance(new_words, dist)"
      ],
      "metadata": {
        "colab": {
          "base_uri": "https://localhost:8080/",
          "height": 753
        },
        "id": "8Gj31QKmcuT7",
        "outputId": "7e622052-2c8c-4605-d96a-4255d9edbcbf"
      },
      "execution_count": null,
      "outputs": [
        {
          "output_type": "display_data",
          "data": {
            "text/plain": [
              "<Figure size 1600x900 with 2 Axes>"
            ],
            "image/png": "[encoded data removed]"
          },
          "metadata": {}
        }
      ]
    },
    {
      "cell_type": "code",
      "source": [
        "# mas allá de las palabras propuestas, podemos ver cuál sería la palabra\n",
        "# cuyo embedding es más similar al de 'new_queen'\n",
        "# para ello vamos a disponibilizar los embeddings como un numpy array\n",
        "embeddings_fasttext = []\n",
        "for idx,emb in enumerate(model_fasttext.embeddings):\n",
        "  embeddings_fasttext.append(emb[1])\n",
        "embeddings_fasttext = np.array(embeddings_fasttext)"
      ],
      "metadata": {
        "id": "tId__yj4VHiL"
      },
      "execution_count": null,
      "outputs": []
    },
    {
      "cell_type": "code",
      "source": [
        "# calculamos la similaridad de 'new_queen' contra todos los vectores\n",
        "# puede tardar unos segundos\n",
        "similarities = np.squeeze(pairwise.cosine_similarity(embeddings_fasttext,np.array([new_queen])))"
      ],
      "metadata": {
        "id": "s19PM9hnVPhr"
      },
      "execution_count": null,
      "outputs": []
    },
    {
      "cell_type": "code",
      "source": [
        "# vemos cuáles son los 10 vectores más similares\n",
        "args_sorted = np.argsort(similarities)[::-1][:10]\n",
        "for arg in args_sorted:\n",
        "  print(f'{words_fasttext[arg]}: {similarities[arg]}')"
      ],
      "metadata": {
        "colab": {
          "base_uri": "https://localhost:8080/"
        },
        "id": "GgGIv4zmVUa7",
        "outputId": "dd2ae0e6-9112-40df-9916-b78324e8baa3"
      },
      "execution_count": null,
      "outputs": [
        {
          "output_type": "stream",
          "name": "stdout",
          "text": [
            "king: 0.7286648154258728\n",
            "queen: 0.6542776823043823\n",
            "kings: 0.5410012006759644\n",
            "queen-mother: 0.5250992178916931\n",
            "Queen: 0.5074200630187988\n",
            "royal: 0.5004721879959106\n",
            "king-: 0.49447429180145264\n",
            "queens: 0.49149155616760254\n",
            "monarch: 0.49141061305999756\n",
            "queenship: 0.48376166820526123\n"
          ]
        }
      ]
    },
    {
      "cell_type": "code",
      "source": [
        "test_words2 = ['anarchy', 'monarchy', 'kingdom', 'crown', 'royal']\n",
        "test_emb2 = model_fasttext.get_words_embeddings(test_words2)\n",
        "\n",
        "# king - man\n",
        "no_king = test_emb[0] - test_emb[1]\n",
        "\n",
        "new_words2 = test_words2 + ['no_king']\n",
        "new_emb2 = np.append(test_emb2, no_king.reshape(1, -1), axis=0)\n",
        "\n",
        "dist2 = pairwise.cosine_similarity(new_emb2, new_emb2)\n",
        "\n",
        "plot_matrix_distance(new_words2, dist2)"
      ],
      "metadata": {
        "colab": {
          "base_uri": "https://localhost:8080/",
          "height": 754
        },
        "id": "WWhDrQedVYA7",
        "outputId": "b7015c03-0987-4868-84cd-41516764aeb7"
      },
      "execution_count": null,
      "outputs": [
        {
          "output_type": "display_data",
          "data": {
            "text/plain": [
              "<Figure size 1600x900 with 2 Axes>"
            ],
            "image/png": "[encoded data removed]"
          },
          "metadata": {}
        }
      ]
    },
    {
      "cell_type": "code",
      "source": [
        "# king - royal\n",
        "new_man = test_emb[0] - test_emb2[4]\n",
        "\n",
        "new_words3 = test_words + ['new_man']\n",
        "new_emb3 = np.append(test_emb, new_man.reshape(1, -1), axis=0)\n",
        "\n",
        "dist3 = pairwise.cosine_similarity(new_emb3, new_emb3)\n",
        "\n",
        "plot_matrix_distance(new_words3, dist3)"
      ],
      "metadata": {
        "colab": {
          "base_uri": "https://localhost:8080/",
          "height": 753
        },
        "id": "dj3pde6pVggx",
        "outputId": "ae91bb83-5333-4062-d2e4-733adee7147b"
      },
      "execution_count": null,
      "outputs": [
        {
          "output_type": "display_data",
          "data": {
            "text/plain": [
              "<Figure size 1600x900 with 2 Axes>"
            ],
            "image/png": "[encoded data removed]"
          },
          "metadata": {}
        }
      ]
    },
    {
      "cell_type": "markdown",
      "source": [
        "## Ejercicio\n",
        "\n",
        "- Tomar un ejemplo de los bots utilizados (uno de los dos) y construir el propio.\n",
        "- Sacar conclusiones de los resultados.\n",
        "\n",
        "__IMPORTANTE__: Recuerde para la entrega del ejercicio debe quedar registrado en el colab las preguntas y las respuestas del BOT para que podamos evaluar el desempeño final."
      ],
      "metadata": {
        "id": "g1fLKQkRjj8j"
      }
    },
    {
      "cell_type": "markdown",
      "source": [
        "## Custom embedddings con Gensim\n",
        "\n",
        "El objetivo es utilizar documentos / corpus para crear embeddings de palabras basado en ese contexto. Se utilizará canciones de bandas para generar los embeddings, es decir, que los vectores tendrán la forma en función de como esa banda haya utilizado las palabras en sus canciones."
      ],
      "metadata": {
        "id": "-gB-0MgQ4OR1"
      }
    },
    {
      "cell_type": "code",
      "source": [
        "# Descargar la carpeta de dataset\n",
        "import os\n",
        "import platform\n",
        "if os.access('./songs_dataset', os.F_OK) is False:\n",
        "    if os.access('songs_dataset.zip', os.F_OK) is False:\n",
        "        if platform.system() == 'Windows':\n",
        "            !curl https://raw.githubusercontent.com/FIUBA-Posgrado-Inteligencia-Artificial/procesamiento_lenguaje_natural/main/datasets/songs_dataset.zip -o songs_dataset.zip\n",
        "        else:\n",
        "            !wget songs_dataset.zip https://github.com/FIUBA-Posgrado-Inteligencia-Artificial/procesamiento_lenguaje_natural/raw/main/datasets/songs_dataset.zip\n",
        "    !unzip -q songs_dataset.zip\n",
        "else:\n",
        "    print(\"El dataset ya se encuentra descargado\")"
      ],
      "metadata": {
        "colab": {
          "base_uri": "https://localhost:8080/"
        },
        "id": "UxlqVzmRVlGR",
        "outputId": "59071944-0e08-44d1-e71b-afff282b16bc"
      },
      "execution_count": null,
      "outputs": [
        {
          "output_type": "stream",
          "name": "stdout",
          "text": [
            "--2024-07-15 07:30:12--  http://songs_dataset.zip/\n",
            "Resolving songs_dataset.zip (songs_dataset.zip)... failed: Name or service not known.\n",
            "wget: unable to resolve host address ‘songs_dataset.zip’\n",
            "--2024-07-15 07:30:13--  https://github.com/FIUBA-Posgrado-Inteligencia-Artificial/procesamiento_lenguaje_natural/raw/main/datasets/songs_dataset.zip\n",
            "Resolving github.com (github.com)... 140.82.114.3\n",
            "Connecting to github.com (github.com)|140.82.114.3|:443... connected.\n",
            "HTTP request sent, awaiting response... 302 Found\n",
            "Location: https://raw.githubusercontent.com/FIUBA-Posgrado-Inteligencia-Artificial/procesamiento_lenguaje_natural/main/datasets/songs_dataset.zip [following]\n",
            "--2024-07-15 07:30:13--  https://raw.githubusercontent.com/FIUBA-Posgrado-Inteligencia-Artificial/procesamiento_lenguaje_natural/main/datasets/songs_dataset.zip\n",
            "Resolving raw.githubusercontent.com (raw.githubusercontent.com)... 185.199.110.133, 185.199.111.133, 185.199.108.133, ...\n",
            "Connecting to raw.githubusercontent.com (raw.githubusercontent.com)|185.199.110.133|:443... connected.\n",
            "HTTP request sent, awaiting response... 200 OK\n",
            "Length: 2075036 (2.0M) [application/zip]\n",
            "Saving to: ‘songs_dataset.zip’\n",
            "\n",
            "songs_dataset.zip   100%[===================>]   1.98M  --.-KB/s    in 0.07s   \n",
            "\n",
            "2024-07-15 07:30:13 (29.6 MB/s) - ‘songs_dataset.zip’ saved [2075036/2075036]\n",
            "\n",
            "FINISHED --2024-07-15 07:30:13--\n",
            "Total wall clock time: 0.8s\n",
            "Downloaded: 1 files, 2.0M in 0.07s (29.6 MB/s)\n"
          ]
        }
      ]
    },
    {
      "cell_type": "code",
      "source": [
        "# Posibles bandas\n",
        "os.listdir(\"./songs_dataset/\")"
      ],
      "metadata": {
        "id": "5wCzgbWsSqBn"
      },
      "execution_count": null,
      "outputs": []
    },
    {
      "cell_type": "code",
      "source": [
        "# Armar el dataset utilizando salto de línea para separar las oraciones/docs\n",
        "df = pd.read_csv('songs_dataset/beatles.txt', sep='/n', header=None)\n",
        "df.head()"
      ],
      "metadata": {
        "colab": {
          "base_uri": "https://localhost:8080/",
          "height": 261
        },
        "id": "uUp0Jy-TTOr4",
        "outputId": "7253f0b5-1d4d-4d5d-ba9a-e69de86675b1"
      },
      "execution_count": null,
      "outputs": [
        {
          "output_type": "stream",
          "name": "stderr",
          "text": [
            "<ipython-input-8-91c4bad52ba1>:2: ParserWarning: Falling back to the 'python' engine because the 'c' engine does not support regex separators (separators > 1 char and different from '\\s+' are interpreted as regex); you can avoid this warning by specifying engine='python'.\n",
            "  df = pd.read_csv('songs_dataset/beatles.txt', sep='/n', header=None)\n"
          ]
        },
        {
          "output_type": "execute_result",
          "data": {
            "text/plain": [
              "                                                   0\n",
              "0      Yesterday, all my troubles seemed so far away\n",
              "1        Now it looks as though they're here to stay\n",
              "2  Oh, I believe in yesterday Suddenly, I'm not h...\n",
              "3                  There's a shadow hanging over me.\n",
              "4  Oh, yesterday came suddenly Why she had to go ..."
            ],
            "text/html": [
              "\n",
              "  <div id=\"df-0bfbcbcd-1847-494a-afd2-1d968e763fef\" class=\"colab-df-container\">\n",
              "    <div>\n",
              "<style scoped>\n",
              "    .dataframe tbody tr th:only-of-type {\n",
              "        vertical-align: middle;\n",
              "    }\n",
              "\n",
              "    .dataframe tbody tr th {\n",
              "        vertical-align: top;\n",
              "    }\n",
              "\n",
              "    .dataframe thead th {\n",
              "        text-align: right;\n",
              "    }\n",
              "</style>\n",
              "<table border=\"1\" class=\"dataframe\">\n",
              "  <thead>\n",
              "    <tr style=\"text-align: right;\">\n",
              "      <th></th>\n",
              "      <th>0</th>\n",
              "    </tr>\n",
              "  </thead>\n",
              "  <tbody>\n",
              "    <tr>\n",
              "      <th>0</th>\n",
              "      <td>Yesterday, all my troubles seemed so far away</td>\n",
              "    </tr>\n",
              "    <tr>\n",
              "      <th>1</th>\n",
              "      <td>Now it looks as though they're here to stay</td>\n",
              "    </tr>\n",
              "    <tr>\n",
              "      <th>2</th>\n",
              "      <td>Oh, I believe in yesterday Suddenly, I'm not h...</td>\n",
              "    </tr>\n",
              "    <tr>\n",
              "      <th>3</th>\n",
              "      <td>There's a shadow hanging over me.</td>\n",
              "    </tr>\n",
              "    <tr>\n",
              "      <th>4</th>\n",
              "      <td>Oh, yesterday came suddenly Why she had to go ...</td>\n",
              "    </tr>\n",
              "  </tbody>\n",
              "</table>\n",
              "</div>\n",
              "    <div class=\"colab-df-buttons\">\n",
              "\n",
              "  <div class=\"colab-df-container\">\n",
              "    <button class=\"colab-df-convert\" onclick=\"convertToInteractive('df-0bfbcbcd-1847-494a-afd2-1d968e763fef')\"\n",
              "            title=\"Convert this dataframe to an interactive table.\"\n",
              "            style=\"display:none;\">\n",
              "\n",
              "  <svg xmlns=\"http://www.w3.org/2000/svg\" height=\"24px\" viewBox=\"0 -960 960 960\">\n",
              "    <path d=\"M120-120v-720h720v720H120Zm60-500h600v-160H180v160Zm220 220h160v-160H400v160Zm0 220h160v-160H400v160ZM180-400h160v-160H180v160Zm440 0h160v-160H620v160ZM180-180h160v-160H180v160Zm440 0h160v-160H620v160Z\"/>\n",
              "  </svg>\n",
              "    </button>\n",
              "\n",
              "  <style>\n",
              "    .colab-df-container {\n",
              "      display:flex;\n",
              "      gap: 12px;\n",
              "    }\n",
              "\n",
              "    .colab-df-convert {\n",
              "      background-color: #E8F0FE;\n",
              "      border: none;\n",
              "      border-radius: 50%;\n",
              "      cursor: pointer;\n",
              "      display: none;\n",
              "      fill: #1967D2;\n",
              "      height: 32px;\n",
              "      padding: 0 0 0 0;\n",
              "      width: 32px;\n",
              "    }\n",
              "\n",
              "    .colab-df-convert:hover {\n",
              "      background-color: #E2EBFA;\n",
              "      box-shadow: 0px 1px 2px rgba(60, 64, 67, 0.3), 0px 1px 3px 1px rgba(60, 64, 67, 0.15);\n",
              "      fill: #174EA6;\n",
              "    }\n",
              "\n",
              "    .colab-df-buttons div {\n",
              "      margin-bottom: 4px;\n",
              "    }\n",
              "\n",
              "    [theme=dark] .colab-df-convert {\n",
              "      background-color: #3B4455;\n",
              "      fill: #D2E3FC;\n",
              "    }\n",
              "\n",
              "    [theme=dark] .colab-df-convert:hover {\n",
              "      background-color: #434B5C;\n",
              "      box-shadow: 0px 1px 3px 1px rgba(0, 0, 0, 0.15);\n",
              "      filter: drop-shadow(0px 1px 2px rgba(0, 0, 0, 0.3));\n",
              "      fill: #FFFFFF;\n",
              "    }\n",
              "  </style>\n",
              "\n",
              "    <script>\n",
              "      const buttonEl =\n",
              "        document.querySelector('#df-0bfbcbcd-1847-494a-afd2-1d968e763fef button.colab-df-convert');\n",
              "      buttonEl.style.display =\n",
              "        google.colab.kernel.accessAllowed ? 'block' : 'none';\n",
              "\n",
              "      async function convertToInteractive(key) {\n",
              "        const element = document.querySelector('#df-0bfbcbcd-1847-494a-afd2-1d968e763fef');\n",
              "        const dataTable =\n",
              "          await google.colab.kernel.invokeFunction('convertToInteractive',\n",
              "                                                    [key], {});\n",
              "        if (!dataTable) return;\n",
              "\n",
              "        const docLinkHtml = 'Like what you see? Visit the ' +\n",
              "          '<a target=\"_blank\" href=https://colab.research.google.com/notebooks/data_table.ipynb>data table notebook</a>'\n",
              "          + ' to learn more about interactive tables.';\n",
              "        element.innerHTML = '';\n",
              "        dataTable['output_type'] = 'display_data';\n",
              "        await google.colab.output.renderOutput(dataTable, element);\n",
              "        const docLink = document.createElement('div');\n",
              "        docLink.innerHTML = docLinkHtml;\n",
              "        element.appendChild(docLink);\n",
              "      }\n",
              "    </script>\n",
              "  </div>\n",
              "\n",
              "\n",
              "<div id=\"df-f4c2a7af-aa59-4094-9c23-d3dc9da6178e\">\n",
              "  <button class=\"colab-df-quickchart\" onclick=\"quickchart('df-f4c2a7af-aa59-4094-9c23-d3dc9da6178e')\"\n",
              "            title=\"Suggest charts\"\n",
              "            style=\"display:none;\">\n",
              "\n",
              "<svg xmlns=\"http://www.w3.org/2000/svg\" height=\"24px\"viewBox=\"0 0 24 24\"\n",
              "     width=\"24px\">\n",
              "    <g>\n",
              "        <path d=\"M19 3H5c-1.1 0-2 .9-2 2v14c0 1.1.9 2 2 2h14c1.1 0 2-.9 2-2V5c0-1.1-.9-2-2-2zM9 17H7v-7h2v7zm4 0h-2V7h2v10zm4 0h-2v-4h2v4z\"/>\n",
              "    </g>\n",
              "</svg>\n",
              "  </button>\n",
              "\n",
              "<style>\n",
              "  .colab-df-quickchart {\n",
              "      --bg-color: #E8F0FE;\n",
              "      --fill-color: #1967D2;\n",
              "      --hover-bg-color: #E2EBFA;\n",
              "      --hover-fill-color: #174EA6;\n",
              "      --disabled-fill-color: #AAA;\n",
              "      --disabled-bg-color: #DDD;\n",
              "  }\n",
              "\n",
              "  [theme=dark] .colab-df-quickchart {\n",
              "      --bg-color: #3B4455;\n",
              "      --fill-color: #D2E3FC;\n",
              "      --hover-bg-color: #434B5C;\n",
              "      --hover-fill-color: #FFFFFF;\n",
              "      --disabled-bg-color: #3B4455;\n",
              "      --disabled-fill-color: #666;\n",
              "  }\n",
              "\n",
              "  .colab-df-quickchart {\n",
              "    background-color: var(--bg-color);\n",
              "    border: none;\n",
              "    border-radius: 50%;\n",
              "    cursor: pointer;\n",
              "    display: none;\n",
              "    fill: var(--fill-color);\n",
              "    height: 32px;\n",
              "    padding: 0;\n",
              "    width: 32px;\n",
              "  }\n",
              "\n",
              "  .colab-df-quickchart:hover {\n",
              "    background-color: var(--hover-bg-color);\n",
              "    box-shadow: 0 1px 2px rgba(60, 64, 67, 0.3), 0 1px 3px 1px rgba(60, 64, 67, 0.15);\n",
              "    fill: var(--button-hover-fill-color);\n",
              "  }\n",
              "\n",
              "  .colab-df-quickchart-complete:disabled,\n",
              "  .colab-df-quickchart-complete:disabled:hover {\n",
              "    background-color: var(--disabled-bg-color);\n",
              "    fill: var(--disabled-fill-color);\n",
              "    box-shadow: none;\n",
              "  }\n",
              "\n",
              "  .colab-df-spinner {\n",
              "    border: 2px solid var(--fill-color);\n",
              "    border-color: transparent;\n",
              "    border-bottom-color: var(--fill-color);\n",
              "    animation:\n",
              "      spin 1s steps(1) infinite;\n",
              "  }\n",
              "\n",
              "  @keyframes spin {\n",
              "    0% {\n",
              "      border-color: transparent;\n",
              "      border-bottom-color: var(--fill-color);\n",
              "      border-left-color: var(--fill-color);\n",
              "    }\n",
              "    20% {\n",
              "      border-color: transparent;\n",
              "      border-left-color: var(--fill-color);\n",
              "      border-top-color: var(--fill-color);\n",
              "    }\n",
              "    30% {\n",
              "      border-color: transparent;\n",
              "      border-left-color: var(--fill-color);\n",
              "      border-top-color: var(--fill-color);\n",
              "      border-right-color: var(--fill-color);\n",
              "    }\n",
              "    40% {\n",
              "      border-color: transparent;\n",
              "      border-right-color: var(--fill-color);\n",
              "      border-top-color: var(--fill-color);\n",
              "    }\n",
              "    60% {\n",
              "      border-color: transparent;\n",
              "      border-right-color: var(--fill-color);\n",
              "    }\n",
              "    80% {\n",
              "      border-color: transparent;\n",
              "      border-right-color: var(--fill-color);\n",
              "      border-bottom-color: var(--fill-color);\n",
              "    }\n",
              "    90% {\n",
              "      border-color: transparent;\n",
              "      border-bottom-color: var(--fill-color);\n",
              "    }\n",
              "  }\n",
              "</style>\n",
              "\n",
              "  <script>\n",
              "    async function quickchart(key) {\n",
              "      const quickchartButtonEl =\n",
              "        document.querySelector('#' + key + ' button');\n",
              "      quickchartButtonEl.disabled = true;  // To prevent multiple clicks.\n",
              "      quickchartButtonEl.classList.add('colab-df-spinner');\n",
              "      try {\n",
              "        const charts = await google.colab.kernel.invokeFunction(\n",
              "            'suggestCharts', [key], {});\n",
              "      } catch (error) {\n",
              "        console.error('Error during call to suggestCharts:', error);\n",
              "      }\n",
              "      quickchartButtonEl.classList.remove('colab-df-spinner');\n",
              "      quickchartButtonEl.classList.add('colab-df-quickchart-complete');\n",
              "    }\n",
              "    (() => {\n",
              "      let quickchartButtonEl =\n",
              "        document.querySelector('#df-f4c2a7af-aa59-4094-9c23-d3dc9da6178e button');\n",
              "      quickchartButtonEl.style.display =\n",
              "        google.colab.kernel.accessAllowed ? 'block' : 'none';\n",
              "    })();\n",
              "  </script>\n",
              "</div>\n",
              "\n",
              "    </div>\n",
              "  </div>\n"
            ],
            "application/vnd.google.colaboratory.intrinsic+json": {
              "type": "dataframe",
              "variable_name": "df",
              "summary": "{\n  \"name\": \"df\",\n  \"rows\": 1846,\n  \"fields\": [\n    {\n      \"column\": 0,\n      \"properties\": {\n        \"dtype\": \"string\",\n        \"num_unique_values\": 1380,\n        \"samples\": [\n          \"I just need someone to love\",\n          \"Well it's my birthday too--yeah\",\n          \"Yes, you can radiate everything you are\"\n        ],\n        \"semantic_type\": \"\",\n        \"description\": \"\"\n      }\n    }\n  ]\n}"
            }
          },
          "metadata": {},
          "execution_count": 8
        }
      ]
    },
    {
      "cell_type": "code",
      "source": [
        "embeddings_matrix_distance(model_glove, words)"
      ],
      "metadata": {
        "colab": {
          "base_uri": "https://localhost:8080/",
          "height": 788
        },
        "id": "Jec1LaEYV4Cc",
        "outputId": "0b56a2f5-1e6f-4e0e-cefa-67521234abf4"
      },
      "execution_count": null,
      "outputs": [
        {
          "output_type": "stream",
          "name": "stdout",
          "text": [
            "Cantidad de palabras: 10\n",
            "Dimensiones de los embeddings: (10, 50)\n"
          ]
        },
        {
          "output_type": "display_data",
          "data": {
            "text/plain": [
              "<Figure size 1600x900 with 2 Axes>"
            ],
            "image/png": "[encoded data removed]"
          },
          "metadata": {}
        }
      ]
    },
    {
      "cell_type": "code",
      "source": [
        "# Armar el dataset utilizando salto de línea para separar las oraciones/docs\n",
        "df = pd.read_csv('songs_dataset/beatles.txt', sep='/n', header=None)\n",
        "df.head()"
      ],
      "metadata": {
        "colab": {
          "base_uri": "https://localhost:8080/",
          "height": 261
        },
        "id": "qkt-AZhc4Z0t",
        "outputId": "469660f6-c09a-4e78-85bc-fc3022add8c9"
      },
      "execution_count": null,
      "outputs": [
        {
          "output_type": "stream",
          "name": "stderr",
          "text": [
            "<ipython-input-7-91c4bad52ba1>:2: ParserWarning: Falling back to the 'python' engine because the 'c' engine does not support regex separators (separators > 1 char and different from '\\s+' are interpreted as regex); you can avoid this warning by specifying engine='python'.\n",
            "  df = pd.read_csv('songs_dataset/beatles.txt', sep='/n', header=None)\n"
          ]
        },
        {
          "output_type": "execute_result",
          "data": {
            "text/plain": [
              "                                                   0\n",
              "0      Yesterday, all my troubles seemed so far away\n",
              "1        Now it looks as though they're here to stay\n",
              "2  Oh, I believe in yesterday Suddenly, I'm not h...\n",
              "3                  There's a shadow hanging over me.\n",
              "4  Oh, yesterday came suddenly Why she had to go ..."
            ],
            "text/html": [
              "\n",
              "  <div id=\"df-0a963548-5d08-409f-a34b-ff00a756b6ef\" class=\"colab-df-container\">\n",
              "    <div>\n",
              "<style scoped>\n",
              "    .dataframe tbody tr th:only-of-type {\n",
              "        vertical-align: middle;\n",
              "    }\n",
              "\n",
              "    .dataframe tbody tr th {\n",
              "        vertical-align: top;\n",
              "    }\n",
              "\n",
              "    .dataframe thead th {\n",
              "        text-align: right;\n",
              "    }\n",
              "</style>\n",
              "<table border=\"1\" class=\"dataframe\">\n",
              "  <thead>\n",
              "    <tr style=\"text-align: right;\">\n",
              "      <th></th>\n",
              "      <th>0</th>\n",
              "    </tr>\n",
              "  </thead>\n",
              "  <tbody>\n",
              "    <tr>\n",
              "      <th>0</th>\n",
              "      <td>Yesterday, all my troubles seemed so far away</td>\n",
              "    </tr>\n",
              "    <tr>\n",
              "      <th>1</th>\n",
              "      <td>Now it looks as though they're here to stay</td>\n",
              "    </tr>\n",
              "    <tr>\n",
              "      <th>2</th>\n",
              "      <td>Oh, I believe in yesterday Suddenly, I'm not h...</td>\n",
              "    </tr>\n",
              "    <tr>\n",
              "      <th>3</th>\n",
              "      <td>There's a shadow hanging over me.</td>\n",
              "    </tr>\n",
              "    <tr>\n",
              "      <th>4</th>\n",
              "      <td>Oh, yesterday came suddenly Why she had to go ...</td>\n",
              "    </tr>\n",
              "  </tbody>\n",
              "</table>\n",
              "</div>\n",
              "    <div class=\"colab-df-buttons\">\n",
              "\n",
              "  <div class=\"colab-df-container\">\n",
              "    <button class=\"colab-df-convert\" onclick=\"convertToInteractive('df-0a963548-5d08-409f-a34b-ff00a756b6ef')\"\n",
              "            title=\"Convert this dataframe to an interactive table.\"\n",
              "            style=\"display:none;\">\n",
              "\n",
              "  <svg xmlns=\"http://www.w3.org/2000/svg\" height=\"24px\" viewBox=\"0 -960 960 960\">\n",
              "    <path d=\"M120-120v-720h720v720H120Zm60-500h600v-160H180v160Zm220 220h160v-160H400v160Zm0 220h160v-160H400v160ZM180-400h160v-160H180v160Zm440 0h160v-160H620v160ZM180-180h160v-160H180v160Zm440 0h160v-160H620v160Z\"/>\n",
              "  </svg>\n",
              "    </button>\n",
              "\n",
              "  <style>\n",
              "    .colab-df-container {\n",
              "      display:flex;\n",
              "      gap: 12px;\n",
              "    }\n",
              "\n",
              "    .colab-df-convert {\n",
              "      background-color: #E8F0FE;\n",
              "      border: none;\n",
              "      border-radius: 50%;\n",
              "      cursor: pointer;\n",
              "      display: none;\n",
              "      fill: #1967D2;\n",
              "      height: 32px;\n",
              "      padding: 0 0 0 0;\n",
              "      width: 32px;\n",
              "    }\n",
              "\n",
              "    .colab-df-convert:hover {\n",
              "      background-color: #E2EBFA;\n",
              "      box-shadow: 0px 1px 2px rgba(60, 64, 67, 0.3), 0px 1px 3px 1px rgba(60, 64, 67, 0.15);\n",
              "      fill: #174EA6;\n",
              "    }\n",
              "\n",
              "    .colab-df-buttons div {\n",
              "      margin-bottom: 4px;\n",
              "    }\n",
              "\n",
              "    [theme=dark] .colab-df-convert {\n",
              "      background-color: #3B4455;\n",
              "      fill: #D2E3FC;\n",
              "    }\n",
              "\n",
              "    [theme=dark] .colab-df-convert:hover {\n",
              "      background-color: #434B5C;\n",
              "      box-shadow: 0px 1px 3px 1px rgba(0, 0, 0, 0.15);\n",
              "      filter: drop-shadow(0px 1px 2px rgba(0, 0, 0, 0.3));\n",
              "      fill: #FFFFFF;\n",
              "    }\n",
              "  </style>\n",
              "\n",
              "    <script>\n",
              "      const buttonEl =\n",
              "        document.querySelector('#df-0a963548-5d08-409f-a34b-ff00a756b6ef button.colab-df-convert');\n",
              "      buttonEl.style.display =\n",
              "        google.colab.kernel.accessAllowed ? 'block' : 'none';\n",
              "\n",
              "      async function convertToInteractive(key) {\n",
              "        const element = document.querySelector('#df-0a963548-5d08-409f-a34b-ff00a756b6ef');\n",
              "        const dataTable =\n",
              "          await google.colab.kernel.invokeFunction('convertToInteractive',\n",
              "                                                    [key], {});\n",
              "        if (!dataTable) return;\n",
              "\n",
              "        const docLinkHtml = 'Like what you see? Visit the ' +\n",
              "          '<a target=\"_blank\" href=https://colab.research.google.com/notebooks/data_table.ipynb>data table notebook</a>'\n",
              "          + ' to learn more about interactive tables.';\n",
              "        element.innerHTML = '';\n",
              "        dataTable['output_type'] = 'display_data';\n",
              "        await google.colab.output.renderOutput(dataTable, element);\n",
              "        const docLink = document.createElement('div');\n",
              "        docLink.innerHTML = docLinkHtml;\n",
              "        element.appendChild(docLink);\n",
              "      }\n",
              "    </script>\n",
              "  </div>\n",
              "\n",
              "\n",
              "<div id=\"df-59aeb20e-287d-4ed7-ba42-b56b21f50881\">\n",
              "  <button class=\"colab-df-quickchart\" onclick=\"quickchart('df-59aeb20e-287d-4ed7-ba42-b56b21f50881')\"\n",
              "            title=\"Suggest charts\"\n",
              "            style=\"display:none;\">\n",
              "\n",
              "<svg xmlns=\"http://www.w3.org/2000/svg\" height=\"24px\"viewBox=\"0 0 24 24\"\n",
              "     width=\"24px\">\n",
              "    <g>\n",
              "        <path d=\"M19 3H5c-1.1 0-2 .9-2 2v14c0 1.1.9 2 2 2h14c1.1 0 2-.9 2-2V5c0-1.1-.9-2-2-2zM9 17H7v-7h2v7zm4 0h-2V7h2v10zm4 0h-2v-4h2v4z\"/>\n",
              "    </g>\n",
              "</svg>\n",
              "  </button>\n",
              "\n",
              "<style>\n",
              "  .colab-df-quickchart {\n",
              "      --bg-color: #E8F0FE;\n",
              "      --fill-color: #1967D2;\n",
              "      --hover-bg-color: #E2EBFA;\n",
              "      --hover-fill-color: #174EA6;\n",
              "      --disabled-fill-color: #AAA;\n",
              "      --disabled-bg-color: #DDD;\n",
              "  }\n",
              "\n",
              "  [theme=dark] .colab-df-quickchart {\n",
              "      --bg-color: #3B4455;\n",
              "      --fill-color: #D2E3FC;\n",
              "      --hover-bg-color: #434B5C;\n",
              "      --hover-fill-color: #FFFFFF;\n",
              "      --disabled-bg-color: #3B4455;\n",
              "      --disabled-fill-color: #666;\n",
              "  }\n",
              "\n",
              "  .colab-df-quickchart {\n",
              "    background-color: var(--bg-color);\n",
              "    border: none;\n",
              "    border-radius: 50%;\n",
              "    cursor: pointer;\n",
              "    display: none;\n",
              "    fill: var(--fill-color);\n",
              "    height: 32px;\n",
              "    padding: 0;\n",
              "    width: 32px;\n",
              "  }\n",
              "\n",
              "  .colab-df-quickchart:hover {\n",
              "    background-color: var(--hover-bg-color);\n",
              "    box-shadow: 0 1px 2px rgba(60, 64, 67, 0.3), 0 1px 3px 1px rgba(60, 64, 67, 0.15);\n",
              "    fill: var(--button-hover-fill-color);\n",
              "  }\n",
              "\n",
              "  .colab-df-quickchart-complete:disabled,\n",
              "  .colab-df-quickchart-complete:disabled:hover {\n",
              "    background-color: var(--disabled-bg-color);\n",
              "    fill: var(--disabled-fill-color);\n",
              "    box-shadow: none;\n",
              "  }\n",
              "\n",
              "  .colab-df-spinner {\n",
              "    border: 2px solid var(--fill-color);\n",
              "    border-color: transparent;\n",
              "    border-bottom-color: var(--fill-color);\n",
              "    animation:\n",
              "      spin 1s steps(1) infinite;\n",
              "  }\n",
              "\n",
              "  @keyframes spin {\n",
              "    0% {\n",
              "      border-color: transparent;\n",
              "      border-bottom-color: var(--fill-color);\n",
              "      border-left-color: var(--fill-color);\n",
              "    }\n",
              "    20% {\n",
              "      border-color: transparent;\n",
              "      border-left-color: var(--fill-color);\n",
              "      border-top-color: var(--fill-color);\n",
              "    }\n",
              "    30% {\n",
              "      border-color: transparent;\n",
              "      border-left-color: var(--fill-color);\n",
              "      border-top-color: var(--fill-color);\n",
              "      border-right-color: var(--fill-color);\n",
              "    }\n",
              "    40% {\n",
              "      border-color: transparent;\n",
              "      border-right-color: var(--fill-color);\n",
              "      border-top-color: var(--fill-color);\n",
              "    }\n",
              "    60% {\n",
              "      border-color: transparent;\n",
              "      border-right-color: var(--fill-color);\n",
              "    }\n",
              "    80% {\n",
              "      border-color: transparent;\n",
              "      border-right-color: var(--fill-color);\n",
              "      border-bottom-color: var(--fill-color);\n",
              "    }\n",
              "    90% {\n",
              "      border-color: transparent;\n",
              "      border-bottom-color: var(--fill-color);\n",
              "    }\n",
              "  }\n",
              "</style>\n",
              "\n",
              "  <script>\n",
              "    async function quickchart(key) {\n",
              "      const quickchartButtonEl =\n",
              "        document.querySelector('#' + key + ' button');\n",
              "      quickchartButtonEl.disabled = true;  // To prevent multiple clicks.\n",
              "      quickchartButtonEl.classList.add('colab-df-spinner');\n",
              "      try {\n",
              "        const charts = await google.colab.kernel.invokeFunction(\n",
              "            'suggestCharts', [key], {});\n",
              "      } catch (error) {\n",
              "        console.error('Error during call to suggestCharts:', error);\n",
              "      }\n",
              "      quickchartButtonEl.classList.remove('colab-df-spinner');\n",
              "      quickchartButtonEl.classList.add('colab-df-quickchart-complete');\n",
              "    }\n",
              "    (() => {\n",
              "      let quickchartButtonEl =\n",
              "        document.querySelector('#df-59aeb20e-287d-4ed7-ba42-b56b21f50881 button');\n",
              "      quickchartButtonEl.style.display =\n",
              "        google.colab.kernel.accessAllowed ? 'block' : 'none';\n",
              "    })();\n",
              "  </script>\n",
              "</div>\n",
              "\n",
              "    </div>\n",
              "  </div>\n"
            ],
            "application/vnd.google.colaboratory.intrinsic+json": {
              "type": "dataframe",
              "variable_name": "df",
              "summary": "{\n  \"name\": \"df\",\n  \"rows\": 1846,\n  \"fields\": [\n    {\n      \"column\": 0,\n      \"properties\": {\n        \"dtype\": \"string\",\n        \"num_unique_values\": 1380,\n        \"samples\": [\n          \"I just need someone to love\",\n          \"Well it's my birthday too--yeah\",\n          \"Yes, you can radiate everything you are\"\n        ],\n        \"semantic_type\": \"\",\n        \"description\": \"\"\n      }\n    }\n  ]\n}"
            }
          },
          "metadata": {},
          "execution_count": 7
        }
      ]
    },
    {
      "cell_type": "code",
      "source": [
        "print(\"Cantidad de documentos:\", df.shape[0])"
      ],
      "metadata": {
        "id": "Nz3nuX5k4cNN",
        "colab": {
          "base_uri": "https://localhost:8080/"
        },
        "outputId": "1600a01f-857e-4d83-e6e0-8786f1314fd6"
      },
      "execution_count": null,
      "outputs": [
        {
          "output_type": "stream",
          "name": "stdout",
          "text": [
            "Cantidad de documentos: 1846\n"
          ]
        }
      ]
    },
    {
      "cell_type": "code",
      "source": [
        "from keras.preprocessing.text import text_to_word_sequence\n",
        "\n",
        "sentence_tokens = []\n",
        "# Recorrer todas las filas y transformar las oraciones\n",
        "# en una secuencia de palabras (esto podría realizarse con NLTK o spaCy también)\n",
        "for _, row in df[:None].iterrows():\n",
        "    sentence_tokens.append(text_to_word_sequence(row[0]))\n",
        "# Demos un vistazo\n",
        "sentence_tokens[:2]"
      ],
      "metadata": {
        "colab": {
          "base_uri": "https://localhost:8080/"
        },
        "id": "Qrzdxw2z4mvN",
        "outputId": "e7eea976-2319-40c0-f266-19d3726310b4"
      },
      "execution_count": null,
      "outputs": [
        {
          "output_type": "execute_result",
          "data": {
            "text/plain": [
              "[['yesterday', 'all', 'my', 'troubles', 'seemed', 'so', 'far', 'away'],\n",
              " ['now', 'it', 'looks', 'as', 'though', \"they're\", 'here', 'to', 'stay']]"
            ]
          },
          "metadata": {},
          "execution_count": 9
        }
      ]
    },
    {
      "cell_type": "markdown",
      "source": [
        "### Crear los vectores (word2vec)"
      ],
      "metadata": {
        "id": "wS6vf5EMF4ql"
      }
    },
    {
      "cell_type": "code",
      "source": [
        "from gensim.models.callbacks import CallbackAny2Vec\n",
        "# Durante el entrenamiento gensim por defecto no informa el \"loss\" en cada época\n",
        "# Sobrecargamos el callback para poder tener esta información\n",
        "class callback(CallbackAny2Vec):\n",
        "    \"\"\"\n",
        "    Callback to print loss after each epoch\n",
        "    \"\"\"\n",
        "    def __init__(self):\n",
        "        self.epoch = 0\n",
        "\n",
        "    def on_epoch_end(self, model):\n",
        "        loss = model.get_latest_training_loss()\n",
        "        if self.epoch == 0:\n",
        "            print('Loss after epoch {}: {}'.format(self.epoch, loss))\n",
        "        else:\n",
        "            print('Loss after epoch {}: {}'.format(self.epoch, loss- self.loss_previous_step))\n",
        "        self.epoch += 1\n",
        "        self.loss_previous_step = loss"
      ],
      "metadata": {
        "id": "Ej-WpqLF-vP0"
      },
      "execution_count": null,
      "outputs": []
    },
    {
      "cell_type": "code",
      "source": [
        "# Crearmos el modelo generador de vectores\n",
        "# En este caso utilizaremos la estructura modelo Skipgram\n",
        "w2v_model = Word2Vec(min_count=5,    # frecuencia mínima de palabra para incluirla en el vocabulario\n",
        "                     window=2,       # cant de palabras antes y desp de la predicha\n",
        "                     vector_size=300,       # dimensionalidad de los vectores\n",
        "                     negative=20,    # cantidad de negative samples... 0 es no se usa\n",
        "                     workers=1,      # si tienen más cores pueden cambiar este valor\n",
        "                     sg=1)           # modelo 0:CBOW  1:skipgram"
      ],
      "metadata": {
        "id": "JQOEUuhu-0VE"
      },
      "execution_count": null,
      "outputs": []
    },
    {
      "cell_type": "code",
      "source": [
        "# Obtener el vocabulario con los tokens\n",
        "w2v_model.build_vocab(sentence_tokens)"
      ],
      "metadata": {
        "id": "5pQ_M_0l-7uk"
      },
      "execution_count": null,
      "outputs": []
    },
    {
      "cell_type": "code",
      "source": [
        "# Cantidad de filas/docs encontradas en el corpus\n",
        "print(\"Cantidad de docs en el corpus:\", w2v_model.corpus_count)"
      ],
      "metadata": {
        "colab": {
          "base_uri": "https://localhost:8080/"
        },
        "id": "a1Wtc4RR-_AF",
        "outputId": "25557d4c-19aa-43a4-d815-d3b3a91c4219"
      },
      "execution_count": null,
      "outputs": [
        {
          "output_type": "stream",
          "name": "stdout",
          "text": [
            "Cantidad de docs en el corpus: 1846\n"
          ]
        }
      ]
    },
    {
      "cell_type": "code",
      "source": [
        "# Cantidad de words encontradas en el corpus\n",
        "print(\"Cantidad de words distintas en el corpus:\", len(w2v_model.wv.index_to_key))"
      ],
      "metadata": {
        "id": "-FKJXKQb_E1z",
        "outputId": "e9000471-d281-47a1-d325-ce4454eb9eb1",
        "colab": {
          "base_uri": "https://localhost:8080/"
        }
      },
      "execution_count": null,
      "outputs": [
        {
          "output_type": "stream",
          "name": "stdout",
          "text": [
            "Cantidad de words distintas en el corpus: 445\n"
          ]
        }
      ]
    },
    {
      "cell_type": "markdown",
      "source": [
        "### Entrenar embeddings"
      ],
      "metadata": {
        "id": "05YSY8DIFvKd"
      }
    },
    {
      "cell_type": "code",
      "source": [
        "# Entrenamos el modelo generador de vectores\n",
        "# Utilizamos nuestro callback\n",
        "w2v_model.train(sentence_tokens,\n",
        "                 total_examples=w2v_model.corpus_count,\n",
        "                 epochs=20,\n",
        "                 compute_loss = True,\n",
        "                 callbacks=[callback()]\n",
        "                 )"
      ],
      "metadata": {
        "id": "HwxEuzHX_Jf8",
        "outputId": "b6cbbc8e-0f78-4cea-df31-9f2fdb0d36bb",
        "colab": {
          "base_uri": "https://localhost:8080/"
        }
      },
      "execution_count": null,
      "outputs": [
        {
          "output_type": "stream",
          "name": "stdout",
          "text": [
            "Loss after epoch 0: 113208.15625\n",
            "Loss after epoch 1: 65953.953125\n",
            "Loss after epoch 2: 65934.265625\n",
            "Loss after epoch 3: 65711.96875\n",
            "Loss after epoch 4: 63872.5\n",
            "Loss after epoch 5: 64142.46875\n",
            "Loss after epoch 6: 64058.8125\n",
            "Loss after epoch 7: 64755.4375\n",
            "Loss after epoch 8: 62585.5625\n",
            "Loss after epoch 9: 60415.25\n",
            "Loss after epoch 10: 59823.625\n",
            "Loss after epoch 11: 58930.1875\n",
            "Loss after epoch 12: 57726.4375\n",
            "Loss after epoch 13: 56493.125\n",
            "Loss after epoch 14: 55842.5625\n",
            "Loss after epoch 15: 55862.5\n",
            "Loss after epoch 16: 51695.8125\n",
            "Loss after epoch 17: 49815.5\n",
            "Loss after epoch 18: 49568.125\n",
            "Loss after epoch 19: 48959.75\n"
          ]
        },
        {
          "output_type": "execute_result",
          "data": {
            "text/plain": [
              "(156986, 287740)"
            ]
          },
          "metadata": {},
          "execution_count": 15
        }
      ]
    },
    {
      "cell_type": "markdown",
      "source": [
        "### Ensayar"
      ],
      "metadata": {
        "id": "aVuHCjTmGBBF"
      }
    },
    {
      "cell_type": "code",
      "source": [
        "# Palabras que MÁS se relacionan con...:\n",
        "w2v_model.wv.most_similar(positive=[\"darling\"], topn=10)"
      ],
      "metadata": {
        "colab": {
          "base_uri": "https://localhost:8080/"
        },
        "id": "cha9bFX_GBWM",
        "outputId": "6f935e1f-0a1b-4162-8df8-9e0a60258348"
      },
      "execution_count": null,
      "outputs": [
        {
          "output_type": "execute_result",
          "data": {
            "text/plain": [
              "[('pretty', 0.9087147116661072),\n",
              " ('sleep', 0.8649678230285645),\n",
              " ('help', 0.8594305515289307),\n",
              " ('try', 0.8456019759178162),\n",
              " ('cry', 0.8387227654457092),\n",
              " ('little', 0.8273633718490601),\n",
              " ('not', 0.8181102871894836),\n",
              " ('seems', 0.8175203204154968),\n",
              " ('twist', 0.8154979348182678),\n",
              " ('peace', 0.812263011932373)]"
            ]
          },
          "metadata": {},
          "execution_count": 17
        }
      ]
    },
    {
      "cell_type": "code",
      "source": [
        "# Palabras que MENOS se relacionan con...:\n",
        "w2v_model.wv.most_similar(negative=[\"love\"], topn=10)"
      ],
      "metadata": {
        "colab": {
          "base_uri": "https://localhost:8080/"
        },
        "id": "DsDC0_nDNV62",
        "outputId": "eb908719-6155-4c65-8a3f-d488b8639c26"
      },
      "execution_count": null,
      "outputs": [
        {
          "output_type": "execute_result",
          "data": {
            "text/plain": [
              "[('shake', -0.21786975860595703),\n",
              " ('our', -0.24495810270309448),\n",
              " ('come', -0.2613270878791809),\n",
              " ('on', -0.26722386479377747),\n",
              " ('bang', -0.27329546213150024),\n",
              " ('five', -0.2741836607456207),\n",
              " ('six', -0.2774038314819336),\n",
              " ('baby', -0.2776353061199188),\n",
              " ('work', -0.2790372967720032),\n",
              " ('four', -0.2792743146419525)]"
            ]
          },
          "metadata": {},
          "execution_count": 18
        }
      ]
    },
    {
      "cell_type": "code",
      "source": [
        "# Palabras que MÁS se relacionan con...:\n",
        "w2v_model.wv.most_similar(positive=[\"four\"], topn=10)"
      ],
      "metadata": {
        "colab": {
          "base_uri": "https://localhost:8080/"
        },
        "id": "E6MmU1XyOs_0",
        "outputId": "748ba945-ac3e-4b32-f966-48753574b337"
      },
      "execution_count": null,
      "outputs": [
        {
          "output_type": "execute_result",
          "data": {
            "text/plain": [
              "[('five', 0.9786694049835205),\n",
              " ('three', 0.9761051535606384),\n",
              " ('six', 0.966891348361969),\n",
              " ('two', 0.9565720558166504),\n",
              " ('seven', 0.954232931137085),\n",
              " ('sixty', 0.9003373980522156),\n",
              " ('one', 0.816501259803772),\n",
              " ('us', 0.7762899398803711),\n",
              " ('crying', 0.772737979888916),\n",
              " ('strawberry', 0.7672452330589294)]"
            ]
          },
          "metadata": {},
          "execution_count": 19
        }
      ]
    },
    {
      "cell_type": "code",
      "source": [
        "# Ensayar con una palabra que no está en el vocabulario:\n",
        "#w2v_model.wv.most_similar(negative=[\"diedaa\"])"
      ],
      "metadata": {
        "colab": {
          "base_uri": "https://localhost:8080/",
          "height": 321
        },
        "id": "7L-KdaWOPGis",
        "outputId": "a922d6e6-a4d8-4774-8dca-3bb0d779b052"
      },
      "execution_count": null,
      "outputs": [
        {
          "output_type": "error",
          "ename": "KeyError",
          "evalue": "\"Key 'diedaa' not present in vocabulary\"",
          "traceback": [
            "\u001b[0;31m---------------------------------------------------------------------------\u001b[0m",
            "\u001b[0;31mKeyError\u001b[0m                                  Traceback (most recent call last)",
            "\u001b[0;32m<ipython-input-21-93d902aa5dab>\u001b[0m in \u001b[0;36m<cell line: 2>\u001b[0;34m()\u001b[0m\n\u001b[1;32m      1\u001b[0m \u001b[0;31m# Ensayar con una palabra que no está en el vocabulario:\u001b[0m\u001b[0;34m\u001b[0m\u001b[0;34m\u001b[0m\u001b[0m\n\u001b[0;32m----> 2\u001b[0;31m \u001b[0mw2v_model\u001b[0m\u001b[0;34m.\u001b[0m\u001b[0mwv\u001b[0m\u001b[0;34m.\u001b[0m\u001b[0mmost_similar\u001b[0m\u001b[0;34m(\u001b[0m\u001b[0mnegative\u001b[0m\u001b[0;34m=\u001b[0m\u001b[0;34m[\u001b[0m\u001b[0;34m\"diedaa\"\u001b[0m\u001b[0;34m]\u001b[0m\u001b[0;34m)\u001b[0m\u001b[0;34m\u001b[0m\u001b[0;34m\u001b[0m\u001b[0m\n\u001b[0m",
            "\u001b[0;32m/usr/local/lib/python3.10/dist-packages/gensim/models/keyedvectors.py\u001b[0m in \u001b[0;36mmost_similar\u001b[0;34m(self, positive, negative, topn, clip_start, clip_end, restrict_vocab, indexer)\u001b[0m\n\u001b[1;32m    839\u001b[0m \u001b[0;34m\u001b[0m\u001b[0m\n\u001b[1;32m    840\u001b[0m         \u001b[0;31m# compute the weighted average of all keys\u001b[0m\u001b[0;34m\u001b[0m\u001b[0;34m\u001b[0m\u001b[0m\n\u001b[0;32m--> 841\u001b[0;31m         \u001b[0mmean\u001b[0m \u001b[0;34m=\u001b[0m \u001b[0mself\u001b[0m\u001b[0;34m.\u001b[0m\u001b[0mget_mean_vector\u001b[0m\u001b[0;34m(\u001b[0m\u001b[0mkeys\u001b[0m\u001b[0;34m,\u001b[0m \u001b[0mweight\u001b[0m\u001b[0;34m,\u001b[0m \u001b[0mpre_normalize\u001b[0m\u001b[0;34m=\u001b[0m\u001b[0;32mTrue\u001b[0m\u001b[0;34m,\u001b[0m \u001b[0mpost_normalize\u001b[0m\u001b[0;34m=\u001b[0m\u001b[0;32mTrue\u001b[0m\u001b[0;34m,\u001b[0m \u001b[0mignore_missing\u001b[0m\u001b[0;34m=\u001b[0m\u001b[0;32mFalse\u001b[0m\u001b[0;34m)\u001b[0m\u001b[0;34m\u001b[0m\u001b[0;34m\u001b[0m\u001b[0m\n\u001b[0m\u001b[1;32m    842\u001b[0m         all_keys = [\n\u001b[1;32m    843\u001b[0m             \u001b[0mself\u001b[0m\u001b[0;34m.\u001b[0m\u001b[0mget_index\u001b[0m\u001b[0;34m(\u001b[0m\u001b[0mkey\u001b[0m\u001b[0;34m)\u001b[0m \u001b[0;32mfor\u001b[0m \u001b[0mkey\u001b[0m \u001b[0;32min\u001b[0m \u001b[0mkeys\u001b[0m \u001b[0;32mif\u001b[0m \u001b[0misinstance\u001b[0m\u001b[0;34m(\u001b[0m\u001b[0mkey\u001b[0m\u001b[0;34m,\u001b[0m \u001b[0m_KEY_TYPES\u001b[0m\u001b[0;34m)\u001b[0m \u001b[0;32mand\u001b[0m \u001b[0mself\u001b[0m\u001b[0;34m.\u001b[0m\u001b[0mhas_index_for\u001b[0m\u001b[0;34m(\u001b[0m\u001b[0mkey\u001b[0m\u001b[0;34m)\u001b[0m\u001b[0;34m\u001b[0m\u001b[0;34m\u001b[0m\u001b[0m\n",
            "\u001b[0;32m/usr/local/lib/python3.10/dist-packages/gensim/models/keyedvectors.py\u001b[0m in \u001b[0;36mget_mean_vector\u001b[0;34m(self, keys, weights, pre_normalize, post_normalize, ignore_missing)\u001b[0m\n\u001b[1;32m    516\u001b[0m                 \u001b[0mtotal_weight\u001b[0m \u001b[0;34m+=\u001b[0m \u001b[0mabs\u001b[0m\u001b[0;34m(\u001b[0m\u001b[0mweights\u001b[0m\u001b[0;34m[\u001b[0m\u001b[0midx\u001b[0m\u001b[0;34m]\u001b[0m\u001b[0;34m)\u001b[0m\u001b[0;34m\u001b[0m\u001b[0;34m\u001b[0m\u001b[0m\n\u001b[1;32m    517\u001b[0m             \u001b[0;32melif\u001b[0m \u001b[0;32mnot\u001b[0m \u001b[0mignore_missing\u001b[0m\u001b[0;34m:\u001b[0m\u001b[0;34m\u001b[0m\u001b[0;34m\u001b[0m\u001b[0m\n\u001b[0;32m--> 518\u001b[0;31m                 \u001b[0;32mraise\u001b[0m \u001b[0mKeyError\u001b[0m\u001b[0;34m(\u001b[0m\u001b[0;34mf\"Key '{key}' not present in vocabulary\"\u001b[0m\u001b[0;34m)\u001b[0m\u001b[0;34m\u001b[0m\u001b[0;34m\u001b[0m\u001b[0m\n\u001b[0m\u001b[1;32m    519\u001b[0m \u001b[0;34m\u001b[0m\u001b[0m\n\u001b[1;32m    520\u001b[0m         \u001b[0;32mif\u001b[0m \u001b[0mtotal_weight\u001b[0m \u001b[0;34m>\u001b[0m \u001b[0;36m0\u001b[0m\u001b[0;34m:\u001b[0m\u001b[0;34m\u001b[0m\u001b[0;34m\u001b[0m\u001b[0m\n",
            "\u001b[0;31mKeyError\u001b[0m: \"Key 'diedaa' not present in vocabulary\""
          ]
        }
      ]
    },
    {
      "cell_type": "code",
      "source": [
        "# el método `get_vector` permite obtener los vectores:\n",
        "vector_love = w2v_model.wv.get_vector(\"love\")\n",
        "print(vector_love)"
      ],
      "metadata": {
        "colab": {
          "base_uri": "https://localhost:8080/"
        },
        "id": "-TNQMrAsQzGD",
        "outputId": "c9a9e505-0f8d-464f-ffd5-13e48888fa05"
      },
      "execution_count": null,
      "outputs": [
        {
          "output_type": "stream",
          "name": "stdout",
          "text": [
            "[ 0.17736822  0.21460655 -0.05408018  0.06707036  0.13059464 -0.25713933\n",
            "  0.00711611  0.26743424 -0.03100746  0.259963    0.21179457 -0.08465387\n",
            " -0.26272097  0.308386   -0.07934437 -0.13357355  0.2994755   0.18062147\n",
            " -0.13111673 -0.11857472  0.03468326  0.1125607   0.08478875  0.08090881\n",
            " -0.17622267  0.03122034 -0.08725598  0.23746666 -0.11507358 -0.29119617\n",
            " -0.03650665 -0.3322312   0.23262788  0.10366543 -0.18365337  0.08299578\n",
            "  0.14315338 -0.19761457 -0.00757894  0.1119568  -0.10421463 -0.13083619\n",
            " -0.03264419 -0.04687435  0.11330808  0.10231452 -0.16202034 -0.10347028\n",
            "  0.03659901 -0.08524423 -0.34872082 -0.02154255  0.25938764  0.16540806\n",
            "  0.0310861   0.09505633  0.24452917 -0.09859891  0.18298703  0.0645447\n",
            "  0.016967   -0.3259168  -0.04774074 -0.05418535 -0.04338397 -0.09137302\n",
            "  0.00889874  0.11636022 -0.25662988  0.05426472  0.08915784  0.04541444\n",
            "  0.20835714 -0.19101828  0.32210803  0.19337991  0.09080223 -0.00362429\n",
            " -0.18664253 -0.07053486 -0.1213743  -0.03477469 -0.15798187  0.39070287\n",
            " -0.06144987  0.11083187 -0.16213974 -0.24604863  0.15004653  0.41447446\n",
            " -0.02289782 -0.17896852 -0.07827526 -0.22193784  0.02855509  0.48533952\n",
            "  0.04447097  0.12464199 -0.04169935  0.1982593  -0.15919553 -0.08606501\n",
            "  0.1320642   0.07071835  0.30667147  0.08809892 -0.19750106  0.23502588\n",
            " -0.07388738  0.04295443 -0.24779157 -0.28854167 -0.4401632   0.00458563\n",
            " -0.07824975  0.18824083  0.05077408 -0.05739668  0.15620743 -0.48762608\n",
            "  0.1922928   0.08314091  0.04989756  0.02644576 -0.06825414  0.35304525\n",
            "  0.17191295 -0.16261117 -0.2936474   0.29585826  0.34883434  0.13242614\n",
            "  0.20136862 -0.45008007  0.10677742  0.29548344  0.05580255 -0.10513617\n",
            " -0.18692017 -0.00885901  0.01701376 -0.16563897 -0.11337513  0.06720471\n",
            "  0.15243004 -0.00960089 -0.0473961  -0.08677159 -0.07125839  0.16441917\n",
            "  0.00310922 -0.36776385  0.08532935  0.06346983 -0.02668795  0.22113207\n",
            " -0.2441667   0.02439994 -0.00925008  0.23633759 -0.10890642  0.11366176\n",
            " -0.0994612   0.21860765  0.01365219  0.01017555 -0.1882097   0.25845018\n",
            "  0.30251107  0.03778573  0.206645    0.22037302  0.16829754  0.04512674\n",
            "  0.01971447 -0.36934844  0.0328729  -0.20335236  0.12939689  0.04162559\n",
            "  0.02085797 -0.10500363 -0.17457162 -0.28335714 -0.08274048 -0.04555536\n",
            " -0.11861075 -0.03437103  0.0255297  -0.2554016   0.17146216  0.05093628\n",
            "  0.0917547  -0.06427904 -0.16107002  0.19086204 -0.10930005 -0.18050742\n",
            " -0.06337117  0.01224837 -0.09302392  0.22475737  0.30700293 -0.26619977\n",
            "  0.2305236   0.00149169  0.13293476  0.02429233  0.07883647 -0.09135374\n",
            " -0.17123872 -0.3664065   0.3834617  -0.21642369  0.30520016 -0.05142065\n",
            " -0.36278993 -0.23481902  0.05347933 -0.33067894 -0.01501467  0.07849759\n",
            "  0.01582254 -0.111112    0.25853142 -0.1510902   0.07833586  0.03887907\n",
            "  0.06565052 -0.10252414 -0.02964626 -0.17363134  0.01443172  0.14266178\n",
            " -0.2042187   0.03214323 -0.1629491   0.23105827 -0.08103111 -0.07967328\n",
            "  0.13010906 -0.15625998  0.0689413  -0.03020397 -0.04729844 -0.24360013\n",
            "  0.2185359  -0.0347794   0.05899534  0.17103592  0.02150829  0.2957355\n",
            "  0.11162414 -0.16905093 -0.18563178 -0.19697626  0.3415001   0.18426846\n",
            " -0.20898484 -0.06920402  0.02646237 -0.33699226  0.0361828  -0.02290664\n",
            " -0.04528077 -0.02644458  0.27353263  0.2873995  -0.03061444  0.13751149\n",
            "  0.05503082  0.02680384  0.05629698  0.03125441  0.27008575  0.18144625\n",
            "  0.04076385  0.18558657 -0.10238926 -0.05794458  0.04535891 -0.09978388\n",
            " -0.17145762 -0.15288326  0.09159966  0.05247529  0.00280528  0.00947132\n",
            "  0.23113796  0.0304687   0.11368281  0.35986233  0.15569495 -0.02521801\n",
            "  0.35871565  0.3222857   0.00839845  0.1805266   0.1312731  -0.31311095]\n"
          ]
        }
      ]
    },
    {
      "cell_type": "code",
      "source": [
        "# el método `most_similar` también permite comparar a partir de vectores\n",
        "w2v_model.wv.most_similar(vector_love)"
      ],
      "metadata": {
        "colab": {
          "base_uri": "https://localhost:8080/"
        },
        "id": "7VaUWr21YvB1",
        "outputId": "4e20e420-9035-4736-bf24-9d4914ecc1fd"
      },
      "execution_count": null,
      "outputs": [
        {
          "output_type": "execute_result",
          "data": {
            "text/plain": [
              "[('love', 1.0),\n",
              " ('babe', 0.9132986068725586),\n",
              " ('someone', 0.8914992809295654),\n",
              " ('nothing', 0.8811879754066467),\n",
              " ('need', 0.8758756518363953),\n",
              " (\"didn't\", 0.8689683079719543),\n",
              " (\"there's\", 0.8557919859886169),\n",
              " ('you', 0.8447725772857666),\n",
              " ('feed', 0.8422104716300964),\n",
              " ('somebody', 0.8385539054870605)]"
            ]
          },
          "metadata": {},
          "execution_count": 24
        }
      ]
    },
    {
      "cell_type": "code",
      "source": [
        "# Palabras que MÁS se relacionan con...:\n",
        "w2v_model.wv.most_similar(positive=[\"love\"], topn=10)"
      ],
      "metadata": {
        "colab": {
          "base_uri": "https://localhost:8080/"
        },
        "id": "W2hiMj7cZmT4",
        "outputId": "d8e9f4f6-84f3-4733-d993-b94440f9bd28"
      },
      "execution_count": null,
      "outputs": [
        {
          "output_type": "execute_result",
          "data": {
            "text/plain": [
              "[('babe', 0.9132986068725586),\n",
              " ('someone', 0.8914992809295654),\n",
              " ('nothing', 0.8811879754066467),\n",
              " ('need', 0.8758756518363953),\n",
              " (\"didn't\", 0.8689682483673096),\n",
              " (\"there's\", 0.8557919859886169),\n",
              " ('you', 0.8447725772857666),\n",
              " ('feed', 0.8422104716300964),\n",
              " ('somebody', 0.8385538458824158),\n",
              " ('hope', 0.8361446261405945)]"
            ]
          },
          "metadata": {},
          "execution_count": 23
        }
      ]
    },
    {
      "cell_type": "markdown",
      "source": [
        "### Visualizar agrupación de vectores"
      ],
      "metadata": {
        "id": "09bYfRUYZul7"
      }
    },
    {
      "cell_type": "code",
      "source": [
        "from sklearn.decomposition import IncrementalPCA\n",
        "from sklearn.manifold import TSNE\n",
        "import numpy as np\n",
        "\n",
        "def reduce_dimensions(model, num_dimensions = 2 ):\n",
        "\n",
        "    vectors = np.asarray(model.wv.vectors)\n",
        "    labels = np.asarray(model.wv.index_to_key)\n",
        "\n",
        "    tsne = TSNE(n_components=num_dimensions, random_state=0)\n",
        "    vectors = tsne.fit_transform(vectors)\n",
        "\n",
        "    return vectors, labels"
      ],
      "metadata": {
        "id": "YDNXRwTQZ-kL"
      },
      "execution_count": null,
      "outputs": []
    },
    {
      "cell_type": "code",
      "source": [
        "# Graficar los embedddings en 2D\n",
        "import plotly.graph_objects as go\n",
        "import plotly.express as px\n",
        "\n",
        "vecs, labels = reduce_dimensions(w2v_model)\n",
        "\n",
        "MAX_WORDS=200\n",
        "fig = px.scatter(x=vecs[:MAX_WORDS,0], y=vecs[:MAX_WORDS,1], text=labels[:MAX_WORDS])\n",
        "fig.show(renderer=\"colab\") # esto para plotly en colab"
      ],
      "metadata": {
        "colab": {
          "base_uri": "https://localhost:8080/",
          "height": 542
        },
        "id": "oU4dv6Lchsji",
        "outputId": "c9d83cd9-2a66-4ba5-fe1a-d6e73c7a3dca"
      },
      "execution_count": null,
      "outputs": [
        {
          "output_type": "display_data",
          "data": {
            "text/html": [
              "<html>\n",
              "<head><meta charset=\"utf-8\" /></head>\n",
              "<body>\n",
              "    <div>            <script src=\"https://cdnjs.cloudflare.com/ajax/libs/mathjax/2.7.5/MathJax.js?config=TeX-AMS-MML_SVG\"></script><script type=\"text/javascript\">if (window.MathJax && window.MathJax.Hub && window.MathJax.Hub.Config) {window.MathJax.Hub.Config({SVG: {font: \"STIX-Web\"}});}</script>                <script type=\"text/javascript\">window.PlotlyConfig = {MathJaxConfig: 'local'};</script>\n",
              "        <script charset=\"utf-8\" src=\"https://cdn.plot.ly/plotly-2.24.1.min.js\"></script>                <div id=\"349c0f59-33a6-4c63-8e6b-0ed0a3bf839d\" class=\"plotly-graph-div\" style=\"height:525px; width:100%;\"></div>            <script type=\"text/javascript\">                                    window.PLOTLYENV=window.PLOTLYENV || {};                                    if (document.getElementById(\"349c0f59-33a6-4c63-8e6b-0ed0a3bf839d\")) {                    Plotly.newPlot(                        \"349c0f59-33a6-4c63-8e6b-0ed0a3bf839d\",                        [{\"hovertemplate\":\"x=%{x}\\u003cbr\\u003ey=%{y}\\u003cbr\\u003etext=%{text}\\u003cextra\\u003e\\u003c\\u002fextra\\u003e\",\"legendgroup\":\"\",\"marker\":{\"color\":\"#636efa\",\"symbol\":\"circle\"},\"mode\":\"markers+text\",\"name\":\"\",\"orientation\":\"v\",\"showlegend\":false,\"text\":[\"you\",\"i\",\"the\",\"to\",\"and\",\"love\",\"a\",\"me\",\"in\",\"all\",\"nah\",\"my\",\"it\",\"know\",\"that\",\"be\",\"on\",\"of\",\"she\",\"is\",\"say\",\"now\",\"oh\",\"your\",\"yeah\",\"get\",\"don't\",\"back\",\"with\",\"let\",\"her\",\"can\",\"it's\",\"do\",\"when\",\"come\",\"i'm\",\"will\",\"he\",\"but\",\"for\",\"so\",\"there\",\"need\",\"like\",\"together\",\"no\",\"i'll\",\"see\",\"we\",\"was\",\"never\",\"down\",\"if\",\"way\",\"want\",\"hey\",\"out\",\"one\",\"got\",\"can't\",\"girl\",\"well\",\"good\",\"go\",\"sun\",\"his\",\"hello\",\"home\",\"they\",\"day\",\"are\",\"ah\",\"right\",\"from\",\"little\",\"at\",\"man\",\"help\",\"here\",\"have\",\"gonna\",\"not\",\"world\",\"what\",\"going\",\"how\",\"please\",\"still\",\"too\",\"just\",\"you're\",\"time\",\"as\",\"make\",\"long\",\"yes\",\"yellow\",\"life\",\"once\",\"sky\",\"been\",\"think\",\"tell\",\"why\",\"only\",\"where\",\"people\",\"she's\",\"eyes\",\"jude\",\"take\",\"submarine\",\"up\",\"hold\",\"goodbye\",\"give\",\"nowhere\",\"sing\",\"look\",\"friends\",\"always\",\"hand\",\"boy\",\"we're\",\"am\",\"away\",\"darling\",\"goo\",\"nothing\",\"should\",\"lonely\",\"could\",\"feel\",\"some\",\"night\",\"comes\",\"had\",\"would\",\"better\",\"head\",\"them\",\"four\",\"buy\",\"more\",\"i've\",\"la\",\"mind\",\"two\",\"this\",\"everything\",\"carry\",\"by\",\"our\",\"sunshine\",\"weight\",\"change\",\"us\",\"lucy\",\"birthday\",\"an\",\"true\",\"you'll\",\"every\",\"pretty\",\"three\",\"diamonds\",\"before\",\"believe\",\"these\",\"i'd\",\"words\",\"mm\",\"work\",\"dear\",\"leave\",\"were\",\"mine\",\"there's\",\"nobody\",\"told\",\"money\",\"bom\",\"said\",\"forever\",\"round\",\"children\",\"'cause\",\"something\",\"about\",\"waiting\",\"standing\",\"who\",\"didn't\",\"try\",\"loves\",\"then\",\"hide\",\"saw\",\"prudence\"],\"x\":[2.838963747024536,9.982600212097168,0.5375071167945862,-4.791562080383301,-6.886194229125977,-0.4934464693069458,-9.430517196655273,-2.6611714363098145,-1.359351634979248,9.021523475646973,-14.624564170837402,8.797327995300293,14.560478210449219,10.477313041687012,12.067187309265137,12.200465202331543,13.048758506774902,-2.616943120956421,-10.197563171386719,4.180907249450684,11.93883991241455,9.256722450256348,7.293242454528809,-1.9336940050125122,-9.474272727966309,22.059444427490234,10.969840049743652,22.342159271240234,-2.399932622909546,13.392200469970703,6.998386859893799,0.1346704661846161,9.413893699645996,5.834963321685791,4.3270263671875,12.72447681427002,-17.47830581665039,1.191132664680481,-0.10350888967514038,-2.123049259185791,11.046406745910645,4.674851417541504,18.199222564697266,-0.1414731740951538,-4.680105209350586,9.67143726348877,8.373656272888184,10.157896041870117,-0.3179813623428345,-6.52002477645874,18.634267807006836,7.389016151428223,12.918389320373535,3.2965288162231445,21.22577667236328,-1.173004388809204,-13.70418643951416,13.224194526672363,-22.55449676513672,-7.509551525115967,4.747176170349121,4.43795919418335,-1.9701505899429321,19.459735870361328,19.323974609375,-9.70400619506836,-3.479034900665283,13.131912231445312,22.22352409362793,-2.2351906299591064,19.481304168701172,-4.518866539001465,4.171380519866943,8.933794021606445,-14.231727600097656,-13.733592987060547,4.351020336151123,-6.745800495147705,-15.062121391296387,-9.70981502532959,-5.61811637878418,13.072504997253418,-17.778608322143555,13.033975601196289,8.256095886230469,-15.499510765075684,6.390833377838135,-5.0528788566589355,0.6469274759292603,13.195125579833984,-5.9835286140441895,14.58084774017334,12.533474922180176,4.859212875366211,-3.113860607147217,12.724212646484375,15.780452728271484,-6.959356784820557,6.364383220672607,19.56490135192871,-1.3776589632034302,4.680457592010498,7.074658393859863,2.312488555908203,11.94332504272461,9.006549835205078,20.446462631225586,4.220479488372803,7.0989909172058105,-1.539312481880188,-13.677209854125977,8.898698806762695,-6.964517116546631,1.236354112625122,-0.7538406848907471,12.947199821472168,-7.206881999969482,-5.209415435791016,-0.28830838203430176,4.32887601852417,-14.596967697143555,10.8587064743042,-1.7226166725158691,14.844179153442383,-8.544918060302734,16.150156021118164,5.201637268066406,-13.943495750427246,23.5637149810791,-0.23457446694374084,8.919766426086426,4.07794713973999,8.042705535888672,5.350041389465332,-5.722425937652588,2.4333345890045166,-9.700400352478027,-10.619771003723145,1.2975109815597534,-3.4345085620880127,-1.8858003616333008,-7.680380344390869,-22.498580932617188,4.703067302703857,-9.604215621948242,-6.786909580230713,-11.177506446838379,7.20937967300415,-22.371326446533203,8.27763557434082,-5.641467571258545,13.627756118774414,-10.448958396911621,21.379077911376953,19.471588134765625,13.438395500183105,13.362412452697754,-4.9815354347229,-1.6988379955291748,3.3613266944885254,11.864350318908691,10.744322776794434,6.971465110778809,2.4930031299591064,-13.273324012756348,-22.32157325744629,-1.9631098508834839,11.13770866394043,4.38882303237915,-0.47863221168518066,2.339540958404541,10.133413314819336,-9.414175987243652,13.286645889282227,-10.114877700805664,7.286474227905273,5.700143337249756,-8.778143882751465,2.949378490447998,-1.648893117904663,3.8735499382019043,4.960979461669922,-21.928220748901367,-3.933897018432617,-16.993003845214844,6.649723052978516,19.27179718017578,-16.356109619140625,-1.3672841787338257,-4.340540409088135,7.641147136688232,4.668107986450195,-5.873024940490723,1.5255225896835327,-11.067024230957031,-9.753378868103027,-9.973467826843262,-6.3170623779296875,4.226613521575928,-10.347503662109375],\"xaxis\":\"x\",\"y\":[-21.38149642944336,-18.438377380371094,16.801450729370117,-7.051224231719971,3.754399538040161,-20.69751739501953,14.698360443115234,-21.004074096679688,19.119022369384766,20.204439163208008,-15.292767524719238,14.121949195861816,16.442596435546875,-15.89709758758545,1.6942745447158813,-7.7192840576171875,20.559246063232422,15.528894424438477,-18.375076293945312,13.82436752319336,-17.82828140258789,20.28754425048828,-20.95779037475586,-26.0498046875,-19.560483932495117,-4.6839447021484375,-15.156420707702637,-4.181734085083008,21.60183334350586,-8.660977363586426,-3.398423910140991,-14.68058967590332,-2.6768734455108643,-21.006914138793945,-22.04243278503418,20.550092697143555,-4.0466742515563965,-22.69362449645996,-8.345388412475586,-13.266801834106445,3.851510763168335,-19.070270538330078,-2.844860553741455,-21.867889404296875,-20.039037704467773,21.03231430053711,-19.72781753540039,-11.503844261169434,-16.6578369140625,19.67976188659668,-3.035555839538574,-18.72821807861328,-9.16997241973877,-17.880666732788086,-1.9654111862182617,-25.14462661743164,-14.968624114990234,18.352479934692383,1.7255762815475464,-15.139522552490234,-26.7650203704834,9.433177947998047,-8.025964736938477,13.316680908203125,10.485108375549316,25.62236785888672,16.564311981201172,-18.44642448425293,-3.473133087158203,-10.59421443939209,13.880477905273438,-0.7951553463935852,26.296533584594727,21.29364013671875,15.616515159606934,15.2471284866333,25.035858154296875,15.49736499786377,15.244677543640137,25.62425422668457,-0.5557090044021606,7.022282123565674,-10.163151741027832,9.041138648986816,-18.158279418945312,-2.413395404815674,-12.00219440460205,-21.367816925048828,-22.42497444152832,0.6710139513015747,-15.798483848571777,6.889676094055176,2.3841400146484375,1.137285590171814,-15.947582244873047,3.9112157821655273,-15.233771324157715,21.413389205932617,15.964007377624512,-3.978609085083008,22.033489227294922,7.107960224151611,-17.29109764099121,-20.216094970703125,-17.032381057739258,4.410145282745361,-4.276609420776367,21.065961837768555,-0.2869432866573334,17.75337791442871,-14.913620948791504,-8.788951873779297,21.41185760498047,14.993703842163086,-26.130590438842773,-18.300735473632812,-13.76458740234375,16.273773193359375,-11.8950777053833,25.216176986694336,15.616869926452637,-9.867213249206543,-25.94891357421875,6.830827713012695,8.527377128601074,-14.808009147644043,-5.84785270690918,12.397010803222656,5.42926549911499,-19.17107582092285,-13.967561721801758,21.638471603393555,-15.89632511138916,-14.773481369018555,0.5104060769081116,9.276945114135742,25.614910125732422,-5.018797874450684,-14.957069396972656,-16.100069046020508,16.647289276123047,1.7838659286499023,-0.3326951563358307,-26.73134994506836,-13.128954887390137,-11.942083358764648,-7.675899505615234,14.930630683898926,0.8058097958564758,5.055475234985352,-13.456974983215332,5.9854512214660645,13.373199462890625,-1.1168196201324463,13.664650917053223,5.335666179656982,8.382848739624023,10.757699966430664,21.50844383239746,-12.770384788513184,-4.984148979187012,-9.509395599365234,-14.78965950012207,7.083154678344727,11.949882507324219,0.2838653028011322,21.667213439941406,1.480636477470398,-19.619903564453125,13.106077194213867,-4.982314109802246,-5.991342544555664,-8.616519927978516,18.277128219604492,6.278156757354736,-9.733050346374512,2.772592067718506,-5.431015491485596,-16.34111213684082,-3.044740915298462,-20.231657028198242,-26.996992111206055,-7.336965084075928,-1.4478353261947632,0.11025389283895493,12.075596809387207,11.293593406677246,-3.948366403579712,0.38991883397102356,-11.069907188415527,5.714303970336914,4.405151844024658,15.723204612731934,-19.859773635864258,13.073870658874512,-19.0628719329834,2.7974143028259277,-15.239845275878906,-4.443398952484131,6.393514156341553],\"yaxis\":\"y\",\"type\":\"scatter\"}],                        {\"template\":{\"data\":{\"histogram2dcontour\":[{\"type\":\"histogram2dcontour\",\"colorbar\":{\"outlinewidth\":0,\"ticks\":\"\"},\"colorscale\":[[0.0,\"#0d0887\"],[0.1111111111111111,\"#46039f\"],[0.2222222222222222,\"#7201a8\"],[0.3333333333333333,\"#9c179e\"],[0.4444444444444444,\"#bd3786\"],[0.5555555555555556,\"#d8576b\"],[0.6666666666666666,\"#ed7953\"],[0.7777777777777778,\"#fb9f3a\"],[0.8888888888888888,\"#fdca26\"],[1.0,\"#f0f921\"]]}],\"choropleth\":[{\"type\":\"choropleth\",\"colorbar\":{\"outlinewidth\":0,\"ticks\":\"\"}}],\"histogram2d\":[{\"type\":\"histogram2d\",\"colorbar\":{\"outlinewidth\":0,\"ticks\":\"\"},\"colorscale\":[[0.0,\"#0d0887\"],[0.1111111111111111,\"#46039f\"],[0.2222222222222222,\"#7201a8\"],[0.3333333333333333,\"#9c179e\"],[0.4444444444444444,\"#bd3786\"],[0.5555555555555556,\"#d8576b\"],[0.6666666666666666,\"#ed7953\"],[0.7777777777777778,\"#fb9f3a\"],[0.8888888888888888,\"#fdca26\"],[1.0,\"#f0f921\"]]}],\"heatmap\":[{\"type\":\"heatmap\",\"colorbar\":{\"outlinewidth\":0,\"ticks\":\"\"},\"colorscale\":[[0.0,\"#0d0887\"],[0.1111111111111111,\"#46039f\"],[0.2222222222222222,\"#7201a8\"],[0.3333333333333333,\"#9c179e\"],[0.4444444444444444,\"#bd3786\"],[0.5555555555555556,\"#d8576b\"],[0.6666666666666666,\"#ed7953\"],[0.7777777777777778,\"#fb9f3a\"],[0.8888888888888888,\"#fdca26\"],[1.0,\"#f0f921\"]]}],\"heatmapgl\":[{\"type\":\"heatmapgl\",\"colorbar\":{\"outlinewidth\":0,\"ticks\":\"\"},\"colorscale\":[[0.0,\"#0d0887\"],[0.1111111111111111,\"#46039f\"],[0.2222222222222222,\"#7201a8\"],[0.3333333333333333,\"#9c179e\"],[0.4444444444444444,\"#bd3786\"],[0.5555555555555556,\"#d8576b\"],[0.6666666666666666,\"#ed7953\"],[0.7777777777777778,\"#fb9f3a\"],[0.8888888888888888,\"#fdca26\"],[1.0,\"#f0f921\"]]}],\"contourcarpet\":[{\"type\":\"contourcarpet\",\"colorbar\":{\"outlinewidth\":0,\"ticks\":\"\"}}],\"contour\":[{\"type\":\"contour\",\"colorbar\":{\"outlinewidth\":0,\"ticks\":\"\"},\"colorscale\":[[0.0,\"#0d0887\"],[0.1111111111111111,\"#46039f\"],[0.2222222222222222,\"#7201a8\"],[0.3333333333333333,\"#9c179e\"],[0.4444444444444444,\"#bd3786\"],[0.5555555555555556,\"#d8576b\"],[0.6666666666666666,\"#ed7953\"],[0.7777777777777778,\"#fb9f3a\"],[0.8888888888888888,\"#fdca26\"],[1.0,\"#f0f921\"]]}],\"surface\":[{\"type\":\"surface\",\"colorbar\":{\"outlinewidth\":0,\"ticks\":\"\"},\"colorscale\":[[0.0,\"#0d0887\"],[0.1111111111111111,\"#46039f\"],[0.2222222222222222,\"#7201a8\"],[0.3333333333333333,\"#9c179e\"],[0.4444444444444444,\"#bd3786\"],[0.5555555555555556,\"#d8576b\"],[0.6666666666666666,\"#ed7953\"],[0.7777777777777778,\"#fb9f3a\"],[0.8888888888888888,\"#fdca26\"],[1.0,\"#f0f921\"]]}],\"mesh3d\":[{\"type\":\"mesh3d\",\"colorbar\":{\"outlinewidth\":0,\"ticks\":\"\"}}],\"scatter\":[{\"fillpattern\":{\"fillmode\":\"overlay\",\"size\":10,\"solidity\":0.2},\"type\":\"scatter\"}],\"parcoords\":[{\"type\":\"parcoords\",\"line\":{\"colorbar\":{\"outlinewidth\":0,\"ticks\":\"\"}}}],\"scatterpolargl\":[{\"type\":\"scatterpolargl\",\"marker\":{\"colorbar\":{\"outlinewidth\":0,\"ticks\":\"\"}}}],\"bar\":[{\"error_x\":{\"color\":\"#2a3f5f\"},\"error_y\":{\"color\":\"#2a3f5f\"},\"marker\":{\"line\":{\"color\":\"#E5ECF6\",\"width\":0.5},\"pattern\":{\"fillmode\":\"overlay\",\"size\":10,\"solidity\":0.2}},\"type\":\"bar\"}],\"scattergeo\":[{\"type\":\"scattergeo\",\"marker\":{\"colorbar\":{\"outlinewidth\":0,\"ticks\":\"\"}}}],\"scatterpolar\":[{\"type\":\"scatterpolar\",\"marker\":{\"colorbar\":{\"outlinewidth\":0,\"ticks\":\"\"}}}],\"histogram\":[{\"marker\":{\"pattern\":{\"fillmode\":\"overlay\",\"size\":10,\"solidity\":0.2}},\"type\":\"histogram\"}],\"scattergl\":[{\"type\":\"scattergl\",\"marker\":{\"colorbar\":{\"outlinewidth\":0,\"ticks\":\"\"}}}],\"scatter3d\":[{\"type\":\"scatter3d\",\"line\":{\"colorbar\":{\"outlinewidth\":0,\"ticks\":\"\"}},\"marker\":{\"colorbar\":{\"outlinewidth\":0,\"ticks\":\"\"}}}],\"scattermapbox\":[{\"type\":\"scattermapbox\",\"marker\":{\"colorbar\":{\"outlinewidth\":0,\"ticks\":\"\"}}}],\"scatterternary\":[{\"type\":\"scatterternary\",\"marker\":{\"colorbar\":{\"outlinewidth\":0,\"ticks\":\"\"}}}],\"scattercarpet\":[{\"type\":\"scattercarpet\",\"marker\":{\"colorbar\":{\"outlinewidth\":0,\"ticks\":\"\"}}}],\"carpet\":[{\"aaxis\":{\"endlinecolor\":\"#2a3f5f\",\"gridcolor\":\"white\",\"linecolor\":\"white\",\"minorgridcolor\":\"white\",\"startlinecolor\":\"#2a3f5f\"},\"baxis\":{\"endlinecolor\":\"#2a3f5f\",\"gridcolor\":\"white\",\"linecolor\":\"white\",\"minorgridcolor\":\"white\",\"startlinecolor\":\"#2a3f5f\"},\"type\":\"carpet\"}],\"table\":[{\"cells\":{\"fill\":{\"color\":\"#EBF0F8\"},\"line\":{\"color\":\"white\"}},\"header\":{\"fill\":{\"color\":\"#C8D4E3\"},\"line\":{\"color\":\"white\"}},\"type\":\"table\"}],\"barpolar\":[{\"marker\":{\"line\":{\"color\":\"#E5ECF6\",\"width\":0.5},\"pattern\":{\"fillmode\":\"overlay\",\"size\":10,\"solidity\":0.2}},\"type\":\"barpolar\"}],\"pie\":[{\"automargin\":true,\"type\":\"pie\"}]},\"layout\":{\"autotypenumbers\":\"strict\",\"colorway\":[\"#636efa\",\"#EF553B\",\"#00cc96\",\"#ab63fa\",\"#FFA15A\",\"#19d3f3\",\"#FF6692\",\"#B6E880\",\"#FF97FF\",\"#FECB52\"],\"font\":{\"color\":\"#2a3f5f\"},\"hovermode\":\"closest\",\"hoverlabel\":{\"align\":\"left\"},\"paper_bgcolor\":\"white\",\"plot_bgcolor\":\"#E5ECF6\",\"polar\":{\"bgcolor\":\"#E5ECF6\",\"angularaxis\":{\"gridcolor\":\"white\",\"linecolor\":\"white\",\"ticks\":\"\"},\"radialaxis\":{\"gridcolor\":\"white\",\"linecolor\":\"white\",\"ticks\":\"\"}},\"ternary\":{\"bgcolor\":\"#E5ECF6\",\"aaxis\":{\"gridcolor\":\"white\",\"linecolor\":\"white\",\"ticks\":\"\"},\"baxis\":{\"gridcolor\":\"white\",\"linecolor\":\"white\",\"ticks\":\"\"},\"caxis\":{\"gridcolor\":\"white\",\"linecolor\":\"white\",\"ticks\":\"\"}},\"coloraxis\":{\"colorbar\":{\"outlinewidth\":0,\"ticks\":\"\"}},\"colorscale\":{\"sequential\":[[0.0,\"#0d0887\"],[0.1111111111111111,\"#46039f\"],[0.2222222222222222,\"#7201a8\"],[0.3333333333333333,\"#9c179e\"],[0.4444444444444444,\"#bd3786\"],[0.5555555555555556,\"#d8576b\"],[0.6666666666666666,\"#ed7953\"],[0.7777777777777778,\"#fb9f3a\"],[0.8888888888888888,\"#fdca26\"],[1.0,\"#f0f921\"]],\"sequentialminus\":[[0.0,\"#0d0887\"],[0.1111111111111111,\"#46039f\"],[0.2222222222222222,\"#7201a8\"],[0.3333333333333333,\"#9c179e\"],[0.4444444444444444,\"#bd3786\"],[0.5555555555555556,\"#d8576b\"],[0.6666666666666666,\"#ed7953\"],[0.7777777777777778,\"#fb9f3a\"],[0.8888888888888888,\"#fdca26\"],[1.0,\"#f0f921\"]],\"diverging\":[[0,\"#8e0152\"],[0.1,\"#c51b7d\"],[0.2,\"#de77ae\"],[0.3,\"#f1b6da\"],[0.4,\"#fde0ef\"],[0.5,\"#f7f7f7\"],[0.6,\"#e6f5d0\"],[0.7,\"#b8e186\"],[0.8,\"#7fbc41\"],[0.9,\"#4d9221\"],[1,\"#276419\"]]},\"xaxis\":{\"gridcolor\":\"white\",\"linecolor\":\"white\",\"ticks\":\"\",\"title\":{\"standoff\":15},\"zerolinecolor\":\"white\",\"automargin\":true,\"zerolinewidth\":2},\"yaxis\":{\"gridcolor\":\"white\",\"linecolor\":\"white\",\"ticks\":\"\",\"title\":{\"standoff\":15},\"zerolinecolor\":\"white\",\"automargin\":true,\"zerolinewidth\":2},\"scene\":{\"xaxis\":{\"backgroundcolor\":\"#E5ECF6\",\"gridcolor\":\"white\",\"linecolor\":\"white\",\"showbackground\":true,\"ticks\":\"\",\"zerolinecolor\":\"white\",\"gridwidth\":2},\"yaxis\":{\"backgroundcolor\":\"#E5ECF6\",\"gridcolor\":\"white\",\"linecolor\":\"white\",\"showbackground\":true,\"ticks\":\"\",\"zerolinecolor\":\"white\",\"gridwidth\":2},\"zaxis\":{\"backgroundcolor\":\"#E5ECF6\",\"gridcolor\":\"white\",\"linecolor\":\"white\",\"showbackground\":true,\"ticks\":\"\",\"zerolinecolor\":\"white\",\"gridwidth\":2}},\"shapedefaults\":{\"line\":{\"color\":\"#2a3f5f\"}},\"annotationdefaults\":{\"arrowcolor\":\"#2a3f5f\",\"arrowhead\":0,\"arrowwidth\":1},\"geo\":{\"bgcolor\":\"white\",\"landcolor\":\"#E5ECF6\",\"subunitcolor\":\"white\",\"showland\":true,\"showlakes\":true,\"lakecolor\":\"white\"},\"title\":{\"x\":0.05},\"mapbox\":{\"style\":\"light\"}}},\"xaxis\":{\"anchor\":\"y\",\"domain\":[0.0,1.0],\"title\":{\"text\":\"x\"}},\"yaxis\":{\"anchor\":\"x\",\"domain\":[0.0,1.0],\"title\":{\"text\":\"y\"}},\"legend\":{\"tracegroupgap\":0},\"margin\":{\"t\":60}},                        {\"responsive\": true}                    ).then(function(){\n",
              "                            \n",
              "var gd = document.getElementById('349c0f59-33a6-4c63-8e6b-0ed0a3bf839d');\n",
              "var x = new MutationObserver(function (mutations, observer) {{\n",
              "        var display = window.getComputedStyle(gd).display;\n",
              "        if (!display || display === 'none') {{\n",
              "            console.log([gd, 'removed!']);\n",
              "            Plotly.purge(gd);\n",
              "            observer.disconnect();\n",
              "        }}\n",
              "}});\n",
              "\n",
              "// Listen for the removal of the full notebook cells\n",
              "var notebookContainer = gd.closest('#notebook-container');\n",
              "if (notebookContainer) {{\n",
              "    x.observe(notebookContainer, {childList: true});\n",
              "}}\n",
              "\n",
              "// Listen for the clearing of the current output cell\n",
              "var outputEl = gd.closest('.output');\n",
              "if (outputEl) {{\n",
              "    x.observe(outputEl, {childList: true});\n",
              "}}\n",
              "\n",
              "                        })                };                            </script>        </div>\n",
              "</body>\n",
              "</html>"
            ]
          },
          "metadata": {}
        }
      ]
    },
    {
      "cell_type": "code",
      "source": [
        "# Graficar los embedddings en 3D\n",
        "\n",
        "vecs, labels = reduce_dimensions(w2v_model,3)\n",
        "\n",
        "fig = px.scatter_3d(x=vecs[:MAX_WORDS,0], y=vecs[:MAX_WORDS,1], z=vecs[:MAX_WORDS,2],text=labels[:MAX_WORDS])\n",
        "fig.update_traces(marker_size = 2)\n",
        "fig.show(renderer=\"colab\") # esto para plotly en colab"
      ],
      "metadata": {
        "colab": {
          "base_uri": "https://localhost:8080/",
          "height": 542
        },
        "id": "oXRTJpa6hqCh",
        "outputId": "20456095-ebe1-46f1-f0c7-2e683a018a6f"
      },
      "execution_count": null,
      "outputs": [
        {
          "output_type": "display_data",
          "data": {
            "text/html": [
              "<html>\n",
              "<head><meta charset=\"utf-8\" /></head>\n",
              "<body>\n",
              "    <div>            <script src=\"https://cdnjs.cloudflare.com/ajax/libs/mathjax/2.7.5/MathJax.js?config=TeX-AMS-MML_SVG\"></script><script type=\"text/javascript\">if (window.MathJax && window.MathJax.Hub && window.MathJax.Hub.Config) {window.MathJax.Hub.Config({SVG: {font: \"STIX-Web\"}});}</script>                <script type=\"text/javascript\">window.PlotlyConfig = {MathJaxConfig: 'local'};</script>\n",
              "        <script charset=\"utf-8\" src=\"https://cdn.plot.ly/plotly-2.24.1.min.js\"></script>                <div id=\"af0ff857-de57-4467-acb8-06993b90d836\" class=\"plotly-graph-div\" style=\"height:525px; width:100%;\"></div>            <script type=\"text/javascript\">                                    window.PLOTLYENV=window.PLOTLYENV || {};                                    if (document.getElementById(\"af0ff857-de57-4467-acb8-06993b90d836\")) {                    Plotly.newPlot(                        \"af0ff857-de57-4467-acb8-06993b90d836\",                        [{\"hovertemplate\":\"x=%{x}\\u003cbr\\u003ey=%{y}\\u003cbr\\u003ez=%{z}\\u003cbr\\u003etext=%{text}\\u003cextra\\u003e\\u003c\\u002fextra\\u003e\",\"legendgroup\":\"\",\"marker\":{\"color\":\"#636efa\",\"symbol\":\"circle\",\"size\":2},\"mode\":\"markers+text\",\"name\":\"\",\"scene\":\"scene\",\"showlegend\":false,\"text\":[\"you\",\"i\",\"the\",\"to\",\"and\",\"love\",\"a\",\"me\",\"in\",\"all\",\"nah\",\"my\",\"it\",\"know\",\"that\",\"be\",\"on\",\"of\",\"she\",\"is\",\"say\",\"now\",\"oh\",\"your\",\"yeah\",\"get\",\"don't\",\"back\",\"with\",\"let\",\"her\",\"can\",\"it's\",\"do\",\"when\",\"come\",\"i'm\",\"will\",\"he\",\"but\",\"for\",\"so\",\"there\",\"need\",\"like\",\"together\",\"no\",\"i'll\",\"see\",\"we\",\"was\",\"never\",\"down\",\"if\",\"way\",\"want\",\"hey\",\"out\",\"one\",\"got\",\"can't\",\"girl\",\"well\",\"good\",\"go\",\"sun\",\"his\",\"hello\",\"home\",\"they\",\"day\",\"are\",\"ah\",\"right\",\"from\",\"little\",\"at\",\"man\",\"help\",\"here\",\"have\",\"gonna\",\"not\",\"world\",\"what\",\"going\",\"how\",\"please\",\"still\",\"too\",\"just\",\"you're\",\"time\",\"as\",\"make\",\"long\",\"yes\",\"yellow\",\"life\",\"once\",\"sky\",\"been\",\"think\",\"tell\",\"why\",\"only\",\"where\",\"people\",\"she's\",\"eyes\",\"jude\",\"take\",\"submarine\",\"up\",\"hold\",\"goodbye\",\"give\",\"nowhere\",\"sing\",\"look\",\"friends\",\"always\",\"hand\",\"boy\",\"we're\",\"am\",\"away\",\"darling\",\"goo\",\"nothing\",\"should\",\"lonely\",\"could\",\"feel\",\"some\",\"night\",\"comes\",\"had\",\"would\",\"better\",\"head\",\"them\",\"four\",\"buy\",\"more\",\"i've\",\"la\",\"mind\",\"two\",\"this\",\"everything\",\"carry\",\"by\",\"our\",\"sunshine\",\"weight\",\"change\",\"us\",\"lucy\",\"birthday\",\"an\",\"true\",\"you'll\",\"every\",\"pretty\",\"three\",\"diamonds\",\"before\",\"believe\",\"these\",\"i'd\",\"words\",\"mm\",\"work\",\"dear\",\"leave\",\"were\",\"mine\",\"there's\",\"nobody\",\"told\",\"money\",\"bom\",\"said\",\"forever\",\"round\",\"children\",\"'cause\",\"something\",\"about\",\"waiting\",\"standing\",\"who\",\"didn't\",\"try\",\"loves\",\"then\",\"hide\",\"saw\",\"prudence\"],\"x\":[-20.70174789428711,-4.842916965484619,-2.087230682373047,-11.692377090454102,-7.35446310043335,-27.039487838745117,-14.26610279083252,-17.421154022216797,-4.499321460723877,-12.379899024963379,26.850841522216797,-25.563459396362305,-24.64095115661621,5.583834648132324,-9.343039512634277,23.512548446655273,-11.185493469238281,5.517962455749512,19.142744064331055,-12.969707489013672,4.0808000564575195,-12.270428657531738,-3.123403310775757,-28.166471481323242,16.299949645996094,-24.248680114746094,9.296492576599121,-21.182430267333984,-11.875960350036621,27.869577407836914,-23.534597396850586,-15.325037956237793,0.8760161399841309,-10.731039047241211,-18.107065200805664,-10.797502517700195,6.681725978851318,-24.461063385009766,1.504481315612793,-3.855078935623169,-2.061936616897583,-9.835709571838379,-14.244858741760254,-28.589210510253906,-12.695056915283203,-11.606498718261719,-10.663736343383789,13.960453987121582,-22.348072052001953,7.161238670349121,-16.41486358642578,-5.875168323516846,28.213058471679688,-10.613604545593262,-14.045517921447754,-27.535240173339844,24.033601760864258,-16.462703704833984,-0.5375293493270874,7.406795024871826,-3.132566452026367,8.947422981262207,17.511913299560547,7.95676326751709,5.326284885406494,19.433752059936523,7.982795238494873,8.153658866882324,-18.516876220703125,-17.315412521362305,4.182944297790527,-9.62803840637207,33.217323303222656,-11.378174781799316,-26.10731315612793,-24.539079666137695,28.27685546875,13.445439338684082,-30.154966354370117,22.782739639282227,-2.9446332454681396,-20.781566619873047,-6.7115678787231445,-21.755815505981445,-0.0451468862593174,-0.8066151738166809,7.572689056396484,-13.715994834899902,-27.63245391845703,-6.965902328491211,-0.22458642721176147,-15.00869369506836,-6.296000003814697,5.1887640953063965,16.875381469726562,-8.38963794708252,0.013034339062869549,3.42018723487854,-21.41933822631836,-21.644622802734375,-12.92221450805664,11.667064666748047,-6.374897003173828,-22.47637367248535,7.817523002624512,5.127618789672852,-24.049692153930664,21.062490463256836,5.62860107421875,-0.3056574761867523,24.1944580078125,23.09782600402832,0.36492857336997986,-5.144260406494141,-24.236520767211914,9.102872848510742,9.040915489196777,10.893241882324219,-20.70853042602539,30.248247146606445,-26.792184829711914,15.393811225891113,-28.43698501586914,-12.106060981750488,-7.499948024749756,2.9922163486480713,-14.79284954071045,-29.60137939453125,33.212318420410156,-22.118345260620117,9.379236221313477,21.400827407836914,1.2193886041641235,5.074190139770508,-4.189870357513428,6.357025146484375,20.005069732666016,21.234054565429688,-13.154454231262207,18.736576080322266,3.910231828689575,27.378135681152344,11.952752113342285,-6.522375106811523,14.881383895874023,6.950300693511963,33.662506103515625,-20.968894958496094,-1.8993152379989624,7.8439130783081055,6.799672603607178,-15.635348320007324,-17.318525314331055,-9.509759902954102,8.171910285949707,-13.249493598937988,-22.250638961791992,2.868911027908325,-10.737271308898926,-7.1968536376953125,5.579050540924072,17.124441146850586,3.0117688179016113,7.60103178024292,-25.11476707458496,12.461996078491211,-14.696564674377441,-4.289937973022461,-11.854793548583984,-8.163798332214355,-14.682543754577637,24.647974014282227,32.67981719970703,-19.222166061401367,-6.168342590332031,22.603004455566406,-4.002346038818359,25.20058250427246,-13.967489242553711,8.379024505615234,-16.216110229492188,-2.406233310699463,25.49074935913086,-5.808550834655762,12.19885540008545,-16.788959503173828,7.060634613037109,5.405200958251953,-6.3633503913879395,-1.3430988788604736,10.363539695739746,20.02126693725586,9.794326782226562,-19.10593605041504,-18.616830825805664,17.738676071166992,2.2558395862579346,3.3550221920013428,-11.00703239440918,-9.694595336914062],\"y\":[-33.02185821533203,-36.343441009521484,8.03756332397461,-0.08039607107639313,-0.9042083024978638,-28.45966911315918,25.63506507873535,-20.641178131103516,21.236055374145508,11.815224647521973,-9.043906211853027,6.660909175872803,11.190077781677246,-35.65229415893555,-18.284269332885742,-23.0659236907959,22.840919494628906,9.893253326416016,0.9729418158531189,2.2556324005126953,-37.613365173339844,14.312797546386719,-33.291709899902344,-11.722553253173828,-0.43999695777893066,31.365324020385742,-36.44647979736328,35.431034088134766,21.633731842041016,-25.542943954467773,-8.149267196655273,-22.36693000793457,-24.47307014465332,-30.45068359375,-32.55329132080078,22.82413673400879,7.570070266723633,-14.677238464355469,-7.678305149078369,-8.446162223815918,-20.98443603515625,-23.666311264038086,37.11253356933594,-23.03582763671875,-16.704666137695312,18.819421768188477,-36.0027961730957,-25.089630126953125,-18.63086700439453,33.840885162353516,36.09284591674805,-36.51894760131836,-22.145280838012695,-24.47599220275879,32.08597946166992,-19.505891799926758,-13.56144905090332,17.096586227416992,-13.92622184753418,-14.753288269042969,-19.191999435424805,1.9438802003860474,-7.990963459014893,35.915409088134766,32.32810974121094,-4.694710731506348,21.044130325317383,-36.09192657470703,31.317529678344727,3.3188202381134033,35.17616271972656,-6.811853408813477,7.061426162719727,16.26946258544922,18.17439079284668,20.274314880371094,10.12615966796875,26.625417709350586,17.21016502380371,-3.580101251602173,-8.057157516479492,-15.907221794128418,-35.203224182128906,-5.900054931640625,-35.399837493896484,9.278959274291992,-24.217060089111328,-22.684673309326172,-18.000444412231445,-24.208927154541016,-14.684715270996094,-12.363818168640137,-22.85719108581543,-8.454124450683594,-19.756624221801758,-21.275524139404297,-45.1046257019043,31.55310821533203,10.415650367736816,37.431514739990234,19.36345672607422,2.377047061920166,-30.615447998046875,-25.700883865356445,-38.691349029541016,-15.252668380737305,32.350948333740234,12.488750457763672,-4.304233551025391,20.057340621948242,-13.463082313537598,-21.31428337097168,32.21331787109375,25.328044891357422,-17.113737106323242,-38.045345306396484,-20.551502227783203,24.290998458862305,-7.743837833404541,8.5768461227417,14.66805362701416,-17.908649444580078,-15.185302734375,-10.191977500915527,25.15456771850586,-47.30036163330078,-12.418719291687012,20.023963928222656,20.464445114135742,-31.57331085205078,-30.930444717407227,16.84563636779785,-28.80198860168457,-22.636375427246094,-2.0454907417297363,5.383481979370117,-0.6925649642944336,2.4658031463623047,-20.32678985595703,-18.549564361572266,17.3167724609375,-2.644994020462036,19.73244857788086,-21.068117141723633,-18.40892219543457,-8.464309692382812,5.856571197509766,11.256521224975586,-10.832679748535156,-11.322407722473145,-14.084949493408203,-15.669026374816895,22.30632781982422,31.89497184753418,34.15699768066406,-18.824871063232422,-10.44357967376709,26.10533332824707,23.645963668823242,-19.23653793334961,14.797330856323242,-19.393423080444336,-28.928020477294922,25.132404327392578,18.476396560668945,24.298458099365234,22.91329574584961,-17.507038116455078,-27.62765884399414,16.081262588500977,-4.077681064605713,-12.748263359069824,3.7783567905426025,18.248573303222656,11.851758003234863,-27.397361755371094,-3.767521619796753,-0.7669057250022888,-29.931604385375977,-10.355528831481934,-29.155292510986328,-22.97878074645996,21.183019638061523,-7.1273603439331055,-12.047886848449707,-1.3829759359359741,31.600893020629883,6.902002811431885,0.6105689406394958,-2.1899642944335938,-7.965179443359375,-8.140047073364258,24.91197395324707,-24.451583862304688,21.146930694580078,0.48048537969589233,26.376218795776367,-18.087669372558594,-13.854157447814941,14.071683883666992],\"z\":[-10.877095222473145,-3.236016035079956,28.22693634033203,-20.636301040649414,-7.944808483123779,-8.132867813110352,13.808491706848145,-18.37630844116211,30.277803421020508,-30.27901268005371,-23.227920532226562,15.997942924499512,-17.040237426757812,-11.390817642211914,16.00918197631836,4.197617053985596,-17.063213348388672,29.22148895263672,-21.713708877563477,28.093795776367188,-3.17647385597229,-27.382614135742188,-21.555747985839844,-21.073787689208984,-30.29911231994629,-10.528484344482422,-14.872415542602539,-10.130834579467773,25.79326820373535,-0.10566841810941696,-2.0367844104766846,5.076129913330078,6.778334140777588,-22.763988494873047,-18.99213981628418,-21.512310028076172,-30.294004440307617,-10.766328811645508,-13.32095718383789,-20.577564239501953,23.193952560424805,-16.322227478027344,3.232713222503662,-9.641104698181152,-20.92057991027832,-28.907005310058594,-9.785152435302734,1.5654581785202026,-0.9160849452018738,18.128141403198242,-0.17094755172729492,-13.955916404724121,-3.9464550018310547,-8.1653413772583,-6.797565460205078,-20.001976013183594,-24.99526596069336,-16.453481674194336,35.157562255859375,-29.331640243530273,-35.78357696533203,32.526851654052734,-0.10683003067970276,-0.6433107852935791,-9.796364784240723,29.87096405029297,27.158172607421875,2.205564022064209,-11.916142463684082,-11.3096923828125,2.768235921859741,11.855452537536621,7.138778209686279,-33.42558288574219,16.990713119506836,13.126189231872559,13.643757820129395,12.901433944702148,12.624765396118164,27.19806671142578,12.33061695098877,24.101102828979492,8.987217903137207,21.82642936706543,-14.814866065979004,-24.270944595336914,-4.208587646484375,-25.188770294189453,-9.596856117248535,12.712556838989258,-27.286746978759766,26.21221160888672,18.304668426513672,12.470185279846191,-12.998066902160645,23.420759201049805,-2.435148239135742,26.649694442749023,24.002811431884766,-2.240281581878662,31.9920597076416,16.09184455871582,-7.308736801147461,-15.986778259277344,-6.818373680114746,21.893909454345703,-3.6282858848571777,23.579952239990234,30.843507766723633,27.105974197387695,-20.8680419921875,-7.349334239959717,24.445205688476562,1.506791591644287,-24.53566551208496,-1.1003389358520508,-24.0443058013916,21.358524322509766,-13.12330150604248,11.023859977722168,14.714619636535645,5.892159938812256,-22.357765197753906,24.416950225830078,-10.208999633789062,1.073091983795166,-2.8671724796295166,4.907151222229004,-7.607588768005371,-4.781811237335205,-9.551775932312012,25.908700942993164,-6.230020046234131,-17.18745231628418,14.464554786682129,23.312246322631836,28.42277717590332,-11.175091743469238,0.46233490109443665,-16.904285430908203,25.5950984954834,11.342906951904297,-29.04829978942871,-34.56233596801758,-26.896202087402344,-24.87331199645996,-0.8693773150444031,17.161495208740234,38.4440803527832,20.351863861083984,-22.385894775390625,21.36009407043457,9.333673477172852,-7.729740142822266,3.1685075759887695,23.316518783569336,21.12537956237793,8.357831954956055,30.67890739440918,-2.6363441944122314,38.63822555541992,2.398575782775879,-15.307424545288086,2.0064492225646973,4.76200008392334,-26.962722778320312,28.980533599853516,17.190547943115234,-14.920269012451172,15.80411148071289,-5.199893474578857,-0.5400740504264832,-11.24717903137207,-18.788272857666016,-15.216363906860352,-9.447664260864258,26.54924201965332,0.29850080609321594,-2.3312008380889893,3.0243752002716064,-14.996289253234863,-33.33751678466797,7.132770538330078,7.5863871574401855,-15.532508850097656,16.928329467773438,-4.815250396728516,-24.978872299194336,2.6500442028045654,-17.269102096557617,23.142702102661133,18.415332794189453,16.159135818481445,-12.170339584350586,5.137688636779785,-26.21284294128418,-19.641996383666992,-27.17758560180664,4.501203536987305,-14.844599723815918],\"type\":\"scatter3d\"}],                        {\"template\":{\"data\":{\"histogram2dcontour\":[{\"type\":\"histogram2dcontour\",\"colorbar\":{\"outlinewidth\":0,\"ticks\":\"\"},\"colorscale\":[[0.0,\"#0d0887\"],[0.1111111111111111,\"#46039f\"],[0.2222222222222222,\"#7201a8\"],[0.3333333333333333,\"#9c179e\"],[0.4444444444444444,\"#bd3786\"],[0.5555555555555556,\"#d8576b\"],[0.6666666666666666,\"#ed7953\"],[0.7777777777777778,\"#fb9f3a\"],[0.8888888888888888,\"#fdca26\"],[1.0,\"#f0f921\"]]}],\"choropleth\":[{\"type\":\"choropleth\",\"colorbar\":{\"outlinewidth\":0,\"ticks\":\"\"}}],\"histogram2d\":[{\"type\":\"histogram2d\",\"colorbar\":{\"outlinewidth\":0,\"ticks\":\"\"},\"colorscale\":[[0.0,\"#0d0887\"],[0.1111111111111111,\"#46039f\"],[0.2222222222222222,\"#7201a8\"],[0.3333333333333333,\"#9c179e\"],[0.4444444444444444,\"#bd3786\"],[0.5555555555555556,\"#d8576b\"],[0.6666666666666666,\"#ed7953\"],[0.7777777777777778,\"#fb9f3a\"],[0.8888888888888888,\"#fdca26\"],[1.0,\"#f0f921\"]]}],\"heatmap\":[{\"type\":\"heatmap\",\"colorbar\":{\"outlinewidth\":0,\"ticks\":\"\"},\"colorscale\":[[0.0,\"#0d0887\"],[0.1111111111111111,\"#46039f\"],[0.2222222222222222,\"#7201a8\"],[0.3333333333333333,\"#9c179e\"],[0.4444444444444444,\"#bd3786\"],[0.5555555555555556,\"#d8576b\"],[0.6666666666666666,\"#ed7953\"],[0.7777777777777778,\"#fb9f3a\"],[0.8888888888888888,\"#fdca26\"],[1.0,\"#f0f921\"]]}],\"heatmapgl\":[{\"type\":\"heatmapgl\",\"colorbar\":{\"outlinewidth\":0,\"ticks\":\"\"},\"colorscale\":[[0.0,\"#0d0887\"],[0.1111111111111111,\"#46039f\"],[0.2222222222222222,\"#7201a8\"],[0.3333333333333333,\"#9c179e\"],[0.4444444444444444,\"#bd3786\"],[0.5555555555555556,\"#d8576b\"],[0.6666666666666666,\"#ed7953\"],[0.7777777777777778,\"#fb9f3a\"],[0.8888888888888888,\"#fdca26\"],[1.0,\"#f0f921\"]]}],\"contourcarpet\":[{\"type\":\"contourcarpet\",\"colorbar\":{\"outlinewidth\":0,\"ticks\":\"\"}}],\"contour\":[{\"type\":\"contour\",\"colorbar\":{\"outlinewidth\":0,\"ticks\":\"\"},\"colorscale\":[[0.0,\"#0d0887\"],[0.1111111111111111,\"#46039f\"],[0.2222222222222222,\"#7201a8\"],[0.3333333333333333,\"#9c179e\"],[0.4444444444444444,\"#bd3786\"],[0.5555555555555556,\"#d8576b\"],[0.6666666666666666,\"#ed7953\"],[0.7777777777777778,\"#fb9f3a\"],[0.8888888888888888,\"#fdca26\"],[1.0,\"#f0f921\"]]}],\"surface\":[{\"type\":\"surface\",\"colorbar\":{\"outlinewidth\":0,\"ticks\":\"\"},\"colorscale\":[[0.0,\"#0d0887\"],[0.1111111111111111,\"#46039f\"],[0.2222222222222222,\"#7201a8\"],[0.3333333333333333,\"#9c179e\"],[0.4444444444444444,\"#bd3786\"],[0.5555555555555556,\"#d8576b\"],[0.6666666666666666,\"#ed7953\"],[0.7777777777777778,\"#fb9f3a\"],[0.8888888888888888,\"#fdca26\"],[1.0,\"#f0f921\"]]}],\"mesh3d\":[{\"type\":\"mesh3d\",\"colorbar\":{\"outlinewidth\":0,\"ticks\":\"\"}}],\"scatter\":[{\"fillpattern\":{\"fillmode\":\"overlay\",\"size\":10,\"solidity\":0.2},\"type\":\"scatter\"}],\"parcoords\":[{\"type\":\"parcoords\",\"line\":{\"colorbar\":{\"outlinewidth\":0,\"ticks\":\"\"}}}],\"scatterpolargl\":[{\"type\":\"scatterpolargl\",\"marker\":{\"colorbar\":{\"outlinewidth\":0,\"ticks\":\"\"}}}],\"bar\":[{\"error_x\":{\"color\":\"#2a3f5f\"},\"error_y\":{\"color\":\"#2a3f5f\"},\"marker\":{\"line\":{\"color\":\"#E5ECF6\",\"width\":0.5},\"pattern\":{\"fillmode\":\"overlay\",\"size\":10,\"solidity\":0.2}},\"type\":\"bar\"}],\"scattergeo\":[{\"type\":\"scattergeo\",\"marker\":{\"colorbar\":{\"outlinewidth\":0,\"ticks\":\"\"}}}],\"scatterpolar\":[{\"type\":\"scatterpolar\",\"marker\":{\"colorbar\":{\"outlinewidth\":0,\"ticks\":\"\"}}}],\"histogram\":[{\"marker\":{\"pattern\":{\"fillmode\":\"overlay\",\"size\":10,\"solidity\":0.2}},\"type\":\"histogram\"}],\"scattergl\":[{\"type\":\"scattergl\",\"marker\":{\"colorbar\":{\"outlinewidth\":0,\"ticks\":\"\"}}}],\"scatter3d\":[{\"type\":\"scatter3d\",\"line\":{\"colorbar\":{\"outlinewidth\":0,\"ticks\":\"\"}},\"marker\":{\"colorbar\":{\"outlinewidth\":0,\"ticks\":\"\"}}}],\"scattermapbox\":[{\"type\":\"scattermapbox\",\"marker\":{\"colorbar\":{\"outlinewidth\":0,\"ticks\":\"\"}}}],\"scatterternary\":[{\"type\":\"scatterternary\",\"marker\":{\"colorbar\":{\"outlinewidth\":0,\"ticks\":\"\"}}}],\"scattercarpet\":[{\"type\":\"scattercarpet\",\"marker\":{\"colorbar\":{\"outlinewidth\":0,\"ticks\":\"\"}}}],\"carpet\":[{\"aaxis\":{\"endlinecolor\":\"#2a3f5f\",\"gridcolor\":\"white\",\"linecolor\":\"white\",\"minorgridcolor\":\"white\",\"startlinecolor\":\"#2a3f5f\"},\"baxis\":{\"endlinecolor\":\"#2a3f5f\",\"gridcolor\":\"white\",\"linecolor\":\"white\",\"minorgridcolor\":\"white\",\"startlinecolor\":\"#2a3f5f\"},\"type\":\"carpet\"}],\"table\":[{\"cells\":{\"fill\":{\"color\":\"#EBF0F8\"},\"line\":{\"color\":\"white\"}},\"header\":{\"fill\":{\"color\":\"#C8D4E3\"},\"line\":{\"color\":\"white\"}},\"type\":\"table\"}],\"barpolar\":[{\"marker\":{\"line\":{\"color\":\"#E5ECF6\",\"width\":0.5},\"pattern\":{\"fillmode\":\"overlay\",\"size\":10,\"solidity\":0.2}},\"type\":\"barpolar\"}],\"pie\":[{\"automargin\":true,\"type\":\"pie\"}]},\"layout\":{\"autotypenumbers\":\"strict\",\"colorway\":[\"#636efa\",\"#EF553B\",\"#00cc96\",\"#ab63fa\",\"#FFA15A\",\"#19d3f3\",\"#FF6692\",\"#B6E880\",\"#FF97FF\",\"#FECB52\"],\"font\":{\"color\":\"#2a3f5f\"},\"hovermode\":\"closest\",\"hoverlabel\":{\"align\":\"left\"},\"paper_bgcolor\":\"white\",\"plot_bgcolor\":\"#E5ECF6\",\"polar\":{\"bgcolor\":\"#E5ECF6\",\"angularaxis\":{\"gridcolor\":\"white\",\"linecolor\":\"white\",\"ticks\":\"\"},\"radialaxis\":{\"gridcolor\":\"white\",\"linecolor\":\"white\",\"ticks\":\"\"}},\"ternary\":{\"bgcolor\":\"#E5ECF6\",\"aaxis\":{\"gridcolor\":\"white\",\"linecolor\":\"white\",\"ticks\":\"\"},\"baxis\":{\"gridcolor\":\"white\",\"linecolor\":\"white\",\"ticks\":\"\"},\"caxis\":{\"gridcolor\":\"white\",\"linecolor\":\"white\",\"ticks\":\"\"}},\"coloraxis\":{\"colorbar\":{\"outlinewidth\":0,\"ticks\":\"\"}},\"colorscale\":{\"sequential\":[[0.0,\"#0d0887\"],[0.1111111111111111,\"#46039f\"],[0.2222222222222222,\"#7201a8\"],[0.3333333333333333,\"#9c179e\"],[0.4444444444444444,\"#bd3786\"],[0.5555555555555556,\"#d8576b\"],[0.6666666666666666,\"#ed7953\"],[0.7777777777777778,\"#fb9f3a\"],[0.8888888888888888,\"#fdca26\"],[1.0,\"#f0f921\"]],\"sequentialminus\":[[0.0,\"#0d0887\"],[0.1111111111111111,\"#46039f\"],[0.2222222222222222,\"#7201a8\"],[0.3333333333333333,\"#9c179e\"],[0.4444444444444444,\"#bd3786\"],[0.5555555555555556,\"#d8576b\"],[0.6666666666666666,\"#ed7953\"],[0.7777777777777778,\"#fb9f3a\"],[0.8888888888888888,\"#fdca26\"],[1.0,\"#f0f921\"]],\"diverging\":[[0,\"#8e0152\"],[0.1,\"#c51b7d\"],[0.2,\"#de77ae\"],[0.3,\"#f1b6da\"],[0.4,\"#fde0ef\"],[0.5,\"#f7f7f7\"],[0.6,\"#e6f5d0\"],[0.7,\"#b8e186\"],[0.8,\"#7fbc41\"],[0.9,\"#4d9221\"],[1,\"#276419\"]]},\"xaxis\":{\"gridcolor\":\"white\",\"linecolor\":\"white\",\"ticks\":\"\",\"title\":{\"standoff\":15},\"zerolinecolor\":\"white\",\"automargin\":true,\"zerolinewidth\":2},\"yaxis\":{\"gridcolor\":\"white\",\"linecolor\":\"white\",\"ticks\":\"\",\"title\":{\"standoff\":15},\"zerolinecolor\":\"white\",\"automargin\":true,\"zerolinewidth\":2},\"scene\":{\"xaxis\":{\"backgroundcolor\":\"#E5ECF6\",\"gridcolor\":\"white\",\"linecolor\":\"white\",\"showbackground\":true,\"ticks\":\"\",\"zerolinecolor\":\"white\",\"gridwidth\":2},\"yaxis\":{\"backgroundcolor\":\"#E5ECF6\",\"gridcolor\":\"white\",\"linecolor\":\"white\",\"showbackground\":true,\"ticks\":\"\",\"zerolinecolor\":\"white\",\"gridwidth\":2},\"zaxis\":{\"backgroundcolor\":\"#E5ECF6\",\"gridcolor\":\"white\",\"linecolor\":\"white\",\"showbackground\":true,\"ticks\":\"\",\"zerolinecolor\":\"white\",\"gridwidth\":2}},\"shapedefaults\":{\"line\":{\"color\":\"#2a3f5f\"}},\"annotationdefaults\":{\"arrowcolor\":\"#2a3f5f\",\"arrowhead\":0,\"arrowwidth\":1},\"geo\":{\"bgcolor\":\"white\",\"landcolor\":\"#E5ECF6\",\"subunitcolor\":\"white\",\"showland\":true,\"showlakes\":true,\"lakecolor\":\"white\"},\"title\":{\"x\":0.05},\"mapbox\":{\"style\":\"light\"}}},\"scene\":{\"domain\":{\"x\":[0.0,1.0],\"y\":[0.0,1.0]},\"xaxis\":{\"title\":{\"text\":\"x\"}},\"yaxis\":{\"title\":{\"text\":\"y\"}},\"zaxis\":{\"title\":{\"text\":\"z\"}}},\"legend\":{\"tracegroupgap\":0},\"margin\":{\"t\":60}},                        {\"responsive\": true}                    ).then(function(){\n",
              "                            \n",
              "var gd = document.getElementById('af0ff857-de57-4467-acb8-06993b90d836');\n",
              "var x = new MutationObserver(function (mutations, observer) {{\n",
              "        var display = window.getComputedStyle(gd).display;\n",
              "        if (!display || display === 'none') {{\n",
              "            console.log([gd, 'removed!']);\n",
              "            Plotly.purge(gd);\n",
              "            observer.disconnect();\n",
              "        }}\n",
              "}});\n",
              "\n",
              "// Listen for the removal of the full notebook cells\n",
              "var notebookContainer = gd.closest('#notebook-container');\n",
              "if (notebookContainer) {{\n",
              "    x.observe(notebookContainer, {childList: true});\n",
              "}}\n",
              "\n",
              "// Listen for the clearing of the current output cell\n",
              "var outputEl = gd.closest('.output');\n",
              "if (outputEl) {{\n",
              "    x.observe(outputEl, {childList: true});\n",
              "}}\n",
              "\n",
              "                        })                };                            </script>        </div>\n",
              "</body>\n",
              "</html>"
            ]
          },
          "metadata": {}
        }
      ]
    },
    {
      "cell_type": "code",
      "source": [
        "# También se pueden guardar los vectores y labels como tsv para graficar en\n",
        "# http://projector.tensorflow.org/\n",
        "\n",
        "\n",
        "vectors = np.asarray(w2v_model.wv.vectors)\n",
        "labels = list(w2v_model.wv.index_to_key)\n",
        "\n",
        "np.savetxt(\"vectors.tsv\", vectors, delimiter=\"\\t\")\n",
        "\n",
        "with open(\"labels.tsv\", \"w\") as fp:\n",
        "    for item in labels:\n",
        "        fp.write(\"%s\\n\" % item)"
      ],
      "metadata": {
        "id": "ZH7ieuvDh6iZ"
      },
      "execution_count": null,
      "outputs": []
    },
    {
      "cell_type": "markdown",
      "source": [
        "# Ejercicio\n",
        "\n",
        "* Crear sus propios vectores con Gensim basado en lo visto en clase con otro dataset.\n",
        "* Probar términos de interés y explicar similitudes en el espacio de embeddings (sacar conclusiones entre palabras similitudes y diferencias).\n",
        "* Graficarlos.\n",
        "* Obtener conclusiones."
      ],
      "metadata": {
        "id": "EViq1XmaiY-R"
      }
    },
    {
      "cell_type": "markdown",
      "source": [
        "##1 - Preprocesamiento"
      ],
      "metadata": {
        "id": "zSqCpxOxVR1H"
      }
    },
    {
      "cell_type": "code",
      "source": [
        "# Leer el archivo JSONL\n",
        "data = pd.read_json(\"hf://datasets/LDJnr/Puffin/Puffin.jsonl\", lines=True)\n",
        "data = data.drop('id', axis=1)\n",
        "\n",
        "# Crear una lista para almacenar las nuevas filas\n",
        "rows = []\n",
        "\n",
        "# Supongamos que la columna que contiene las conversaciones se llama 'conversations'\n",
        "for conversation in data['conversations']:  # Cambia esto si es necesario\n",
        "    for turn in conversation:\n",
        "        rows.append({\n",
        "            'from': turn['from'],\n",
        "            'value': turn['value']\n",
        "        })\n",
        "\n",
        "# Crear un nuevo DataFrame con las filas transformadas\n",
        "transformed_data = pd.DataFrame(rows)\n",
        "\n",
        "# Crear dos DataFrames separados\n",
        "human_data = transformed_data[transformed_data['from'] == 'human'].reset_index(drop=True)\n",
        "gpt_data = transformed_data[transformed_data['from'] == 'gpt'].reset_index(drop=True)\n",
        "\n",
        "# Eliminar la columna 'from' de ambos DataFrames\n",
        "human_data = human_data.drop(columns=['from'])\n",
        "gpt_data = gpt_data.drop(columns=['from'])\n",
        "\n",
        "# Mostrar las primeras filas de cada DataFrame\n",
        "print(\"Human Data:\")\n",
        "print(human_data.head())\n",
        "\n",
        "print(\"\\nGPT Data:\")\n",
        "print(gpt_data.head())"
      ],
      "metadata": {
        "colab": {
          "base_uri": "https://localhost:8080/"
        },
        "id": "S5ScxaunuEDO",
        "outputId": "8714efe8-0b65-4549-8e90-6a7371391d06"
      },
      "execution_count": null,
      "outputs": [
        {
          "output_type": "stream",
          "name": "stdout",
          "text": [
            "Human Data:\n",
            "                                               value\n",
            "0  How do I center a text element vertically in a...\n",
            "1   Add some spacing between the text and the button\n",
            "2  Instead of using a spacer how do I give some p...\n",
            "3  How does the regulation of glycolysis allow fo...\n",
            "4  \"How does the placement of the feet and positi...\n",
            "\n",
            "GPT Data:\n",
            "                                               value\n",
            "0  In Jetpack Compose, you can center a text elem...\n",
            "1  To add spacing between the `Text` and `Button`...\n",
            "2  You can add padding to the `Text` element by u...\n",
            "3  The regulation of glycolysis is essential for ...\n",
            "4  The placement of the feet and positioning of t...\n"
          ]
        }
      ]
    },
    {
      "cell_type": "code",
      "source": [
        "sentence_tokens = []\n",
        "for _, row in human_data[:None].iterrows():\n",
        "    sentence_tokens.append(text_to_word_sequence(row[0]))"
      ],
      "metadata": {
        "id": "5-5EJLhCQEXg"
      },
      "execution_count": null,
      "outputs": []
    },
    {
      "cell_type": "markdown",
      "source": [
        "##2 - Crear los vectores (word2vec)"
      ],
      "metadata": {
        "id": "WDN1cF6-VG4n"
      }
    },
    {
      "cell_type": "code",
      "source": [
        "from gensim.models.callbacks import CallbackAny2Vec\n",
        "class callback(CallbackAny2Vec):\n",
        "    \"\"\"\n",
        "    Callback to print loss after each epoch\n",
        "    \"\"\"\n",
        "    def __init__(self):\n",
        "        self.epoch = 0\n",
        "\n",
        "    def on_epoch_end(self, model):\n",
        "        loss = model.get_latest_training_loss()\n",
        "        if self.epoch == 0:\n",
        "            print('Loss after epoch {}: {}'.format(self.epoch, loss))\n",
        "        else:\n",
        "            print('Loss after epoch {}: {}'.format(self.epoch, loss- self.loss_previous_step))\n",
        "        self.epoch += 1\n",
        "        self.loss_previous_step = loss"
      ],
      "metadata": {
        "id": "upQGQvmpVs4f"
      },
      "execution_count": null,
      "outputs": []
    },
    {
      "cell_type": "code",
      "source": [
        "# Crearmos el modelo generador de vectores\n",
        "# En este caso utilizaremos la estructura modelo Skipgram\n",
        "w2v_model = Word2Vec(min_count=5,    # frecuencia mínima de palabra para incluirla en el vocabulario\n",
        "                     window=2,       # cant de palabras antes y desp de la predicha\n",
        "                     vector_size=300,       # dimensionalidad de los vectores\n",
        "                     negative=20,    # cantidad de negative samples... 0 es no se usa\n",
        "                     workers=1,      # si tienen más cores pueden cambiar este valor\n",
        "                     sg=1)           # modelo 0:CBOW  1:skipgram"
      ],
      "metadata": {
        "id": "sjMwfSk1V4_H"
      },
      "execution_count": null,
      "outputs": []
    },
    {
      "cell_type": "code",
      "source": [
        "# Obtener el vocabulario con los tokens\n",
        "w2v_model.build_vocab(sentence_tokens)"
      ],
      "metadata": {
        "id": "hC5nCecAWEZn"
      },
      "execution_count": null,
      "outputs": []
    },
    {
      "cell_type": "code",
      "source": [
        "# Cantidad de filas/docs encontradas en el corpus\n",
        "print(\"Cantidad de docs en el corpus:\", w2v_model.corpus_count)"
      ],
      "metadata": {
        "colab": {
          "base_uri": "https://localhost:8080/"
        },
        "id": "-9eztv-5WG_X",
        "outputId": "47d27381-2ee1-4eea-a2c2-6e41df58d50d"
      },
      "execution_count": null,
      "outputs": [
        {
          "output_type": "stream",
          "name": "stdout",
          "text": [
            "Cantidad de docs en el corpus: 6994\n"
          ]
        }
      ]
    },
    {
      "cell_type": "code",
      "source": [
        "# Cantidad de words encontradas en el corpus\n",
        "print(\"Cantidad de words distintas en el corpus:\", len(w2v_model.wv.index_to_key))"
      ],
      "metadata": {
        "colab": {
          "base_uri": "https://localhost:8080/"
        },
        "id": "bfNNIp5mWKu_",
        "outputId": "c6465404-4275-4ba3-9575-db54d94ba328"
      },
      "execution_count": null,
      "outputs": [
        {
          "output_type": "stream",
          "name": "stdout",
          "text": [
            "Cantidad de words distintas en el corpus: 7688\n"
          ]
        }
      ]
    },
    {
      "cell_type": "markdown",
      "source": [
        "## 3 - Entrenar embeddings"
      ],
      "metadata": {
        "id": "dVohwYG0YU5w"
      }
    },
    {
      "cell_type": "code",
      "source": [
        "# Entrenamos el modelo generador de vectores\n",
        "# Utilizamos nuestro callback\n",
        "w2v_model.train(sentence_tokens,\n",
        "                 total_examples=w2v_model.corpus_count,\n",
        "                 epochs=20,\n",
        "                 compute_loss = True,\n",
        "                 callbacks=[callback()]\n",
        "                 )"
      ],
      "metadata": {
        "colab": {
          "base_uri": "https://localhost:8080/"
        },
        "id": "fLeo-ILrWO5A",
        "outputId": "a647ec91-b3b2-40d6-f81a-0822b7213ddc"
      },
      "execution_count": null,
      "outputs": [
        {
          "output_type": "stream",
          "name": "stdout",
          "text": [
            "Loss after epoch 0: 3617503.5\n",
            "Loss after epoch 1: 2531029.5\n",
            "Loss after epoch 2: 2403579.0\n",
            "Loss after epoch 3: 2231958.0\n",
            "Loss after epoch 4: 2158987.0\n",
            "Loss after epoch 5: 2090391.0\n",
            "Loss after epoch 6: 2015296.0\n",
            "Loss after epoch 7: 1878294.0\n",
            "Loss after epoch 8: 1824568.0\n",
            "Loss after epoch 9: 1780896.0\n",
            "Loss after epoch 10: 1744344.0\n",
            "Loss after epoch 11: 1708558.0\n",
            "Loss after epoch 12: 1677010.0\n",
            "Loss after epoch 13: 1654908.0\n",
            "Loss after epoch 14: 1628368.0\n",
            "Loss after epoch 15: 1609044.0\n",
            "Loss after epoch 16: 1534414.0\n",
            "Loss after epoch 17: 1427744.0\n",
            "Loss after epoch 18: 1414076.0\n",
            "Loss after epoch 19: 1403124.0\n"
          ]
        },
        {
          "output_type": "execute_result",
          "data": {
            "text/plain": [
              "(6237667, 8474720)"
            ]
          },
          "metadata": {},
          "execution_count": 20
        }
      ]
    },
    {
      "cell_type": "code",
      "source": [
        "# Palabras que MÁS se relacionan con...:\n",
        "w2v_model.wv.most_similar(positive=[\"please\"], topn=10)"
      ],
      "metadata": {
        "id": "UDpC30QXWWe_",
        "colab": {
          "base_uri": "https://localhost:8080/"
        },
        "outputId": "a4cb454c-c649-4666-9728-8bcc20d57057"
      },
      "execution_count": null,
      "outputs": [
        {
          "output_type": "execute_result",
          "data": {
            "text/plain": [
              "[('coherent', 0.45842522382736206),\n",
              " ('markdown', 0.4505246579647064),\n",
              " ('justification', 0.4467005729675293),\n",
              " ('alternate', 0.4403669238090515),\n",
              " ('4th', 0.4379221498966217),\n",
              " ('transcript', 0.43335649371147156),\n",
              " ('homework', 0.4307827055454254),\n",
              " ('succinct', 0.42804044485092163),\n",
              " ('powershell', 0.42792025208473206),\n",
              " ('refine', 0.42734494805336)]"
            ]
          },
          "metadata": {},
          "execution_count": 18
        }
      ]
    },
    {
      "cell_type": "markdown",
      "source": [],
      "metadata": {
        "id": "7vuTuWX7U1Df"
      }
    },
    {
      "cell_type": "code",
      "source": [
        "def reduce_dimensions(model, num_dimensions = 2 ):\n",
        "\n",
        "    vectors = np.asarray(model.wv.vectors)\n",
        "    labels = np.asarray(model.wv.index_to_key)\n",
        "\n",
        "    tsne = TSNE(n_components=num_dimensions, random_state=0)\n",
        "    vectors = tsne.fit_transform(vectors)\n",
        "\n",
        "    return vectors, labels"
      ],
      "metadata": {
        "id": "TcrGrsI0Ydy8"
      },
      "execution_count": null,
      "outputs": []
    },
    {
      "cell_type": "code",
      "source": [
        "# Graficar los embedddings en 2D\n",
        "import plotly.graph_objects as go\n",
        "import plotly.express as px\n",
        "\n",
        "vecs, labels = reduce_dimensions(w2v_model)\n",
        "\n",
        "MAX_WORDS=200\n",
        "fig = px.scatter(x=vecs[:MAX_WORDS,0], y=vecs[:MAX_WORDS,1], text=labels[:MAX_WORDS])\n",
        "fig.show(renderer=\"colab\") # esto para plotly en colab"
      ],
      "metadata": {
        "colab": {
          "base_uri": "https://localhost:8080/",
          "height": 542
        },
        "id": "Ua3URTNLYhbg",
        "outputId": "d52c5bc6-2dbb-4844-b258-aaa84b7206d4"
      },
      "execution_count": null,
      "outputs": [
        {
          "output_type": "display_data",
          "data": {
            "text/html": [
              "<html>\n",
              "<head><meta charset=\"utf-8\" /></head>\n",
              "<body>\n",
              "    <div>            <script src=\"https://cdnjs.cloudflare.com/ajax/libs/mathjax/2.7.5/MathJax.js?config=TeX-AMS-MML_SVG\"></script><script type=\"text/javascript\">if (window.MathJax && window.MathJax.Hub && window.MathJax.Hub.Config) {window.MathJax.Hub.Config({SVG: {font: \"STIX-Web\"}});}</script>                <script type=\"text/javascript\">window.PlotlyConfig = {MathJaxConfig: 'local'};</script>\n",
              "        <script charset=\"utf-8\" src=\"https://cdn.plot.ly/plotly-2.24.1.min.js\"></script>                <div id=\"06ee5bd0-e03e-444a-8c17-4dc528ac4367\" class=\"plotly-graph-div\" style=\"height:525px; width:100%;\"></div>            <script type=\"text/javascript\">                                    window.PLOTLYENV=window.PLOTLYENV || {};                                    if (document.getElementById(\"06ee5bd0-e03e-444a-8c17-4dc528ac4367\")) {                    Plotly.newPlot(                        \"06ee5bd0-e03e-444a-8c17-4dc528ac4367\",                        [{\"hovertemplate\":\"x=%{x}\\u003cbr\\u003ey=%{y}\\u003cbr\\u003etext=%{text}\\u003cextra\\u003e\\u003c\\u002fextra\\u003e\",\"legendgroup\":\"\",\"marker\":{\"color\":\"#636efa\",\"symbol\":\"circle\"},\"mode\":\"markers+text\",\"name\":\"\",\"orientation\":\"v\",\"showlegend\":false,\"text\":[\"the\",\"to\",\"and\",\"a\",\"of\",\"in\",\"is\",\"for\",\"you\",\"that\",\"i\",\"with\",\"on\",\"this\",\"1\",\"are\",\"it\",\"be\",\"as\",\"can\",\"what\",\"from\",\"an\",\"2\",\"or\",\"how\",\"if\",\"have\",\"will\",\"we\",\"0\",\"your\",\"not\",\"3\",\"by\",\"do\",\"at\",\"me\",\"my\",\"but\",\"all\",\"each\",\"they\",\"their\",\"more\",\"like\",\"about\",\"one\",\"please\",\"would\",\"has\",\"5\",\"should\",\"make\",\"x\",\"write\",\"time\",\"use\",\"our\",\"4\",\"data\",\"so\",\"there\",\"new\",\"want\",\"which\",\"using\",\"id\",\"some\",\"get\",\"when\",\"them\",\"name\",\"c\",\"up\",\"these\",\"give\",\"any\",\"need\",\"return\",\"does\",\"create\",\"where\",\"b\",\"based\",\"n\",\"10\",\"value\",\"also\",\"now\",\"out\",\"then\",\"was\",\"into\",\"provide\",\"help\",\"user\",\"code\",\"type\",\"other\",\"only\",\"two\",\"no\",\"function\",\"first\",\"could\",\"quality\",\"rod\",\"who\",\"'\",\"following\",\"work\",\"number\",\"list\",\"move\",\"string\",\"than\",\"people\",\"he\",\"its\",\"state\",\"self\",\"e\",\"6\",\"between\",\"y\",\"example\",\"company\",\"different\",\"way\",\"model\",\"just\",\"score\",\"after\",\"think\",\"key\",\"disk\",\"same\",\"am\",\"i'm\",\"continue\",\"such\",\"business\",\"information\",\"next\",\"best\",\"step\",\"text\",\"know\",\"date\",\"add\",\"system\",\"right\",\"through\",\"answer\",\"true\",\"good\",\"import\",\"start\",\"design\",\"his\",\"been\",\"us\",\"set\",\"given\",\"game\",\"explain\",\"current\",\"d\",\"p\",\"may\",\"response\",\"questions\",\"product\",\"being\",\"array\",\"request\",\"plan\",\"include\",\"specific\",\"why\",\"case\",\"take\",\"high\",\"100\",\"find\",\"because\",\"most\",\"used\",\"day\",\"8\",\"here\",\"email\",\"over\",\"7\",\"order\",\"s\",\"process\",\"problem\",\"\\u2022\"],\"x\":[-11.89010238647461,-16.476598739624023,1.1062955856323242,-9.780898094177246,-8.806944847106934,-11.0531005859375,-8.638401985168457,-15.237467765808105,-9.93243408203125,-13.604500770568848,-15.970270156860352,4.802915573120117,-14.657271385192871,4.5919575691223145,35.013763427734375,-20.9666748046875,-27.613027572631836,-22.436071395874023,-21.58236312866211,-21.912731170654297,-14.87991714477539,21.049924850463867,0.7770719528198242,19.95033836364746,-25.91067886352539,-23.276844024658203,44.35493087768555,-21.17609214782715,-10.441363334655762,-11.292096138000488,55.45888137817383,-9.536114692687988,-17.756132125854492,19.213802337646484,-5.214132308959961,-12.738739013671875,-2.5082340240478516,3.5638012886047363,-29.709211349487305,-9.162365913391113,-11.079960823059082,-0.14839382469654083,-25.594104766845703,-23.45509910583496,-28.084123611450195,-7.891047954559326,-47.141719818115234,-8.280169486999512,1.437530517578125,-10.716202735900879,-39.308815002441406,24.29083824157715,-9.933501243591309,-7.235330104827881,59.64439010620117,12.88905143737793,2.5544862747192383,15.070192337036133,-49.54365539550781,18.892637252807617,37.66719055175781,-25.332237243652344,-23.88750648498535,28.391368865966797,-14.781792640686035,-7.72892427444458,16.462478637695312,29.83865737915039,-9.710526466369629,-1.49132239818573,6.975127696990967,-12.083078384399414,31.21853256225586,54.157859802246094,-1.339916706085205,-9.09568977355957,-2.573906421661377,-2.0824849605560303,-12.696228981018066,38.901206970214844,-25.085134506225586,4.279757022857666,7.485774517059326,11.744022369384766,2.810582160949707,54.1115608215332,25.995084762573242,20.768447875976562,-15.529332160949707,-32.699913024902344,3.4274837970733643,-16.16514778137207,-35.446956634521484,-4.314266204833984,-2.1034836769104004,-3.96410870552063,37.27684020996094,20.660234451293945,39.646339416503906,-9.517586708068848,25.991750717163086,-3.9074437618255615,-0.3103998601436615,28.586002349853516,1.2972460985183716,-21.83712387084961,29.129493713378906,-2.405341148376465,-28.70442771911621,46.56915283203125,8.724626541137695,-24.688764572143555,10.73630428314209,-21.172178268432617,-2.0692965984344482,42.491615295410156,-48.83305740356445,-27.103147506713867,-38.94887161254883,-15.552961349487305,1.6967452764511108,37.988037109375,53.44285202026367,23.85885238647461,-11.699775695800781,59.38093185424805,1.5906699895858765,-23.168258666992188,-25.78982925415039,-7.7154035568237305,6.116436004638672,-12.662968635559082,31.533308029174805,2.0736687183380127,-13.970001220703125,51.89398193359375,-2.506847381591797,9.281915664672852,-19.360260009765625,-18.248655319213867,-3.6705305576324463,-35.16584777832031,-17.125856399536133,-1.5021814107894897,5.612040042877197,-8.76722526550293,-0.39837831258773804,41.25467300415039,-20.998363494873047,44.63026428222656,2.606602430343628,28.03508949279785,16.187612533569336,-10.828792572021484,-1.0557682514190674,42.73175811767578,-20.097572326660156,30.823719024658203,10.851247787475586,-0.16209664940834045,-40.10209655761719,-35.03037643432617,-28.804738998413086,17.287748336791992,8.293378829956055,-8.842864036560059,-47.31241989135742,19.086036682128906,55.10195541381836,56.010284423828125,-16.810667037963867,38.302772521972656,-3.5386929512023926,-4.974968910217285,-23.026042938232422,52.74386215209961,37.92742156982422,-10.409703254699707,-6.036309242248535,-32.26104736328125,-13.262749671936035,31.779624938964844,-7.406713485717773,13.787250518798828,31.534034729003906,10.40964126586914,-25.581037521362305,-21.14219093322754,-42.094017028808594,14.420318603515625,24.751272201538086,-11.484504699707031,20.08092498779297,-37.85068893432617,24.378705978393555,-12.893248558044434,7.396521091461182,-41.330284118652344,-48.42279815673828,16.221311569213867],\"xaxis\":\"x\",\"y\":[-18.470020294189453,21.01664161682129,7.809547424316406,12.284463882446289,-17.79890251159668,-16.828062057495117,-30.85378074645996,-5.3787384033203125,31.252681732177734,25.701387405395508,35.31256103515625,10.41450023651123,-11.935466766357422,23.909147262573242,-44.319271087646484,22.953954696655273,34.86395263671875,37.616310119628906,48.574981689453125,9.479968070983887,7.715566635131836,-10.625981330871582,1.9558223485946655,-30.5823974609375,-18.014240264892578,-34.025325775146484,18.323383331298828,30.31869888305664,34.796875,34.43396759033203,-1.1046987771987915,3.0553696155548096,34.25435256958008,-32.38899230957031,25.570262908935547,22.434690475463867,-14.974653244018555,19.37506866455078,44.92474365234375,24.168270111083984,-4.0118584632873535,-13.576240539550781,20.890871047973633,8.803817749023438,37.354801177978516,37.800941467285156,17.4184513092041,44.32296371459961,17.253211975097656,37.862918853759766,34.08129119873047,-31.90972137451172,38.547218322753906,24.054353713989258,-0.8017379641532898,16.714826583862305,40.13505554199219,3.8966310024261475,22.7818603515625,-31.178098678588867,7.713554859161377,37.222930908203125,27.323970794677734,12.404122352600098,33.0816535949707,-18.80820655822754,3.4846129417419434,-9.974406242370605,27.410776138305664,33.47628402709961,41.4942626953125,18.0919246673584,-7.802907466888428,-12.649399757385254,35.29085159301758,-5.018246173858643,20.83197593688965,9.091934204101562,34.27124786376953,6.16298770904541,-31.991012573242188,13.821170806884766,30.222925186157227,-23.428632736206055,-4.397511005401611,-9.51072883605957,-29.706398010253906,-15.5451021194458,26.682903289794922,30.53217315673828,28.6472225189209,25.19748878479004,36.74238204956055,33.93404006958008,17.9122257232666,18.741239547729492,2.255641222000122,14.021695137023926,-10.043025970458984,-7.793863773345947,38.70421600341797,-23.866060256958008,30.498506546020508,16.28009033203125,15.468302726745605,8.427635192871094,30.23560333251953,-37.03392028808594,15.107468605041504,-18.517234802246094,10.629121780395508,13.625370025634766,-5.604394435882568,-11.081599235534668,41.1961669921875,-8.116467475891113,0.9463977813720703,21.773096084594727,25.543794631958008,-23.774253845214844,42.629913330078125,9.871769905090332,-15.335236549377441,-30.570798873901367,-25.299358367919922,-0.14528660476207733,7.707009792327881,4.439141273498535,-25.87135124206543,21.310680389404297,-4.124121189117432,26.029232025146484,29.340106964111328,28.518367767333984,33.30982971191406,-16.11919593811035,-36.503456115722656,14.567110061645508,40.60209655761719,39.510623931884766,22.670080184936523,-29.0571231842041,-1.8063230514526367,18.793054580688477,-1.6849958896636963,46.094146728515625,24.808143615722656,-6.549518585205078,31.78502082824707,-25.452547073364258,29.977022171020508,21.1297664642334,-9.015701293945312,5.8041253089904785,28.01618194580078,-5.027948379516602,36.96699142456055,-2.463006019592285,33.965797424316406,-1.9257657527923584,22.62381935119629,14.682636260986328,23.11504554748535,-4.538829803466797,-27.96538734436035,41.79877471923828,17.09739875793457,-17.409080505371094,-11.672874450683594,5.433067798614502,29.586692810058594,6.477047443389893,26.404254913330078,-1.1583055257797241,18.434814453125,-6.371248722076416,5.371890544891357,4.7796950340271,0.4897032082080841,-31.956933975219727,28.388446807861328,23.99146842956543,19.67266845703125,-38.027713775634766,31.080581665039062,18.26247787475586,36.6148567199707,7.030167102813721,-21.010013580322266,31.853281021118164,-30.44890594482422,46.972557067871094,20.003429412841797,9.034483909606934,-29.434640884399414,16.368982315063477,-36.72792434692383,-17.96380615234375,-4.001920700073242,33.48796844482422],\"yaxis\":\"y\",\"type\":\"scatter\"}],                        {\"template\":{\"data\":{\"histogram2dcontour\":[{\"type\":\"histogram2dcontour\",\"colorbar\":{\"outlinewidth\":0,\"ticks\":\"\"},\"colorscale\":[[0.0,\"#0d0887\"],[0.1111111111111111,\"#46039f\"],[0.2222222222222222,\"#7201a8\"],[0.3333333333333333,\"#9c179e\"],[0.4444444444444444,\"#bd3786\"],[0.5555555555555556,\"#d8576b\"],[0.6666666666666666,\"#ed7953\"],[0.7777777777777778,\"#fb9f3a\"],[0.8888888888888888,\"#fdca26\"],[1.0,\"#f0f921\"]]}],\"choropleth\":[{\"type\":\"choropleth\",\"colorbar\":{\"outlinewidth\":0,\"ticks\":\"\"}}],\"histogram2d\":[{\"type\":\"histogram2d\",\"colorbar\":{\"outlinewidth\":0,\"ticks\":\"\"},\"colorscale\":[[0.0,\"#0d0887\"],[0.1111111111111111,\"#46039f\"],[0.2222222222222222,\"#7201a8\"],[0.3333333333333333,\"#9c179e\"],[0.4444444444444444,\"#bd3786\"],[0.5555555555555556,\"#d8576b\"],[0.6666666666666666,\"#ed7953\"],[0.7777777777777778,\"#fb9f3a\"],[0.8888888888888888,\"#fdca26\"],[1.0,\"#f0f921\"]]}],\"heatmap\":[{\"type\":\"heatmap\",\"colorbar\":{\"outlinewidth\":0,\"ticks\":\"\"},\"colorscale\":[[0.0,\"#0d0887\"],[0.1111111111111111,\"#46039f\"],[0.2222222222222222,\"#7201a8\"],[0.3333333333333333,\"#9c179e\"],[0.4444444444444444,\"#bd3786\"],[0.5555555555555556,\"#d8576b\"],[0.6666666666666666,\"#ed7953\"],[0.7777777777777778,\"#fb9f3a\"],[0.8888888888888888,\"#fdca26\"],[1.0,\"#f0f921\"]]}],\"heatmapgl\":[{\"type\":\"heatmapgl\",\"colorbar\":{\"outlinewidth\":0,\"ticks\":\"\"},\"colorscale\":[[0.0,\"#0d0887\"],[0.1111111111111111,\"#46039f\"],[0.2222222222222222,\"#7201a8\"],[0.3333333333333333,\"#9c179e\"],[0.4444444444444444,\"#bd3786\"],[0.5555555555555556,\"#d8576b\"],[0.6666666666666666,\"#ed7953\"],[0.7777777777777778,\"#fb9f3a\"],[0.8888888888888888,\"#fdca26\"],[1.0,\"#f0f921\"]]}],\"contourcarpet\":[{\"type\":\"contourcarpet\",\"colorbar\":{\"outlinewidth\":0,\"ticks\":\"\"}}],\"contour\":[{\"type\":\"contour\",\"colorbar\":{\"outlinewidth\":0,\"ticks\":\"\"},\"colorscale\":[[0.0,\"#0d0887\"],[0.1111111111111111,\"#46039f\"],[0.2222222222222222,\"#7201a8\"],[0.3333333333333333,\"#9c179e\"],[0.4444444444444444,\"#bd3786\"],[0.5555555555555556,\"#d8576b\"],[0.6666666666666666,\"#ed7953\"],[0.7777777777777778,\"#fb9f3a\"],[0.8888888888888888,\"#fdca26\"],[1.0,\"#f0f921\"]]}],\"surface\":[{\"type\":\"surface\",\"colorbar\":{\"outlinewidth\":0,\"ticks\":\"\"},\"colorscale\":[[0.0,\"#0d0887\"],[0.1111111111111111,\"#46039f\"],[0.2222222222222222,\"#7201a8\"],[0.3333333333333333,\"#9c179e\"],[0.4444444444444444,\"#bd3786\"],[0.5555555555555556,\"#d8576b\"],[0.6666666666666666,\"#ed7953\"],[0.7777777777777778,\"#fb9f3a\"],[0.8888888888888888,\"#fdca26\"],[1.0,\"#f0f921\"]]}],\"mesh3d\":[{\"type\":\"mesh3d\",\"colorbar\":{\"outlinewidth\":0,\"ticks\":\"\"}}],\"scatter\":[{\"fillpattern\":{\"fillmode\":\"overlay\",\"size\":10,\"solidity\":0.2},\"type\":\"scatter\"}],\"parcoords\":[{\"type\":\"parcoords\",\"line\":{\"colorbar\":{\"outlinewidth\":0,\"ticks\":\"\"}}}],\"scatterpolargl\":[{\"type\":\"scatterpolargl\",\"marker\":{\"colorbar\":{\"outlinewidth\":0,\"ticks\":\"\"}}}],\"bar\":[{\"error_x\":{\"color\":\"#2a3f5f\"},\"error_y\":{\"color\":\"#2a3f5f\"},\"marker\":{\"line\":{\"color\":\"#E5ECF6\",\"width\":0.5},\"pattern\":{\"fillmode\":\"overlay\",\"size\":10,\"solidity\":0.2}},\"type\":\"bar\"}],\"scattergeo\":[{\"type\":\"scattergeo\",\"marker\":{\"colorbar\":{\"outlinewidth\":0,\"ticks\":\"\"}}}],\"scatterpolar\":[{\"type\":\"scatterpolar\",\"marker\":{\"colorbar\":{\"outlinewidth\":0,\"ticks\":\"\"}}}],\"histogram\":[{\"marker\":{\"pattern\":{\"fillmode\":\"overlay\",\"size\":10,\"solidity\":0.2}},\"type\":\"histogram\"}],\"scattergl\":[{\"type\":\"scattergl\",\"marker\":{\"colorbar\":{\"outlinewidth\":0,\"ticks\":\"\"}}}],\"scatter3d\":[{\"type\":\"scatter3d\",\"line\":{\"colorbar\":{\"outlinewidth\":0,\"ticks\":\"\"}},\"marker\":{\"colorbar\":{\"outlinewidth\":0,\"ticks\":\"\"}}}],\"scattermapbox\":[{\"type\":\"scattermapbox\",\"marker\":{\"colorbar\":{\"outlinewidth\":0,\"ticks\":\"\"}}}],\"scatterternary\":[{\"type\":\"scatterternary\",\"marker\":{\"colorbar\":{\"outlinewidth\":0,\"ticks\":\"\"}}}],\"scattercarpet\":[{\"type\":\"scattercarpet\",\"marker\":{\"colorbar\":{\"outlinewidth\":0,\"ticks\":\"\"}}}],\"carpet\":[{\"aaxis\":{\"endlinecolor\":\"#2a3f5f\",\"gridcolor\":\"white\",\"linecolor\":\"white\",\"minorgridcolor\":\"white\",\"startlinecolor\":\"#2a3f5f\"},\"baxis\":{\"endlinecolor\":\"#2a3f5f\",\"gridcolor\":\"white\",\"linecolor\":\"white\",\"minorgridcolor\":\"white\",\"startlinecolor\":\"#2a3f5f\"},\"type\":\"carpet\"}],\"table\":[{\"cells\":{\"fill\":{\"color\":\"#EBF0F8\"},\"line\":{\"color\":\"white\"}},\"header\":{\"fill\":{\"color\":\"#C8D4E3\"},\"line\":{\"color\":\"white\"}},\"type\":\"table\"}],\"barpolar\":[{\"marker\":{\"line\":{\"color\":\"#E5ECF6\",\"width\":0.5},\"pattern\":{\"fillmode\":\"overlay\",\"size\":10,\"solidity\":0.2}},\"type\":\"barpolar\"}],\"pie\":[{\"automargin\":true,\"type\":\"pie\"}]},\"layout\":{\"autotypenumbers\":\"strict\",\"colorway\":[\"#636efa\",\"#EF553B\",\"#00cc96\",\"#ab63fa\",\"#FFA15A\",\"#19d3f3\",\"#FF6692\",\"#B6E880\",\"#FF97FF\",\"#FECB52\"],\"font\":{\"color\":\"#2a3f5f\"},\"hovermode\":\"closest\",\"hoverlabel\":{\"align\":\"left\"},\"paper_bgcolor\":\"white\",\"plot_bgcolor\":\"#E5ECF6\",\"polar\":{\"bgcolor\":\"#E5ECF6\",\"angularaxis\":{\"gridcolor\":\"white\",\"linecolor\":\"white\",\"ticks\":\"\"},\"radialaxis\":{\"gridcolor\":\"white\",\"linecolor\":\"white\",\"ticks\":\"\"}},\"ternary\":{\"bgcolor\":\"#E5ECF6\",\"aaxis\":{\"gridcolor\":\"white\",\"linecolor\":\"white\",\"ticks\":\"\"},\"baxis\":{\"gridcolor\":\"white\",\"linecolor\":\"white\",\"ticks\":\"\"},\"caxis\":{\"gridcolor\":\"white\",\"linecolor\":\"white\",\"ticks\":\"\"}},\"coloraxis\":{\"colorbar\":{\"outlinewidth\":0,\"ticks\":\"\"}},\"colorscale\":{\"sequential\":[[0.0,\"#0d0887\"],[0.1111111111111111,\"#46039f\"],[0.2222222222222222,\"#7201a8\"],[0.3333333333333333,\"#9c179e\"],[0.4444444444444444,\"#bd3786\"],[0.5555555555555556,\"#d8576b\"],[0.6666666666666666,\"#ed7953\"],[0.7777777777777778,\"#fb9f3a\"],[0.8888888888888888,\"#fdca26\"],[1.0,\"#f0f921\"]],\"sequentialminus\":[[0.0,\"#0d0887\"],[0.1111111111111111,\"#46039f\"],[0.2222222222222222,\"#7201a8\"],[0.3333333333333333,\"#9c179e\"],[0.4444444444444444,\"#bd3786\"],[0.5555555555555556,\"#d8576b\"],[0.6666666666666666,\"#ed7953\"],[0.7777777777777778,\"#fb9f3a\"],[0.8888888888888888,\"#fdca26\"],[1.0,\"#f0f921\"]],\"diverging\":[[0,\"#8e0152\"],[0.1,\"#c51b7d\"],[0.2,\"#de77ae\"],[0.3,\"#f1b6da\"],[0.4,\"#fde0ef\"],[0.5,\"#f7f7f7\"],[0.6,\"#e6f5d0\"],[0.7,\"#b8e186\"],[0.8,\"#7fbc41\"],[0.9,\"#4d9221\"],[1,\"#276419\"]]},\"xaxis\":{\"gridcolor\":\"white\",\"linecolor\":\"white\",\"ticks\":\"\",\"title\":{\"standoff\":15},\"zerolinecolor\":\"white\",\"automargin\":true,\"zerolinewidth\":2},\"yaxis\":{\"gridcolor\":\"white\",\"linecolor\":\"white\",\"ticks\":\"\",\"title\":{\"standoff\":15},\"zerolinecolor\":\"white\",\"automargin\":true,\"zerolinewidth\":2},\"scene\":{\"xaxis\":{\"backgroundcolor\":\"#E5ECF6\",\"gridcolor\":\"white\",\"linecolor\":\"white\",\"showbackground\":true,\"ticks\":\"\",\"zerolinecolor\":\"white\",\"gridwidth\":2},\"yaxis\":{\"backgroundcolor\":\"#E5ECF6\",\"gridcolor\":\"white\",\"linecolor\":\"white\",\"showbackground\":true,\"ticks\":\"\",\"zerolinecolor\":\"white\",\"gridwidth\":2},\"zaxis\":{\"backgroundcolor\":\"#E5ECF6\",\"gridcolor\":\"white\",\"linecolor\":\"white\",\"showbackground\":true,\"ticks\":\"\",\"zerolinecolor\":\"white\",\"gridwidth\":2}},\"shapedefaults\":{\"line\":{\"color\":\"#2a3f5f\"}},\"annotationdefaults\":{\"arrowcolor\":\"#2a3f5f\",\"arrowhead\":0,\"arrowwidth\":1},\"geo\":{\"bgcolor\":\"white\",\"landcolor\":\"#E5ECF6\",\"subunitcolor\":\"white\",\"showland\":true,\"showlakes\":true,\"lakecolor\":\"white\"},\"title\":{\"x\":0.05},\"mapbox\":{\"style\":\"light\"}}},\"xaxis\":{\"anchor\":\"y\",\"domain\":[0.0,1.0],\"title\":{\"text\":\"x\"}},\"yaxis\":{\"anchor\":\"x\",\"domain\":[0.0,1.0],\"title\":{\"text\":\"y\"}},\"legend\":{\"tracegroupgap\":0},\"margin\":{\"t\":60}},                        {\"responsive\": true}                    ).then(function(){\n",
              "                            \n",
              "var gd = document.getElementById('06ee5bd0-e03e-444a-8c17-4dc528ac4367');\n",
              "var x = new MutationObserver(function (mutations, observer) {{\n",
              "        var display = window.getComputedStyle(gd).display;\n",
              "        if (!display || display === 'none') {{\n",
              "            console.log([gd, 'removed!']);\n",
              "            Plotly.purge(gd);\n",
              "            observer.disconnect();\n",
              "        }}\n",
              "}});\n",
              "\n",
              "// Listen for the removal of the full notebook cells\n",
              "var notebookContainer = gd.closest('#notebook-container');\n",
              "if (notebookContainer) {{\n",
              "    x.observe(notebookContainer, {childList: true});\n",
              "}}\n",
              "\n",
              "// Listen for the clearing of the current output cell\n",
              "var outputEl = gd.closest('.output');\n",
              "if (outputEl) {{\n",
              "    x.observe(outputEl, {childList: true});\n",
              "}}\n",
              "\n",
              "                        })                };                            </script>        </div>\n",
              "</body>\n",
              "</html>"
            ]
          },
          "metadata": {}
        }
      ]
    },
    {
      "cell_type": "code",
      "source": [
        "# Graficar los embedddings en 3D\n",
        "vecs, labels = reduce_dimensions(w2v_model,3)\n",
        "fig = px.scatter_3d(x=vecs[:MAX_WORDS,0], y=vecs[:MAX_WORDS,1], z=vecs[:MAX_WORDS,2],text=labels[:MAX_WORDS])\n",
        "fig.update_traces(marker_size = 2)\n",
        "fig.show(renderer=\"colab\") # esto para plotly en colab"
      ],
      "metadata": {
        "colab": {
          "base_uri": "https://localhost:8080/",
          "height": 542
        },
        "id": "jZbt6EKBMp4U",
        "outputId": "77379065-5c51-4e4a-dda8-beed4f3f8c72"
      },
      "execution_count": null,
      "outputs": [
        {
          "output_type": "display_data",
          "data": {
            "text/html": [
              "<html>\n",
              "<head><meta charset=\"utf-8\" /></head>\n",
              "<body>\n",
              "    <div>            <script src=\"https://cdnjs.cloudflare.com/ajax/libs/mathjax/2.7.5/MathJax.js?config=TeX-AMS-MML_SVG\"></script><script type=\"text/javascript\">if (window.MathJax && window.MathJax.Hub && window.MathJax.Hub.Config) {window.MathJax.Hub.Config({SVG: {font: \"STIX-Web\"}});}</script>                <script type=\"text/javascript\">window.PlotlyConfig = {MathJaxConfig: 'local'};</script>\n",
              "        <script charset=\"utf-8\" src=\"https://cdn.plot.ly/plotly-2.24.1.min.js\"></script>                <div id=\"cd7632bc-5562-430f-86b0-0252d4219384\" class=\"plotly-graph-div\" style=\"height:525px; width:100%;\"></div>            <script type=\"text/javascript\">                                    window.PLOTLYENV=window.PLOTLYENV || {};                                    if (document.getElementById(\"cd7632bc-5562-430f-86b0-0252d4219384\")) {                    Plotly.newPlot(                        \"cd7632bc-5562-430f-86b0-0252d4219384\",                        [{\"hovertemplate\":\"x=%{x}\\u003cbr\\u003ey=%{y}\\u003cbr\\u003ez=%{z}\\u003cbr\\u003etext=%{text}\\u003cextra\\u003e\\u003c\\u002fextra\\u003e\",\"legendgroup\":\"\",\"marker\":{\"color\":\"#636efa\",\"symbol\":\"circle\",\"size\":2},\"mode\":\"markers+text\",\"name\":\"\",\"scene\":\"scene\",\"showlegend\":false,\"text\":[\"the\",\"to\",\"and\",\"a\",\"of\",\"in\",\"is\",\"for\",\"you\",\"that\",\"i\",\"with\",\"on\",\"this\",\"1\",\"are\",\"it\",\"be\",\"as\",\"can\",\"what\",\"from\",\"an\",\"2\",\"or\",\"how\",\"if\",\"have\",\"will\",\"we\",\"0\",\"your\",\"not\",\"3\",\"by\",\"do\",\"at\",\"me\",\"my\",\"but\",\"all\",\"each\",\"they\",\"their\",\"more\",\"like\",\"about\",\"one\",\"please\",\"would\",\"has\",\"5\",\"should\",\"make\",\"x\",\"write\",\"time\",\"use\",\"our\",\"4\",\"data\",\"so\",\"there\",\"new\",\"want\",\"which\",\"using\",\"id\",\"some\",\"get\",\"when\",\"them\",\"name\",\"c\",\"up\",\"these\",\"give\",\"any\",\"need\",\"return\",\"does\",\"create\",\"where\",\"b\",\"based\",\"n\",\"10\",\"value\",\"also\",\"now\",\"out\",\"then\",\"was\",\"into\",\"provide\",\"help\",\"user\",\"code\",\"type\",\"other\",\"only\",\"two\",\"no\",\"function\",\"first\",\"could\",\"quality\",\"rod\",\"who\",\"'\",\"following\",\"work\",\"number\",\"list\",\"move\",\"string\",\"than\",\"people\",\"he\",\"its\",\"state\",\"self\",\"e\",\"6\",\"between\",\"y\",\"example\",\"company\",\"different\",\"way\",\"model\",\"just\",\"score\",\"after\",\"think\",\"key\",\"disk\",\"same\",\"am\",\"i'm\",\"continue\",\"such\",\"business\",\"information\",\"next\",\"best\",\"step\",\"text\",\"know\",\"date\",\"add\",\"system\",\"right\",\"through\",\"answer\",\"true\",\"good\",\"import\",\"start\",\"design\",\"his\",\"been\",\"us\",\"set\",\"given\",\"game\",\"explain\",\"current\",\"d\",\"p\",\"may\",\"response\",\"questions\",\"product\",\"being\",\"array\",\"request\",\"plan\",\"include\",\"specific\",\"why\",\"case\",\"take\",\"high\",\"100\",\"find\",\"because\",\"most\",\"used\",\"day\",\"8\",\"here\",\"email\",\"over\",\"7\",\"order\",\"s\",\"process\",\"problem\",\"\\u2022\"],\"x\":[1.4780563116073608,-15.357129096984863,0.03957763686776161,-13.898000717163086,3.8807034492492676,-1.7598477602005005,-25.223642349243164,-6.127051830291748,-28.959186553955078,-18.425254821777344,-19.960412979125977,1.415610671043396,6.855931282043457,3.136989116668701,36.43909454345703,-32.071678161621094,-44.14147186279297,-36.31423568725586,-5.154233932495117,-19.412824630737305,-43.87200927734375,3.817269802093506,-1.6712026596069336,28.690288543701172,-19.050689697265625,-37.752567291259766,29.67884635925293,-26.015756607055664,-23.485721588134766,-19.061708450317383,35.234432220458984,-5.656219482421875,-28.69097137451172,33.00385284423828,-15.218088150024414,-23.293601989746094,-2.583249807357788,-6.236209869384766,3.3362791538238525,-21.260894775390625,-13.32509994506836,-2.600430488586426,-14.926714897155762,-15.936861991882324,-16.021095275878906,-28.745513916015625,-44.24271011352539,-15.3836669921875,-2.715924024581909,-38.49972915649414,-12.873639106750488,28.642871856689453,-40.626705169677734,-17.968658447265625,31.690963745117188,14.093223571777344,4.725240707397461,14.138875961303711,-49.77463912963867,30.18927764892578,42.11959457397461,-40.90579605102539,-17.66794776916504,10.286417961120605,-25.627796173095703,3.522264242172241,16.51141357421875,24.678691864013672,-36.48093032836914,-13.24610424041748,-7.455343246459961,-21.15903663635254,24.619659423828125,50.33460998535156,-9.888531684875488,-17.756832122802734,-5.990503787994385,-9.729004859924316,-16.870092391967773,39.36956024169922,-40.695926666259766,9.122855186462402,22.309051513671875,6.279990196228027,4.078681945800781,42.974334716796875,17.472164154052734,18.150672912597656,-18.848642349243164,-36.71223831176758,19.85213279724121,-16.813255310058594,-12.764573097229004,-13.329512596130371,-13.134050369262695,-4.481136322021484,33.731109619140625,17.961313247680664,40.686100006103516,-19.597827911376953,14.049484252929688,-0.6141546964645386,-5.959891319274902,23.926172256469727,4.8776726722717285,-19.91897201538086,8.406760215759277,-6.870547294616699,-16.577821731567383,44.42985916137695,16.80511474609375,-26.902240753173828,11.656612396240234,-3.8348500728607178,-9.468814849853516,38.22626876831055,-10.263425827026367,-18.385486602783203,-33.331329345703125,0.9070483446121216,10.066198348999023,34.73017120361328,50.25370407104492,12.572245597839355,3.647202491760254,29.72692108154297,-1.618148684501648,-5.659270286560059,-39.58137512207031,-26.855466842651367,10.149569511413574,-20.829702377319336,11.4428071975708,-6.9088640213012695,-27.55459213256836,43.19157409667969,-5.02030611038208,6.86257791519165,-11.618982315063477,-34.479949951171875,-14.107688903808594,-34.97511291503906,-1.199620246887207,-16.20355796813965,-0.1498558223247528,-8.924500465393066,-11.871546745300293,41.275264739990234,-30.50800323486328,19.75203514099121,-16.64032745361328,34.36220169067383,4.8122711181640625,-6.560026168823242,-4.374319076538086,47.65546417236328,-35.72705078125,25.95270538330078,-0.46879881620407104,4.821769714355469,-28.54228973388672,-14.140642166137695,-24.994260787963867,13.88232135772705,13.588089942932129,-1.2118091583251953,-46.404205322265625,18.988258361816406,41.46111297607422,37.043392181396484,-26.275068283081055,40.98395919799805,-21.122013092041016,-0.6967960596084595,-23.434606552124023,32.410911560058594,37.30204772949219,-12.782552719116211,-15.382536888122559,-37.35978698730469,-25.130184173583984,14.306497573852539,-17.804046630859375,25.540311813354492,13.818175315856934,11.010110855102539,-39.92102813720703,-23.21000862121582,-23.29915428161621,0.2759312689304352,13.528385162353516,-45.13127517700195,6.944945335388184,-19.76063346862793,13.069113731384277,-2.2703857421875,19.774816513061523,-28.997159957885742,-19.60165786743164,3.6361846923828125],\"y\":[0.5512223839759827,21.052570343017578,-3.828763484954834,17.903676986694336,6.3077168464660645,-0.8262110352516174,11.885477066040039,-14.353239059448242,8.485087394714355,16.946020126342773,35.7899169921875,-6.498144149780273,-7.159968852996826,-2.541966199874878,10.790666580200195,6.6091508865356445,16.34095573425293,29.688152313232422,-14.764176368713379,14.783341407775879,5.831457138061523,31.089359283447266,-4.1878533363342285,11.56895923614502,27.101173400878906,-10.999449729919434,-11.761327743530273,25.467079162597656,40.019771575927734,30.505062103271484,4.000233173370361,-40.686038970947266,32.559391021728516,11.69368839263916,44.50213623046875,10.99887466430664,33.03545379638672,-12.513542175292969,-23.041751861572266,24.227079391479492,-8.205317497253418,24.01477813720703,13.155586242675781,-8.134148597717285,16.08269500732422,15.208950996398926,-8.988924980163574,18.692184448242188,-3.8746697902679443,19.053918838500977,-0.20135636627674103,13.053247451782227,16.50510025024414,20.8076114654541,5.9075164794921875,-19.350290298461914,-0.1309109777212143,-20.478748321533203,1.6144987344741821,15.699966430664062,-24.90007781982422,6.014221668243408,9.751725196838379,-18.591434478759766,33.999267578125,7.701784610748291,-21.57539176940918,3.2247071266174316,11.591425895690918,26.065948486328125,2.202707290649414,1.1392194032669067,-2.8526573181152344,-8.405735969543457,30.23802947998047,-5.585497856140137,-2.06915545463562,7.835330963134766,13.950433731079102,-20.58864402770996,-13.302300453186035,-23.245656967163086,8.11054801940918,17.93808364868164,-2.852429151535034,-11.833840370178223,23.9303035736084,25.622114181518555,20.99139976501465,14.543695449829102,7.2970356941223145,23.535602569580078,-7.197599411010742,36.11286544799805,-2.8225719928741455,-19.72735595703125,-20.87199592590332,-26.66537857055664,0.014454450458288193,-5.119494438171387,16.99107551574707,17.174219131469727,27.123302459716797,-24.798490524291992,7.5653605461120605,17.944181442260742,27.067663192749023,34.79066467285156,3.753028154373169,7.47620153427124,-0.8793468475341797,-4.003756046295166,5.241247653961182,6.303441524505615,25.139799118041992,-4.6050639152526855,26.424846649169922,8.840468406677246,8.092582702636719,6.954722881317139,4.6199469566345215,-24.218162536621094,-15.845647811889648,25.78264808654785,14.814030647277832,3.497342109680176,-6.389358043670654,-37.43324661254883,-20.373554229736328,11.476258277893066,-32.44706726074219,18.71435546875,29.28572654724121,44.19759750366211,29.61049461364746,-15.5048828125,34.05711364746094,-1.425880789756775,16.039989471435547,15.055383682250977,6.621857643127441,-27.957275390625,-33.78459548950195,4.337700843811035,2.6513636112213135,-3.593498468399048,2.3135416507720947,-10.399523735046387,13.711994171142578,39.363704681396484,14.523496627807617,-31.772184371948242,11.963994026184082,22.50090980529785,5.586884498596191,-8.301997184753418,14.030447959899902,-26.326879501342773,32.15205764770508,-33.6225471496582,-0.7910135984420776,3.8762290477752686,9.933470726013184,-0.04715896025300026,2.9335129261016846,-27.918914794921875,-9.147957801818848,37.727725982666016,-7.317022800445557,-2.7202985286712646,17.55254364013672,-20.887697219848633,1.9592396020889282,-40.473201751708984,2.3065073490142822,5.30452823638916,-23.816850662231445,20.18790626525879,16.777652740478516,-24.462867736816406,20.24283218383789,36.50460433959961,10.9568510055542,-10.689416885375977,31.807687759399414,-19.60106658935547,6.679689884185791,-18.385927200317383,-15.320277214050293,38.2864990234375,28.96143341064453,11.701712608337402,-14.434825897216797,-9.260239601135254,26.142351150512695,12.227571487426758,10.365821838378906,-27.266935348510742,-21.991416931152344,38.95946502685547],\"z\":[1.1033133268356323,6.264298915863037,-12.881600379943848,-1.8750958442687988,-1.7056043148040771,-2.7120862007141113,39.1314582824707,-12.686901092529297,-8.291831016540527,-2.3515567779541016,4.634059906005859,-3.467916488647461,-46.69822692871094,-25.128698348999023,-3.391690731048584,0.9118801951408386,4.589648723602295,11.735926628112793,36.656925201416016,-21.43164825439453,-6.735653877258301,33.648536682128906,1.9674912691116333,-22.06468963623047,-35.89161682128906,-23.17939567565918,32.23055648803711,9.852684020996094,2.7261290550231934,9.040620803833008,-16.030187606811523,-18.396709442138672,9.892337799072266,-25.03509521484375,-10.345587730407715,-5.601911544799805,5.941572189331055,-34.89409255981445,33.15548324584961,0.00038288754876703024,-7.840667724609375,-27.42254066467285,14.179478645324707,13.118342399597168,-37.63440704345703,-18.197294235229492,18.8699951171875,36.707603454589844,-34.34051513671875,-19.791269302368164,36.32577133178711,-16.857023239135742,-19.731689453125,-10.383304595947266,-24.088441848754883,-26.40839958190918,10.912442207336426,-9.804606437683105,13.50809383392334,-21.447071075439453,-1.1496844291687012,-1.3007934093475342,11.199633598327637,15.119890213012695,-2.3458786010742188,-4.982875823974609,-12.206609725952148,12.951115608215332,-17.270376205444336,2.7720377445220947,44.63906478881836,-6.6723313331604,14.473392486572266,-3.0196328163146973,11.407768249511719,-23.84523582458496,-36.64622116088867,-16.780630111694336,-28.168987274169922,-0.8570998907089233,-17.991275787353516,-20.293184280395508,9.51163387298584,27.306509017944336,-46.88518524169922,-15.471650123596191,0.09215539693832397,-11.47780990600586,-1.8285963535308838,23.987123489379883,-8.670743942260742,3.147311210632324,19.877883911132812,7.234471321105957,-36.230751037597656,-19.970746994018555,4.19125509262085,-9.53725528717041,5.972702503204346,-18.521873474121094,5.959822654724121,28.876657485961914,10.29614543914795,-9.412149429321289,-38.90274429321289,-25.33979606628418,-24.432544708251953,-12.95724868774414,38.5244140625,11.591116905212402,-26.463991165161133,11.367177963256836,7.290921688079834,-19.907550811767578,8.117341995239258,8.545166969299316,-15.974630355834961,17.164356231689453,26.24250030517578,-17.9625244140625,27.73261833190918,-7.781469821929932,1.1235474348068237,-1.6674442291259766,-9.659136772155762,-25.793107986450195,-13.331000328063965,10.415356636047363,-1.5629478693008423,-15.796744346618652,-12.020149230957031,4.82241678237915,-20.59705352783203,7.9498209953308105,-0.6740067601203918,-0.42882463335990906,-14.480165481567383,3.170720338821411,44.91944122314453,-2.834751844406128,-26.96952247619629,-9.89101791381836,-5.495646953582764,-37.614830017089844,-36.89530944824219,-48.55518341064453,-36.19498062133789,10.247980117797852,6.243819236755371,-0.9487395286560059,-12.35534381866455,-5.986959457397461,24.455476760864258,33.84537124633789,-24.883975982666016,9.89806842803955,2.6313223838806152,16.208162307739258,25.318668365478516,-10.399768829345703,34.07083511352539,30.412975311279297,15.888684272766113,-4.387080192565918,-24.374649047851562,25.428573608398438,16.20676040649414,-10.394627571105957,-11.650766372680664,-25.390352249145508,-1.7408770322799683,2.3756308555603027,-33.86320877075195,9.20995044708252,8.008990287780762,-5.898078441619873,1.92823326587677,-42.16736602783203,-22.91864013671875,-19.391815185546875,-8.251712799072266,-20.846036911010742,-16.02804946899414,-29.677244186401367,-25.608539581298828,-21.538227081298828,3.253573179244995,20.75244140625,-25.76848793029785,15.938940048217773,0.44499775767326355,-11.233405113220215,22.762617111206055,24.481828689575195,2.5802152156829834,19.082956314086914,-28.22753143310547,-16.706117630004883,-36.0745735168457,10.055810928344727],\"type\":\"scatter3d\"}],                        {\"template\":{\"data\":{\"histogram2dcontour\":[{\"type\":\"histogram2dcontour\",\"colorbar\":{\"outlinewidth\":0,\"ticks\":\"\"},\"colorscale\":[[0.0,\"#0d0887\"],[0.1111111111111111,\"#46039f\"],[0.2222222222222222,\"#7201a8\"],[0.3333333333333333,\"#9c179e\"],[0.4444444444444444,\"#bd3786\"],[0.5555555555555556,\"#d8576b\"],[0.6666666666666666,\"#ed7953\"],[0.7777777777777778,\"#fb9f3a\"],[0.8888888888888888,\"#fdca26\"],[1.0,\"#f0f921\"]]}],\"choropleth\":[{\"type\":\"choropleth\",\"colorbar\":{\"outlinewidth\":0,\"ticks\":\"\"}}],\"histogram2d\":[{\"type\":\"histogram2d\",\"colorbar\":{\"outlinewidth\":0,\"ticks\":\"\"},\"colorscale\":[[0.0,\"#0d0887\"],[0.1111111111111111,\"#46039f\"],[0.2222222222222222,\"#7201a8\"],[0.3333333333333333,\"#9c179e\"],[0.4444444444444444,\"#bd3786\"],[0.5555555555555556,\"#d8576b\"],[0.6666666666666666,\"#ed7953\"],[0.7777777777777778,\"#fb9f3a\"],[0.8888888888888888,\"#fdca26\"],[1.0,\"#f0f921\"]]}],\"heatmap\":[{\"type\":\"heatmap\",\"colorbar\":{\"outlinewidth\":0,\"ticks\":\"\"},\"colorscale\":[[0.0,\"#0d0887\"],[0.1111111111111111,\"#46039f\"],[0.2222222222222222,\"#7201a8\"],[0.3333333333333333,\"#9c179e\"],[0.4444444444444444,\"#bd3786\"],[0.5555555555555556,\"#d8576b\"],[0.6666666666666666,\"#ed7953\"],[0.7777777777777778,\"#fb9f3a\"],[0.8888888888888888,\"#fdca26\"],[1.0,\"#f0f921\"]]}],\"heatmapgl\":[{\"type\":\"heatmapgl\",\"colorbar\":{\"outlinewidth\":0,\"ticks\":\"\"},\"colorscale\":[[0.0,\"#0d0887\"],[0.1111111111111111,\"#46039f\"],[0.2222222222222222,\"#7201a8\"],[0.3333333333333333,\"#9c179e\"],[0.4444444444444444,\"#bd3786\"],[0.5555555555555556,\"#d8576b\"],[0.6666666666666666,\"#ed7953\"],[0.7777777777777778,\"#fb9f3a\"],[0.8888888888888888,\"#fdca26\"],[1.0,\"#f0f921\"]]}],\"contourcarpet\":[{\"type\":\"contourcarpet\",\"colorbar\":{\"outlinewidth\":0,\"ticks\":\"\"}}],\"contour\":[{\"type\":\"contour\",\"colorbar\":{\"outlinewidth\":0,\"ticks\":\"\"},\"colorscale\":[[0.0,\"#0d0887\"],[0.1111111111111111,\"#46039f\"],[0.2222222222222222,\"#7201a8\"],[0.3333333333333333,\"#9c179e\"],[0.4444444444444444,\"#bd3786\"],[0.5555555555555556,\"#d8576b\"],[0.6666666666666666,\"#ed7953\"],[0.7777777777777778,\"#fb9f3a\"],[0.8888888888888888,\"#fdca26\"],[1.0,\"#f0f921\"]]}],\"surface\":[{\"type\":\"surface\",\"colorbar\":{\"outlinewidth\":0,\"ticks\":\"\"},\"colorscale\":[[0.0,\"#0d0887\"],[0.1111111111111111,\"#46039f\"],[0.2222222222222222,\"#7201a8\"],[0.3333333333333333,\"#9c179e\"],[0.4444444444444444,\"#bd3786\"],[0.5555555555555556,\"#d8576b\"],[0.6666666666666666,\"#ed7953\"],[0.7777777777777778,\"#fb9f3a\"],[0.8888888888888888,\"#fdca26\"],[1.0,\"#f0f921\"]]}],\"mesh3d\":[{\"type\":\"mesh3d\",\"colorbar\":{\"outlinewidth\":0,\"ticks\":\"\"}}],\"scatter\":[{\"fillpattern\":{\"fillmode\":\"overlay\",\"size\":10,\"solidity\":0.2},\"type\":\"scatter\"}],\"parcoords\":[{\"type\":\"parcoords\",\"line\":{\"colorbar\":{\"outlinewidth\":0,\"ticks\":\"\"}}}],\"scatterpolargl\":[{\"type\":\"scatterpolargl\",\"marker\":{\"colorbar\":{\"outlinewidth\":0,\"ticks\":\"\"}}}],\"bar\":[{\"error_x\":{\"color\":\"#2a3f5f\"},\"error_y\":{\"color\":\"#2a3f5f\"},\"marker\":{\"line\":{\"color\":\"#E5ECF6\",\"width\":0.5},\"pattern\":{\"fillmode\":\"overlay\",\"size\":10,\"solidity\":0.2}},\"type\":\"bar\"}],\"scattergeo\":[{\"type\":\"scattergeo\",\"marker\":{\"colorbar\":{\"outlinewidth\":0,\"ticks\":\"\"}}}],\"scatterpolar\":[{\"type\":\"scatterpolar\",\"marker\":{\"colorbar\":{\"outlinewidth\":0,\"ticks\":\"\"}}}],\"histogram\":[{\"marker\":{\"pattern\":{\"fillmode\":\"overlay\",\"size\":10,\"solidity\":0.2}},\"type\":\"histogram\"}],\"scattergl\":[{\"type\":\"scattergl\",\"marker\":{\"colorbar\":{\"outlinewidth\":0,\"ticks\":\"\"}}}],\"scatter3d\":[{\"type\":\"scatter3d\",\"line\":{\"colorbar\":{\"outlinewidth\":0,\"ticks\":\"\"}},\"marker\":{\"colorbar\":{\"outlinewidth\":0,\"ticks\":\"\"}}}],\"scattermapbox\":[{\"type\":\"scattermapbox\",\"marker\":{\"colorbar\":{\"outlinewidth\":0,\"ticks\":\"\"}}}],\"scatterternary\":[{\"type\":\"scatterternary\",\"marker\":{\"colorbar\":{\"outlinewidth\":0,\"ticks\":\"\"}}}],\"scattercarpet\":[{\"type\":\"scattercarpet\",\"marker\":{\"colorbar\":{\"outlinewidth\":0,\"ticks\":\"\"}}}],\"carpet\":[{\"aaxis\":{\"endlinecolor\":\"#2a3f5f\",\"gridcolor\":\"white\",\"linecolor\":\"white\",\"minorgridcolor\":\"white\",\"startlinecolor\":\"#2a3f5f\"},\"baxis\":{\"endlinecolor\":\"#2a3f5f\",\"gridcolor\":\"white\",\"linecolor\":\"white\",\"minorgridcolor\":\"white\",\"startlinecolor\":\"#2a3f5f\"},\"type\":\"carpet\"}],\"table\":[{\"cells\":{\"fill\":{\"color\":\"#EBF0F8\"},\"line\":{\"color\":\"white\"}},\"header\":{\"fill\":{\"color\":\"#C8D4E3\"},\"line\":{\"color\":\"white\"}},\"type\":\"table\"}],\"barpolar\":[{\"marker\":{\"line\":{\"color\":\"#E5ECF6\",\"width\":0.5},\"pattern\":{\"fillmode\":\"overlay\",\"size\":10,\"solidity\":0.2}},\"type\":\"barpolar\"}],\"pie\":[{\"automargin\":true,\"type\":\"pie\"}]},\"layout\":{\"autotypenumbers\":\"strict\",\"colorway\":[\"#636efa\",\"#EF553B\",\"#00cc96\",\"#ab63fa\",\"#FFA15A\",\"#19d3f3\",\"#FF6692\",\"#B6E880\",\"#FF97FF\",\"#FECB52\"],\"font\":{\"color\":\"#2a3f5f\"},\"hovermode\":\"closest\",\"hoverlabel\":{\"align\":\"left\"},\"paper_bgcolor\":\"white\",\"plot_bgcolor\":\"#E5ECF6\",\"polar\":{\"bgcolor\":\"#E5ECF6\",\"angularaxis\":{\"gridcolor\":\"white\",\"linecolor\":\"white\",\"ticks\":\"\"},\"radialaxis\":{\"gridcolor\":\"white\",\"linecolor\":\"white\",\"ticks\":\"\"}},\"ternary\":{\"bgcolor\":\"#E5ECF6\",\"aaxis\":{\"gridcolor\":\"white\",\"linecolor\":\"white\",\"ticks\":\"\"},\"baxis\":{\"gridcolor\":\"white\",\"linecolor\":\"white\",\"ticks\":\"\"},\"caxis\":{\"gridcolor\":\"white\",\"linecolor\":\"white\",\"ticks\":\"\"}},\"coloraxis\":{\"colorbar\":{\"outlinewidth\":0,\"ticks\":\"\"}},\"colorscale\":{\"sequential\":[[0.0,\"#0d0887\"],[0.1111111111111111,\"#46039f\"],[0.2222222222222222,\"#7201a8\"],[0.3333333333333333,\"#9c179e\"],[0.4444444444444444,\"#bd3786\"],[0.5555555555555556,\"#d8576b\"],[0.6666666666666666,\"#ed7953\"],[0.7777777777777778,\"#fb9f3a\"],[0.8888888888888888,\"#fdca26\"],[1.0,\"#f0f921\"]],\"sequentialminus\":[[0.0,\"#0d0887\"],[0.1111111111111111,\"#46039f\"],[0.2222222222222222,\"#7201a8\"],[0.3333333333333333,\"#9c179e\"],[0.4444444444444444,\"#bd3786\"],[0.5555555555555556,\"#d8576b\"],[0.6666666666666666,\"#ed7953\"],[0.7777777777777778,\"#fb9f3a\"],[0.8888888888888888,\"#fdca26\"],[1.0,\"#f0f921\"]],\"diverging\":[[0,\"#8e0152\"],[0.1,\"#c51b7d\"],[0.2,\"#de77ae\"],[0.3,\"#f1b6da\"],[0.4,\"#fde0ef\"],[0.5,\"#f7f7f7\"],[0.6,\"#e6f5d0\"],[0.7,\"#b8e186\"],[0.8,\"#7fbc41\"],[0.9,\"#4d9221\"],[1,\"#276419\"]]},\"xaxis\":{\"gridcolor\":\"white\",\"linecolor\":\"white\",\"ticks\":\"\",\"title\":{\"standoff\":15},\"zerolinecolor\":\"white\",\"automargin\":true,\"zerolinewidth\":2},\"yaxis\":{\"gridcolor\":\"white\",\"linecolor\":\"white\",\"ticks\":\"\",\"title\":{\"standoff\":15},\"zerolinecolor\":\"white\",\"automargin\":true,\"zerolinewidth\":2},\"scene\":{\"xaxis\":{\"backgroundcolor\":\"#E5ECF6\",\"gridcolor\":\"white\",\"linecolor\":\"white\",\"showbackground\":true,\"ticks\":\"\",\"zerolinecolor\":\"white\",\"gridwidth\":2},\"yaxis\":{\"backgroundcolor\":\"#E5ECF6\",\"gridcolor\":\"white\",\"linecolor\":\"white\",\"showbackground\":true,\"ticks\":\"\",\"zerolinecolor\":\"white\",\"gridwidth\":2},\"zaxis\":{\"backgroundcolor\":\"#E5ECF6\",\"gridcolor\":\"white\",\"linecolor\":\"white\",\"showbackground\":true,\"ticks\":\"\",\"zerolinecolor\":\"white\",\"gridwidth\":2}},\"shapedefaults\":{\"line\":{\"color\":\"#2a3f5f\"}},\"annotationdefaults\":{\"arrowcolor\":\"#2a3f5f\",\"arrowhead\":0,\"arrowwidth\":1},\"geo\":{\"bgcolor\":\"white\",\"landcolor\":\"#E5ECF6\",\"subunitcolor\":\"white\",\"showland\":true,\"showlakes\":true,\"lakecolor\":\"white\"},\"title\":{\"x\":0.05},\"mapbox\":{\"style\":\"light\"}}},\"scene\":{\"domain\":{\"x\":[0.0,1.0],\"y\":[0.0,1.0]},\"xaxis\":{\"title\":{\"text\":\"x\"}},\"yaxis\":{\"title\":{\"text\":\"y\"}},\"zaxis\":{\"title\":{\"text\":\"z\"}}},\"legend\":{\"tracegroupgap\":0},\"margin\":{\"t\":60}},                        {\"responsive\": true}                    ).then(function(){\n",
              "                            \n",
              "var gd = document.getElementById('cd7632bc-5562-430f-86b0-0252d4219384');\n",
              "var x = new MutationObserver(function (mutations, observer) {{\n",
              "        var display = window.getComputedStyle(gd).display;\n",
              "        if (!display || display === 'none') {{\n",
              "            console.log([gd, 'removed!']);\n",
              "            Plotly.purge(gd);\n",
              "            observer.disconnect();\n",
              "        }}\n",
              "}});\n",
              "\n",
              "// Listen for the removal of the full notebook cells\n",
              "var notebookContainer = gd.closest('#notebook-container');\n",
              "if (notebookContainer) {{\n",
              "    x.observe(notebookContainer, {childList: true});\n",
              "}}\n",
              "\n",
              "// Listen for the clearing of the current output cell\n",
              "var outputEl = gd.closest('.output');\n",
              "if (outputEl) {{\n",
              "    x.observe(outputEl, {childList: true});\n",
              "}}\n",
              "\n",
              "                        })                };                            </script>        </div>\n",
              "</body>\n",
              "</html>"
            ]
          },
          "metadata": {}
        }
      ]
    },
    {
      "cell_type": "markdown",
      "source": [
        "# Anotaciones\n",
        "\n",
        "* NLTK no pasa a minúsculas el texto por su cuenta\n",
        "* Spacy algunas palabras las reemplaza por su Tag (como \" ' \")\n",
        "* Spacy descompone palabras\n",
        "\n",
        "Diferentes embeddings capturan diferentes relaciones semánticas y en distinto grado:\n",
        "\n",
        "* En los embeddings de Glove morning está muy relacionado con los saludos y este comportamiento podría no ser deseado.\n",
        "* En los embeddings de Fasttext la similitud entre los dos grupos de palabras elegidas no es tan alta.\n"
      ],
      "metadata": {
        "id": "lbD_rc7AJBL0"
      }
    },
    {
      "cell_type": "markdown",
      "source": [
        "|Término| Definición|\n",
        "|-------------------------------|-------------------------|\n",
        "| Derivación (Stemming)         | El proceso de reducir las palabras a su raíz común mediante la eliminación de sufijos y prefijos. Ejemplo: Reducir \"running\", \"runner\" y \"runs\" a \"run\". |\n",
        "| Distancia Coseno              | Una medida de similitud entre dos vectores que calcula el coseno del ángulo entre ellos. Ejemplo: La distancia coseno entre los vectores de \"king\" y \"queen\" es pequeña debido a su alta similitud. |\n",
        "| Embedding                     | Representaciones vectoriales de objetos, comúnmente palabras o frases, en un espacio de alta dimensión. En el contexto de procesamiento del lenguaje natural (NLP), los embeddings son utilizados para capturar las relaciones semánticas entre palabras. Los embeddings permiten que palabras con significados similares tengan representaciones vectoriales cercanas entre sí en el espacio vectorial. |\n",
        "| FastText                      | Un método para obtener representaciones vectoriales de palabras que tiene en cuenta sub-palabras. [Paper: https://arxiv.org/abs/1607.04606](https://arxiv.org/abs/1607.04606) |\n",
        "| Filtrado de puntuación        | Eliminar signos de puntuación del texto. |\n",
        "| Filtrado de puntuación (spaCy) | Eliminar signos de puntuación del texto. |\n",
        "| Filtrado de stopwords         | Eliminar palabras comunes que no aportan mucho significado. |\n",
        "| Filtrado de stopwords (spaCy) | Eliminar palabras comunes que no aportan mucho significado. |\n",
        "| GloVe                         | Un algoritmo de aprendizaje no supervisado para obtener representaciones vectoriales de palabras. [Paper: https://nlp.stanford.edu/pubs/glove.pdf](https://nlp.stanford.edu/pubs/glove.pdf) |\n",
        "| Lematización (Lemmatization)  | El proceso de transformar las palabras a su forma base o raíz, conocida como lema. Ejemplo: Transformar \"running\" y \"ran\" a \"run\". |\n",
        "| Lematización                  | Transformar las palabras a su forma base o raíz. |\n",
        "| Pickle                        | Un formato de datos serializados en Python que permite guardar y cargar objetos de Python. Ejemplo: Guardar embeddings en un archivo para su uso posterior. |\n",
        "| Pipeline completo de preprocesamiento (NLTK) | Secuencia de tokenización, lematización, filtrado de stopwords y eliminación de puntuación. |\n",
        "| Pipeline de preprocesamiento  | Una secuencia de pasos para transformar y limpiar los datos de texto antes de analizarlos. Ejemplo: Tokenization → Lemmatization → Remove stopwords → Remove punctuation. |\n",
        "| Stopwords                     | Palabras comunes en un idioma que se filtran durante el procesamiento del texto porque no aportan mucho significado semántico. Ejemplo: \"the\", \"is\", \"in\", \"and\". |\n",
        "| Tokenización (Tokenization)   | El proceso de dividir un texto en unidades más pequeñas llamadas tokens (pueden ser palabras, caracteres o subpalabras). Ejemplo: Dividir \"Hello, world!\" en [\"Hello\", \",\", \"world\", \"!\"]. |\n",
        "| Tokenización                  | Dividir un texto en tokens individuales. |\n",
        "| Tokenización y lematización (spaCy) | Dividir el texto en tokens y transformarlos a su forma base. |\n",
        "| Word Embeddings               | Representación vectorial de palabras que capturan su significado semántico en un espacio continuo. Ejemplo: En un espacio de embedding, las palabras \"king\", \"queen\" y \"royal\" estarán cerca unas de otras. |"
      ],
      "metadata": {
        "id": "tsg_YBnLLWzn"
      }
    },
    {
      "cell_type": "markdown",
      "source": [
        "Slack\n",
        "* https://join.slack.com/t/ceaiworkspace/shared_invite/zt-2l9un8yte-yWrXdu7msfCwr32VG6RIgQ\n",
        "\n",
        "Github\n",
        "* https://github.com/FIUBA-Posgrado-Inteligencia-Artificial/procesamiento_lenguaje_natural/blob/main/clase_1/ejercicios/Desafio_1.ipynb\n",
        "\n",
        "Drive\n",
        "* https://drive.google.com/drive/u/0/folders/1joS44xgaoCKapc44WmkjcZyjWJh4tQz0\n",
        "\n",
        "Colab TP1 Hans\n",
        "* https://colab.research.google.com/drive/1i8RKpItdi4zrKb1aW7OJkdCls0Exgp2b?usp=sharing\n",
        "\n",
        "Datasets for LLM Training\n",
        "* https://github.com/Zjh-819/LLMDataHub\n"
      ],
      "metadata": {
        "id": "6Kx60a3cgUGp"
      }
    },
    {
      "cell_type": "markdown",
      "source": [
        "NLTK cuenta con una extensiva documentación que vale la pena consultar\n",
        "https://www.nltk.org"
      ],
      "metadata": {
        "id": "GJvaZGThutSJ"
      }
    }
  ]
}